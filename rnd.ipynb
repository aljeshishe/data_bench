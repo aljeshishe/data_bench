{
 "cells": [
  {
   "cell_type": "code",
   "execution_count": 1,
   "metadata": {},
   "outputs": [],
   "source": [
    "%load_ext autoreload\n",
    "%autoreload 2"
   ]
  },
  {
   "cell_type": "code",
   "execution_count": 2,
   "metadata": {},
   "outputs": [],
   "source": [
    "from data_bench import utils\n",
    "from pathlib import Path\n",
    "import pandas as pd\n",
    "import ray \n",
    "import random \n",
    "import os\n",
    "\n",
    "\n",
    "ray.data.DataContext.get_current().execution_options.verbose_progress = True"
   ]
  },
  {
   "cell_type": "code",
   "execution_count": 3,
   "metadata": {},
   "outputs": [
    {
     "data": {
      "text/plain": [
       "True"
      ]
     },
     "execution_count": 3,
     "metadata": {},
     "output_type": "execute_result"
    }
   ],
   "source": [
    "import dotenv\n",
    "dotenv.load_dotenv()"
   ]
  },
  {
   "cell_type": "code",
   "execution_count": 13,
   "metadata": {},
   "outputs": [],
   "source": [
    "df = utils.pandas_df(rows=800_000, cols=100)\n",
    "df.to_parquet(\"s3://tmp-grachev/data.parquet\")"
   ]
  },
  {
   "cell_type": "code",
   "execution_count": 17,
   "metadata": {},
   "outputs": [],
   "source": [
    "import numpy as np\n",
    "tmp_path = f\"/tmp/0.npy\"\n",
    "np.save(tmp_path, df.to_numpy())\n",
    "utils.upload_file(tmp_path, \"s3://tmp-grachev/data.npy\")\n"
   ]
  },
  {
   "cell_type": "code",
   "execution_count": 15,
   "metadata": {},
   "outputs": [
    {
     "data": {
      "text/plain": [
       "array([[0.16885908, 0.3810236 , 0.06381395, ..., 0.09023152, 0.6450554 ,\n",
       "        0.5343601 ],\n",
       "       [0.2930321 , 0.16609222, 0.164242  , ..., 0.83776534, 0.7111268 ,\n",
       "        0.5001029 ],\n",
       "       [0.7870635 , 0.11986373, 0.289587  , ..., 0.62812537, 0.78423584,\n",
       "        0.06989264],\n",
       "       ...,\n",
       "       [0.53879195, 0.02248595, 0.22709401, ..., 0.0163726 , 0.29593125,\n",
       "        0.651006  ],\n",
       "       [0.9405377 , 0.8322304 , 0.01153147, ..., 0.6723874 , 0.46919557,\n",
       "        0.03489489],\n",
       "       [0.6330204 , 0.9757051 , 0.6625601 , ..., 0.07613978, 0.89993006,\n",
       "        0.4458854 ]], dtype=float32)"
      ]
     },
     "execution_count": 15,
     "metadata": {},
     "output_type": "execute_result"
    }
   ],
   "source": [
    "df.to_numpy()"
   ]
  },
  {
   "cell_type": "code",
   "execution_count": 11,
   "metadata": {},
   "outputs": [
    {
     "data": {
      "text/html": [
       "<div>\n",
       "<style scoped>\n",
       "    .dataframe tbody tr th:only-of-type {\n",
       "        vertical-align: middle;\n",
       "    }\n",
       "\n",
       "    .dataframe tbody tr th {\n",
       "        vertical-align: top;\n",
       "    }\n",
       "\n",
       "    .dataframe thead th {\n",
       "        text-align: right;\n",
       "    }\n",
       "</style>\n",
       "<table border=\"1\" class=\"dataframe\">\n",
       "  <thead>\n",
       "    <tr style=\"text-align: right;\">\n",
       "      <th></th>\n",
       "      <th>BNNS/__COIN__USDT/vwap_es_5_sig_0.1</th>\n",
       "      <th>BNNS/__COIN__USDT/vwap_es_5_sig_1</th>\n",
       "      <th>BNNS/__COIN__USDT/vwap_es_5_sig_10</th>\n",
       "      <th>BNNS/__COIN__USDT/vwap_es_5_sig_30</th>\n",
       "      <th>BNNS/__COIN__USDT/vwap_es_5_sig_300</th>\n",
       "      <th>BNNS/__COIN__USDT/vwap_es_25_sig_0.1</th>\n",
       "      <th>BNNS/__COIN__USDT/vwap_es_25_sig_1</th>\n",
       "      <th>BNN/__COIN__USDT/vwap_es_5_sig_0.1</th>\n",
       "      <th>BNN/__COIN__USDT/vwap_es_5_sig_1</th>\n",
       "      <th>BNN/__COIN__USDT/vwap_es_5_sig_10</th>\n",
       "      <th>...</th>\n",
       "      <th>BNN/__COIN__USDT/vwap_es_5_sig_10_max_10</th>\n",
       "      <th>BNN/__COIN__USDT/trade_cum_to_book_0.1/50</th>\n",
       "      <th>BNN/__COIN__USDT/trade_cum_to_book_1/50</th>\n",
       "      <th>BNN/__COIN__USDT/trade_cum_to_book_10/50</th>\n",
       "      <th>BNN/__COIN__USDT/trade_cum_to_book_300/50</th>\n",
       "      <th>BNNS/BTCUSDT/vwap_s_120_sig_0.1</th>\n",
       "      <th>BNNS/BTCUSDT/vwap_s_120_sig_1</th>\n",
       "      <th>BNNS/BTCUSDT/vwap_s_120_sig_10</th>\n",
       "      <th>BNNS/BTCUSDT/vwap_s_120_sig_30</th>\n",
       "      <th>BNNS/BTCUSDT/vwap_s_120_sig_300</th>\n",
       "    </tr>\n",
       "  </thead>\n",
       "  <tbody>\n",
       "    <tr>\n",
       "      <th>2023-11-07 00:00:00.102281</th>\n",
       "      <td>-0.000068</td>\n",
       "      <td>-0.000370</td>\n",
       "      <td>-0.000995</td>\n",
       "      <td>-0.001170</td>\n",
       "      <td>-0.000359</td>\n",
       "      <td>-0.000051</td>\n",
       "      <td>-0.000374</td>\n",
       "      <td>-0.000154</td>\n",
       "      <td>-0.000513</td>\n",
       "      <td>-0.001370</td>\n",
       "      <td>...</td>\n",
       "      <td>0.001149</td>\n",
       "      <td>0.001530</td>\n",
       "      <td>0.006822</td>\n",
       "      <td>0.040780</td>\n",
       "      <td>0.528685</td>\n",
       "      <td>3.291099e-05</td>\n",
       "      <td>0.000060</td>\n",
       "      <td>0.000145</td>\n",
       "      <td>0.000317</td>\n",
       "      <td>0.000781</td>\n",
       "    </tr>\n",
       "    <tr>\n",
       "      <th>2023-11-07 00:00:00.304278</th>\n",
       "      <td>-0.000232</td>\n",
       "      <td>-0.000769</td>\n",
       "      <td>-0.001484</td>\n",
       "      <td>-0.001675</td>\n",
       "      <td>-0.000874</td>\n",
       "      <td>-0.000240</td>\n",
       "      <td>-0.000821</td>\n",
       "      <td>-0.000197</td>\n",
       "      <td>-0.000716</td>\n",
       "      <td>-0.001651</td>\n",
       "      <td>...</td>\n",
       "      <td>0.001149</td>\n",
       "      <td>0.000569</td>\n",
       "      <td>0.005822</td>\n",
       "      <td>0.040877</td>\n",
       "      <td>0.537657</td>\n",
       "      <td>5.208694e-07</td>\n",
       "      <td>0.000025</td>\n",
       "      <td>0.000113</td>\n",
       "      <td>0.000285</td>\n",
       "      <td>0.000751</td>\n",
       "    </tr>\n",
       "    <tr>\n",
       "      <th>2023-11-07 00:00:00.508552</th>\n",
       "      <td>-0.000041</td>\n",
       "      <td>-0.000687</td>\n",
       "      <td>-0.001525</td>\n",
       "      <td>-0.001735</td>\n",
       "      <td>-0.000945</td>\n",
       "      <td>-0.000036</td>\n",
       "      <td>-0.000727</td>\n",
       "      <td>-0.000061</td>\n",
       "      <td>-0.000680</td>\n",
       "      <td>-0.001727</td>\n",
       "      <td>...</td>\n",
       "      <td>0.001149</td>\n",
       "      <td>0.000365</td>\n",
       "      <td>0.005259</td>\n",
       "      <td>0.042236</td>\n",
       "      <td>0.559824</td>\n",
       "      <td>2.215779e-06</td>\n",
       "      <td>0.000039</td>\n",
       "      <td>0.000134</td>\n",
       "      <td>0.000306</td>\n",
       "      <td>0.000774</td>\n",
       "    </tr>\n",
       "    <tr>\n",
       "      <th>2023-11-07 00:00:00.709523</th>\n",
       "      <td>0.000211</td>\n",
       "      <td>0.000120</td>\n",
       "      <td>-0.000722</td>\n",
       "      <td>-0.000944</td>\n",
       "      <td>-0.000161</td>\n",
       "      <td>0.000212</td>\n",
       "      <td>0.000137</td>\n",
       "      <td>0.000235</td>\n",
       "      <td>0.000078</td>\n",
       "      <td>-0.000977</td>\n",
       "      <td>...</td>\n",
       "      <td>0.001149</td>\n",
       "      <td>0.016073</td>\n",
       "      <td>0.041729</td>\n",
       "      <td>0.082016</td>\n",
       "      <td>0.579105</td>\n",
       "      <td>2.193842e-06</td>\n",
       "      <td>0.000036</td>\n",
       "      <td>0.000136</td>\n",
       "      <td>0.000309</td>\n",
       "      <td>0.000778</td>\n",
       "    </tr>\n",
       "    <tr>\n",
       "      <th>2023-11-07 00:00:00.910234</th>\n",
       "      <td>-0.000247</td>\n",
       "      <td>-0.000548</td>\n",
       "      <td>-0.001423</td>\n",
       "      <td>-0.001658</td>\n",
       "      <td>-0.000884</td>\n",
       "      <td>-0.000317</td>\n",
       "      <td>-0.000659</td>\n",
       "      <td>-0.000179</td>\n",
       "      <td>-0.000173</td>\n",
       "      <td>-0.001187</td>\n",
       "      <td>...</td>\n",
       "      <td>0.001149</td>\n",
       "      <td>0.008977</td>\n",
       "      <td>0.043374</td>\n",
       "      <td>0.091245</td>\n",
       "      <td>0.603096</td>\n",
       "      <td>-4.034130e-06</td>\n",
       "      <td>0.000026</td>\n",
       "      <td>0.000130</td>\n",
       "      <td>0.000304</td>\n",
       "      <td>0.000775</td>\n",
       "    </tr>\n",
       "    <tr>\n",
       "      <th>...</th>\n",
       "      <td>...</td>\n",
       "      <td>...</td>\n",
       "      <td>...</td>\n",
       "      <td>...</td>\n",
       "      <td>...</td>\n",
       "      <td>...</td>\n",
       "      <td>...</td>\n",
       "      <td>...</td>\n",
       "      <td>...</td>\n",
       "      <td>...</td>\n",
       "      <td>...</td>\n",
       "      <td>...</td>\n",
       "      <td>...</td>\n",
       "      <td>...</td>\n",
       "      <td>...</td>\n",
       "      <td>...</td>\n",
       "      <td>...</td>\n",
       "      <td>...</td>\n",
       "      <td>...</td>\n",
       "      <td>...</td>\n",
       "      <td>...</td>\n",
       "    </tr>\n",
       "    <tr>\n",
       "      <th>2023-11-07 05:59:56.784585</th>\n",
       "      <td>0.000002</td>\n",
       "      <td>0.000001</td>\n",
       "      <td>-0.000309</td>\n",
       "      <td>-0.000724</td>\n",
       "      <td>-0.001058</td>\n",
       "      <td>0.000010</td>\n",
       "      <td>0.000017</td>\n",
       "      <td>0.000091</td>\n",
       "      <td>0.000216</td>\n",
       "      <td>-0.000126</td>\n",
       "      <td>...</td>\n",
       "      <td>0.000007</td>\n",
       "      <td>0.000070</td>\n",
       "      <td>0.000991</td>\n",
       "      <td>0.009411</td>\n",
       "      <td>1.166259</td>\n",
       "      <td>7.308411e-07</td>\n",
       "      <td>0.000002</td>\n",
       "      <td>-0.000012</td>\n",
       "      <td>0.000022</td>\n",
       "      <td>0.000258</td>\n",
       "    </tr>\n",
       "    <tr>\n",
       "      <th>2023-11-07 05:59:56.986921</th>\n",
       "      <td>0.000056</td>\n",
       "      <td>0.000066</td>\n",
       "      <td>-0.000237</td>\n",
       "      <td>-0.000653</td>\n",
       "      <td>-0.000992</td>\n",
       "      <td>0.000053</td>\n",
       "      <td>0.000073</td>\n",
       "      <td>0.000043</td>\n",
       "      <td>0.000228</td>\n",
       "      <td>-0.000068</td>\n",
       "      <td>...</td>\n",
       "      <td>0.000007</td>\n",
       "      <td>0.000066</td>\n",
       "      <td>0.000945</td>\n",
       "      <td>0.009215</td>\n",
       "      <td>1.161316</td>\n",
       "      <td>1.820771e-06</td>\n",
       "      <td>0.000004</td>\n",
       "      <td>-0.000009</td>\n",
       "      <td>0.000024</td>\n",
       "      <td>0.000261</td>\n",
       "    </tr>\n",
       "    <tr>\n",
       "      <th>2023-11-07 05:59:57.187892</th>\n",
       "      <td>0.000039</td>\n",
       "      <td>0.000133</td>\n",
       "      <td>-0.000144</td>\n",
       "      <td>-0.000560</td>\n",
       "      <td>-0.000902</td>\n",
       "      <td>0.000027</td>\n",
       "      <td>0.000115</td>\n",
       "      <td>0.000022</td>\n",
       "      <td>0.000223</td>\n",
       "      <td>-0.000027</td>\n",
       "      <td>...</td>\n",
       "      <td>0.000007</td>\n",
       "      <td>0.000064</td>\n",
       "      <td>0.000924</td>\n",
       "      <td>0.009246</td>\n",
       "      <td>1.172976</td>\n",
       "      <td>-3.532985e-07</td>\n",
       "      <td>0.000004</td>\n",
       "      <td>-0.000008</td>\n",
       "      <td>0.000025</td>\n",
       "      <td>0.000261</td>\n",
       "    </tr>\n",
       "    <tr>\n",
       "      <th>2023-11-07 05:59:57.388143</th>\n",
       "      <td>0.000008</td>\n",
       "      <td>0.000113</td>\n",
       "      <td>-0.000137</td>\n",
       "      <td>-0.000552</td>\n",
       "      <td>-0.000897</td>\n",
       "      <td>0.000003</td>\n",
       "      <td>0.000092</td>\n",
       "      <td>0.000004</td>\n",
       "      <td>0.000182</td>\n",
       "      <td>-0.000029</td>\n",
       "      <td>...</td>\n",
       "      <td>0.000007</td>\n",
       "      <td>0.000061</td>\n",
       "      <td>0.000889</td>\n",
       "      <td>0.009111</td>\n",
       "      <td>1.171991</td>\n",
       "      <td>-1.288351e-07</td>\n",
       "      <td>0.000004</td>\n",
       "      <td>-0.000007</td>\n",
       "      <td>0.000026</td>\n",
       "      <td>0.000263</td>\n",
       "    </tr>\n",
       "    <tr>\n",
       "      <th>2023-11-07 05:59:57.588228</th>\n",
       "      <td>-0.000050</td>\n",
       "      <td>0.000009</td>\n",
       "      <td>-0.000222</td>\n",
       "      <td>-0.000636</td>\n",
       "      <td>-0.000985</td>\n",
       "      <td>-0.000048</td>\n",
       "      <td>-0.000004</td>\n",
       "      <td>0.000005</td>\n",
       "      <td>0.000163</td>\n",
       "      <td>-0.000014</td>\n",
       "      <td>...</td>\n",
       "      <td>0.000020</td>\n",
       "      <td>0.000059</td>\n",
       "      <td>0.000865</td>\n",
       "      <td>0.009070</td>\n",
       "      <td>1.178000</td>\n",
       "      <td>2.077135e-06</td>\n",
       "      <td>0.000004</td>\n",
       "      <td>-0.000007</td>\n",
       "      <td>0.000026</td>\n",
       "      <td>0.000262</td>\n",
       "    </tr>\n",
       "  </tbody>\n",
       "</table>\n",
       "<p>106981 rows × 68 columns</p>\n",
       "</div>"
      ],
      "text/plain": [
       "                            BNNS/__COIN__USDT/vwap_es_5_sig_0.1  \\\n",
       "2023-11-07 00:00:00.102281                            -0.000068   \n",
       "2023-11-07 00:00:00.304278                            -0.000232   \n",
       "2023-11-07 00:00:00.508552                            -0.000041   \n",
       "2023-11-07 00:00:00.709523                             0.000211   \n",
       "2023-11-07 00:00:00.910234                            -0.000247   \n",
       "...                                                         ...   \n",
       "2023-11-07 05:59:56.784585                             0.000002   \n",
       "2023-11-07 05:59:56.986921                             0.000056   \n",
       "2023-11-07 05:59:57.187892                             0.000039   \n",
       "2023-11-07 05:59:57.388143                             0.000008   \n",
       "2023-11-07 05:59:57.588228                            -0.000050   \n",
       "\n",
       "                            BNNS/__COIN__USDT/vwap_es_5_sig_1  \\\n",
       "2023-11-07 00:00:00.102281                          -0.000370   \n",
       "2023-11-07 00:00:00.304278                          -0.000769   \n",
       "2023-11-07 00:00:00.508552                          -0.000687   \n",
       "2023-11-07 00:00:00.709523                           0.000120   \n",
       "2023-11-07 00:00:00.910234                          -0.000548   \n",
       "...                                                       ...   \n",
       "2023-11-07 05:59:56.784585                           0.000001   \n",
       "2023-11-07 05:59:56.986921                           0.000066   \n",
       "2023-11-07 05:59:57.187892                           0.000133   \n",
       "2023-11-07 05:59:57.388143                           0.000113   \n",
       "2023-11-07 05:59:57.588228                           0.000009   \n",
       "\n",
       "                            BNNS/__COIN__USDT/vwap_es_5_sig_10  \\\n",
       "2023-11-07 00:00:00.102281                           -0.000995   \n",
       "2023-11-07 00:00:00.304278                           -0.001484   \n",
       "2023-11-07 00:00:00.508552                           -0.001525   \n",
       "2023-11-07 00:00:00.709523                           -0.000722   \n",
       "2023-11-07 00:00:00.910234                           -0.001423   \n",
       "...                                                        ...   \n",
       "2023-11-07 05:59:56.784585                           -0.000309   \n",
       "2023-11-07 05:59:56.986921                           -0.000237   \n",
       "2023-11-07 05:59:57.187892                           -0.000144   \n",
       "2023-11-07 05:59:57.388143                           -0.000137   \n",
       "2023-11-07 05:59:57.588228                           -0.000222   \n",
       "\n",
       "                            BNNS/__COIN__USDT/vwap_es_5_sig_30  \\\n",
       "2023-11-07 00:00:00.102281                           -0.001170   \n",
       "2023-11-07 00:00:00.304278                           -0.001675   \n",
       "2023-11-07 00:00:00.508552                           -0.001735   \n",
       "2023-11-07 00:00:00.709523                           -0.000944   \n",
       "2023-11-07 00:00:00.910234                           -0.001658   \n",
       "...                                                        ...   \n",
       "2023-11-07 05:59:56.784585                           -0.000724   \n",
       "2023-11-07 05:59:56.986921                           -0.000653   \n",
       "2023-11-07 05:59:57.187892                           -0.000560   \n",
       "2023-11-07 05:59:57.388143                           -0.000552   \n",
       "2023-11-07 05:59:57.588228                           -0.000636   \n",
       "\n",
       "                            BNNS/__COIN__USDT/vwap_es_5_sig_300  \\\n",
       "2023-11-07 00:00:00.102281                            -0.000359   \n",
       "2023-11-07 00:00:00.304278                            -0.000874   \n",
       "2023-11-07 00:00:00.508552                            -0.000945   \n",
       "2023-11-07 00:00:00.709523                            -0.000161   \n",
       "2023-11-07 00:00:00.910234                            -0.000884   \n",
       "...                                                         ...   \n",
       "2023-11-07 05:59:56.784585                            -0.001058   \n",
       "2023-11-07 05:59:56.986921                            -0.000992   \n",
       "2023-11-07 05:59:57.187892                            -0.000902   \n",
       "2023-11-07 05:59:57.388143                            -0.000897   \n",
       "2023-11-07 05:59:57.588228                            -0.000985   \n",
       "\n",
       "                            BNNS/__COIN__USDT/vwap_es_25_sig_0.1  \\\n",
       "2023-11-07 00:00:00.102281                             -0.000051   \n",
       "2023-11-07 00:00:00.304278                             -0.000240   \n",
       "2023-11-07 00:00:00.508552                             -0.000036   \n",
       "2023-11-07 00:00:00.709523                              0.000212   \n",
       "2023-11-07 00:00:00.910234                             -0.000317   \n",
       "...                                                          ...   \n",
       "2023-11-07 05:59:56.784585                              0.000010   \n",
       "2023-11-07 05:59:56.986921                              0.000053   \n",
       "2023-11-07 05:59:57.187892                              0.000027   \n",
       "2023-11-07 05:59:57.388143                              0.000003   \n",
       "2023-11-07 05:59:57.588228                             -0.000048   \n",
       "\n",
       "                            BNNS/__COIN__USDT/vwap_es_25_sig_1  \\\n",
       "2023-11-07 00:00:00.102281                           -0.000374   \n",
       "2023-11-07 00:00:00.304278                           -0.000821   \n",
       "2023-11-07 00:00:00.508552                           -0.000727   \n",
       "2023-11-07 00:00:00.709523                            0.000137   \n",
       "2023-11-07 00:00:00.910234                           -0.000659   \n",
       "...                                                        ...   \n",
       "2023-11-07 05:59:56.784585                            0.000017   \n",
       "2023-11-07 05:59:56.986921                            0.000073   \n",
       "2023-11-07 05:59:57.187892                            0.000115   \n",
       "2023-11-07 05:59:57.388143                            0.000092   \n",
       "2023-11-07 05:59:57.588228                           -0.000004   \n",
       "\n",
       "                            BNN/__COIN__USDT/vwap_es_5_sig_0.1  \\\n",
       "2023-11-07 00:00:00.102281                           -0.000154   \n",
       "2023-11-07 00:00:00.304278                           -0.000197   \n",
       "2023-11-07 00:00:00.508552                           -0.000061   \n",
       "2023-11-07 00:00:00.709523                            0.000235   \n",
       "2023-11-07 00:00:00.910234                           -0.000179   \n",
       "...                                                        ...   \n",
       "2023-11-07 05:59:56.784585                            0.000091   \n",
       "2023-11-07 05:59:56.986921                            0.000043   \n",
       "2023-11-07 05:59:57.187892                            0.000022   \n",
       "2023-11-07 05:59:57.388143                            0.000004   \n",
       "2023-11-07 05:59:57.588228                            0.000005   \n",
       "\n",
       "                            BNN/__COIN__USDT/vwap_es_5_sig_1  \\\n",
       "2023-11-07 00:00:00.102281                         -0.000513   \n",
       "2023-11-07 00:00:00.304278                         -0.000716   \n",
       "2023-11-07 00:00:00.508552                         -0.000680   \n",
       "2023-11-07 00:00:00.709523                          0.000078   \n",
       "2023-11-07 00:00:00.910234                         -0.000173   \n",
       "...                                                      ...   \n",
       "2023-11-07 05:59:56.784585                          0.000216   \n",
       "2023-11-07 05:59:56.986921                          0.000228   \n",
       "2023-11-07 05:59:57.187892                          0.000223   \n",
       "2023-11-07 05:59:57.388143                          0.000182   \n",
       "2023-11-07 05:59:57.588228                          0.000163   \n",
       "\n",
       "                            BNN/__COIN__USDT/vwap_es_5_sig_10  ...  \\\n",
       "2023-11-07 00:00:00.102281                          -0.001370  ...   \n",
       "2023-11-07 00:00:00.304278                          -0.001651  ...   \n",
       "2023-11-07 00:00:00.508552                          -0.001727  ...   \n",
       "2023-11-07 00:00:00.709523                          -0.000977  ...   \n",
       "2023-11-07 00:00:00.910234                          -0.001187  ...   \n",
       "...                                                       ...  ...   \n",
       "2023-11-07 05:59:56.784585                          -0.000126  ...   \n",
       "2023-11-07 05:59:56.986921                          -0.000068  ...   \n",
       "2023-11-07 05:59:57.187892                          -0.000027  ...   \n",
       "2023-11-07 05:59:57.388143                          -0.000029  ...   \n",
       "2023-11-07 05:59:57.588228                          -0.000014  ...   \n",
       "\n",
       "                            BNN/__COIN__USDT/vwap_es_5_sig_10_max_10  \\\n",
       "2023-11-07 00:00:00.102281                                  0.001149   \n",
       "2023-11-07 00:00:00.304278                                  0.001149   \n",
       "2023-11-07 00:00:00.508552                                  0.001149   \n",
       "2023-11-07 00:00:00.709523                                  0.001149   \n",
       "2023-11-07 00:00:00.910234                                  0.001149   \n",
       "...                                                              ...   \n",
       "2023-11-07 05:59:56.784585                                  0.000007   \n",
       "2023-11-07 05:59:56.986921                                  0.000007   \n",
       "2023-11-07 05:59:57.187892                                  0.000007   \n",
       "2023-11-07 05:59:57.388143                                  0.000007   \n",
       "2023-11-07 05:59:57.588228                                  0.000020   \n",
       "\n",
       "                            BNN/__COIN__USDT/trade_cum_to_book_0.1/50  \\\n",
       "2023-11-07 00:00:00.102281                                   0.001530   \n",
       "2023-11-07 00:00:00.304278                                   0.000569   \n",
       "2023-11-07 00:00:00.508552                                   0.000365   \n",
       "2023-11-07 00:00:00.709523                                   0.016073   \n",
       "2023-11-07 00:00:00.910234                                   0.008977   \n",
       "...                                                               ...   \n",
       "2023-11-07 05:59:56.784585                                   0.000070   \n",
       "2023-11-07 05:59:56.986921                                   0.000066   \n",
       "2023-11-07 05:59:57.187892                                   0.000064   \n",
       "2023-11-07 05:59:57.388143                                   0.000061   \n",
       "2023-11-07 05:59:57.588228                                   0.000059   \n",
       "\n",
       "                            BNN/__COIN__USDT/trade_cum_to_book_1/50  \\\n",
       "2023-11-07 00:00:00.102281                                 0.006822   \n",
       "2023-11-07 00:00:00.304278                                 0.005822   \n",
       "2023-11-07 00:00:00.508552                                 0.005259   \n",
       "2023-11-07 00:00:00.709523                                 0.041729   \n",
       "2023-11-07 00:00:00.910234                                 0.043374   \n",
       "...                                                             ...   \n",
       "2023-11-07 05:59:56.784585                                 0.000991   \n",
       "2023-11-07 05:59:56.986921                                 0.000945   \n",
       "2023-11-07 05:59:57.187892                                 0.000924   \n",
       "2023-11-07 05:59:57.388143                                 0.000889   \n",
       "2023-11-07 05:59:57.588228                                 0.000865   \n",
       "\n",
       "                            BNN/__COIN__USDT/trade_cum_to_book_10/50  \\\n",
       "2023-11-07 00:00:00.102281                                  0.040780   \n",
       "2023-11-07 00:00:00.304278                                  0.040877   \n",
       "2023-11-07 00:00:00.508552                                  0.042236   \n",
       "2023-11-07 00:00:00.709523                                  0.082016   \n",
       "2023-11-07 00:00:00.910234                                  0.091245   \n",
       "...                                                              ...   \n",
       "2023-11-07 05:59:56.784585                                  0.009411   \n",
       "2023-11-07 05:59:56.986921                                  0.009215   \n",
       "2023-11-07 05:59:57.187892                                  0.009246   \n",
       "2023-11-07 05:59:57.388143                                  0.009111   \n",
       "2023-11-07 05:59:57.588228                                  0.009070   \n",
       "\n",
       "                            BNN/__COIN__USDT/trade_cum_to_book_300/50  \\\n",
       "2023-11-07 00:00:00.102281                                   0.528685   \n",
       "2023-11-07 00:00:00.304278                                   0.537657   \n",
       "2023-11-07 00:00:00.508552                                   0.559824   \n",
       "2023-11-07 00:00:00.709523                                   0.579105   \n",
       "2023-11-07 00:00:00.910234                                   0.603096   \n",
       "...                                                               ...   \n",
       "2023-11-07 05:59:56.784585                                   1.166259   \n",
       "2023-11-07 05:59:56.986921                                   1.161316   \n",
       "2023-11-07 05:59:57.187892                                   1.172976   \n",
       "2023-11-07 05:59:57.388143                                   1.171991   \n",
       "2023-11-07 05:59:57.588228                                   1.178000   \n",
       "\n",
       "                            BNNS/BTCUSDT/vwap_s_120_sig_0.1  \\\n",
       "2023-11-07 00:00:00.102281                     3.291099e-05   \n",
       "2023-11-07 00:00:00.304278                     5.208694e-07   \n",
       "2023-11-07 00:00:00.508552                     2.215779e-06   \n",
       "2023-11-07 00:00:00.709523                     2.193842e-06   \n",
       "2023-11-07 00:00:00.910234                    -4.034130e-06   \n",
       "...                                                     ...   \n",
       "2023-11-07 05:59:56.784585                     7.308411e-07   \n",
       "2023-11-07 05:59:56.986921                     1.820771e-06   \n",
       "2023-11-07 05:59:57.187892                    -3.532985e-07   \n",
       "2023-11-07 05:59:57.388143                    -1.288351e-07   \n",
       "2023-11-07 05:59:57.588228                     2.077135e-06   \n",
       "\n",
       "                            BNNS/BTCUSDT/vwap_s_120_sig_1  \\\n",
       "2023-11-07 00:00:00.102281                       0.000060   \n",
       "2023-11-07 00:00:00.304278                       0.000025   \n",
       "2023-11-07 00:00:00.508552                       0.000039   \n",
       "2023-11-07 00:00:00.709523                       0.000036   \n",
       "2023-11-07 00:00:00.910234                       0.000026   \n",
       "...                                                   ...   \n",
       "2023-11-07 05:59:56.784585                       0.000002   \n",
       "2023-11-07 05:59:56.986921                       0.000004   \n",
       "2023-11-07 05:59:57.187892                       0.000004   \n",
       "2023-11-07 05:59:57.388143                       0.000004   \n",
       "2023-11-07 05:59:57.588228                       0.000004   \n",
       "\n",
       "                            BNNS/BTCUSDT/vwap_s_120_sig_10  \\\n",
       "2023-11-07 00:00:00.102281                        0.000145   \n",
       "2023-11-07 00:00:00.304278                        0.000113   \n",
       "2023-11-07 00:00:00.508552                        0.000134   \n",
       "2023-11-07 00:00:00.709523                        0.000136   \n",
       "2023-11-07 00:00:00.910234                        0.000130   \n",
       "...                                                    ...   \n",
       "2023-11-07 05:59:56.784585                       -0.000012   \n",
       "2023-11-07 05:59:56.986921                       -0.000009   \n",
       "2023-11-07 05:59:57.187892                       -0.000008   \n",
       "2023-11-07 05:59:57.388143                       -0.000007   \n",
       "2023-11-07 05:59:57.588228                       -0.000007   \n",
       "\n",
       "                            BNNS/BTCUSDT/vwap_s_120_sig_30  \\\n",
       "2023-11-07 00:00:00.102281                        0.000317   \n",
       "2023-11-07 00:00:00.304278                        0.000285   \n",
       "2023-11-07 00:00:00.508552                        0.000306   \n",
       "2023-11-07 00:00:00.709523                        0.000309   \n",
       "2023-11-07 00:00:00.910234                        0.000304   \n",
       "...                                                    ...   \n",
       "2023-11-07 05:59:56.784585                        0.000022   \n",
       "2023-11-07 05:59:56.986921                        0.000024   \n",
       "2023-11-07 05:59:57.187892                        0.000025   \n",
       "2023-11-07 05:59:57.388143                        0.000026   \n",
       "2023-11-07 05:59:57.588228                        0.000026   \n",
       "\n",
       "                            BNNS/BTCUSDT/vwap_s_120_sig_300  \n",
       "2023-11-07 00:00:00.102281                         0.000781  \n",
       "2023-11-07 00:00:00.304278                         0.000751  \n",
       "2023-11-07 00:00:00.508552                         0.000774  \n",
       "2023-11-07 00:00:00.709523                         0.000778  \n",
       "2023-11-07 00:00:00.910234                         0.000775  \n",
       "...                                                     ...  \n",
       "2023-11-07 05:59:56.784585                         0.000258  \n",
       "2023-11-07 05:59:56.986921                         0.000261  \n",
       "2023-11-07 05:59:57.187892                         0.000261  \n",
       "2023-11-07 05:59:57.388143                         0.000263  \n",
       "2023-11-07 05:59:57.588228                         0.000262  \n",
       "\n",
       "[106981 rows x 68 columns]"
      ]
     },
     "execution_count": 11,
     "metadata": {},
     "output_type": "execute_result"
    }
   ],
   "source": [
    "df = pd.read_parquet(\"s3://alblml/kaggle/preprocessing/240812_135916_QTZR/GAS_2023-11-07_00-00-00_21600s.parquet\")\n",
    "df = df[\"X\"]\n",
    "df = df.drop(columns=[\"COIN\"])\n",
    "df\n",
    "\n",
    "\n"
   ]
  },
  {
   "cell_type": "code",
   "execution_count": 12,
   "metadata": {},
   "outputs": [
    {
     "data": {
      "text/plain": [
       "tensor([[-6.8491e-05, -3.6966e-04, -9.9483e-04,  ...,  1.4530e-04,\n",
       "          3.1675e-04,  7.8124e-04],\n",
       "        [-2.3206e-04, -7.6883e-04, -1.4842e-03,  ...,  1.1330e-04,\n",
       "          2.8513e-04,  7.5104e-04],\n",
       "        [-4.0990e-05, -6.8676e-04, -1.5247e-03,  ...,  1.3357e-04,\n",
       "          3.0608e-04,  7.7356e-04],\n",
       "        ...,\n",
       "        [ 3.9463e-05,  1.3281e-04, -1.4436e-04,  ..., -8.4347e-06,\n",
       "          2.5077e-05,  2.6147e-04],\n",
       "        [ 8.2219e-06,  1.1291e-04, -1.3704e-04,  ..., -7.0306e-06,\n",
       "          2.6166e-05,  2.6256e-04],\n",
       "        [-5.0315e-05,  9.4958e-06, -2.2227e-04,  ..., -6.9600e-06,\n",
       "          2.5896e-05,  2.6227e-04]])"
      ]
     },
     "execution_count": 12,
     "metadata": {},
     "output_type": "execute_result"
    }
   ],
   "source": [
    "import torch\n",
    "torch.from_numpy(df.to_numpy())"
   ]
  },
  {
   "cell_type": "code",
   "execution_count": 23,
   "metadata": {},
   "outputs": [],
   "source": [
    "import numpy as np\n",
    "\n",
    "# Step 1: Create the dataset\n",
    "# Let's assume you have 100 samples\n",
    "n_samples = 100\n",
    "\n",
    "# Generate random data for 10 features\n",
    "features = np.random.rand(n_samples, 10)\n",
    "\n",
    "# Generate random data for the target\n",
    "target = np.random.randint(0, 2, size=(n_samples, 1))  # Assuming binary classification\n",
    "\n",
    "# Combine features and target into a single array\n",
    "dataset = np.hstack((features, target))"
   ]
  },
  {
   "cell_type": "code",
   "execution_count": 31,
   "metadata": {},
   "outputs": [
    {
     "data": {
      "text/plain": [
       "1.0"
      ]
     },
     "execution_count": 31,
     "metadata": {},
     "output_type": "execute_result"
    }
   ],
   "source": [
    "dataset[0][10]"
   ]
  },
  {
   "cell_type": "code",
   "execution_count": 25,
   "metadata": {},
   "outputs": [
    {
     "data": {
      "text/plain": [
       "(100, 11)"
      ]
     },
     "execution_count": 25,
     "metadata": {},
     "output_type": "execute_result"
    }
   ],
   "source": [
    "dataset.shape"
   ]
  },
  {
   "cell_type": "code",
   "execution_count": 19,
   "metadata": {},
   "outputs": [],
   "source": [
    "from urllib.parse import urlparse\n",
    "\n",
    "\n",
    "scheme, bucket, *other = urlparse(\"s3://ab-users/grachev/ray_benchmark/20gb.parquet/64.npy\")"
   ]
  },
  {
   "cell_type": "code",
   "execution_count": 20,
   "metadata": {},
   "outputs": [
    {
     "data": {
      "text/plain": [
       "'s3'"
      ]
     },
     "execution_count": 20,
     "metadata": {},
     "output_type": "execute_result"
    }
   ],
   "source": [
    "scheme"
   ]
  },
  {
   "cell_type": "code",
   "execution_count": 3,
   "metadata": {},
   "outputs": [
    {
     "name": "stderr",
     "output_type": "stream",
     "text": [
      "/home/ubuntu/data_bench/.venv/lib/python3.10/site-packages/torch/utils/data/dataloader.py:558: UserWarning: This DataLoader will create 32 worker processes in total. Our suggested max number of worker in current system is 16, which is smaller than what this DataLoader is going to create. Please be aware that excessive worker creation might get DataLoader running slow or even freeze, lower the worker number to avoid potential slowness/freeze if necessary.\n",
      "  warnings.warn(_create_warning_msg(\n"
     ]
    }
   ],
   "source": [
    "s3_shards = s3_shard_urls.load_files_by_s3()\n",
    "training_data = s3_shards.load_parquet_as_df()\n",
    "data_loader = DataLoader(\n",
    "      training_data,\n",
    "      batch_size=800000,\n",
    "      num_workers=32,\n",
    ")\n"
   ]
  },
  {
   "cell_type": "code",
   "execution_count": 6,
   "metadata": {},
   "outputs": [
    {
     "data": {
      "text/plain": [
       "torchdata.datapipes.iter.util.dataframemaker.ParquetDFLoaderIterDataPipe"
      ]
     },
     "execution_count": 6,
     "metadata": {},
     "output_type": "execute_result"
    }
   ],
   "source": [
    "type(training_data)"
   ]
  },
  {
   "cell_type": "code",
   "execution_count": 5,
   "metadata": {},
   "outputs": [
    {
     "name": "stderr",
     "output_type": "stream",
     "text": [
      "/home/ubuntu/data_bench/.venv/lib/python3.10/site-packages/torch/utils/data/dataloader.py:558: UserWarning: This DataLoader will create 32 worker processes in total. Our suggested max number of worker in current system is 16, which is smaller than what this DataLoader is going to create. Please be aware that excessive worker creation might get DataLoader running slow or even freeze, lower the worker number to avoid potential slowness/freeze if necessary.\n",
      "  warnings.warn(_create_warning_msg(\n"
     ]
    },
    {
     "ename": "TypeError",
     "evalue": "Caught TypeError in DataLoader worker process 0.\nOriginal Traceback (most recent call last):\n  File \"/home/ubuntu/data_bench/.venv/lib/python3.10/site-packages/torch/utils/data/_utils/worker.py\", line 308, in _worker_loop\n    data = fetcher.fetch(index)\n  File \"/home/ubuntu/data_bench/.venv/lib/python3.10/site-packages/torch/utils/data/_utils/fetch.py\", line 32, in fetch\n    data.append(next(self.dataset_iter))\n  File \"/home/ubuntu/data_bench/.venv/lib/python3.10/site-packages/torch/utils/data/datapipes/_hook_iterator.py\", line 152, in __next__\n    return self._get_next()\n  File \"/home/ubuntu/data_bench/.venv/lib/python3.10/site-packages/torch/utils/data/datapipes/_hook_iterator.py\", line 140, in _get_next\n    result = next(self.iterator)\n  File \"/home/ubuntu/data_bench/.venv/lib/python3.10/site-packages/torch/utils/data/datapipes/_hook_iterator.py\", line 224, in wrap_next\n    result = next_func(*args, **kwargs)\n  File \"/home/ubuntu/data_bench/.venv/lib/python3.10/site-packages/torch/utils/data/datapipes/datapipe.py\", line 390, in __next__\n    return next(self._datapipe_iter)\n  File \"/home/ubuntu/data_bench/.venv/lib/python3.10/site-packages/torch/utils/data/datapipes/_hook_iterator.py\", line 181, in wrap_generator\n    response = gen.send(None)\n  File \"/home/ubuntu/data_bench/.venv/lib/python3.10/site-packages/torchdata/datapipes/iter/util/dataframemaker.py\", line 145, in __iter__\n    parquet_file = parquet.ParquetFile(path)\n  File \"/home/ubuntu/data_bench/.venv/lib/python3.10/site-packages/pyarrow/parquet/core.py\", line 318, in __init__\n    self.reader.open(\n  File \"pyarrow/_parquet.pyx\", line 1467, in pyarrow._parquet.ParquetReader.open\n  File \"pyarrow/io.pxi\", line 2038, in pyarrow.lib.get_reader\n  File \"pyarrow/io.pxi\", line 2031, in pyarrow.lib.get_native_file\nTypeError: Cannot convert tuple to pyarrow.lib.NativeFile\nThis exception is thrown by __iter__ of ParquetDFLoaderIterDataPipe(columns=None, device='', dtype=None, source_dp=S3FileLoaderIterDataPipe, use_threads=False)\n",
     "output_type": "error",
     "traceback": [
      "\u001b[0;31m---------------------------------------------------------------------------\u001b[0m",
      "\u001b[0;31mTypeError\u001b[0m                                 Traceback (most recent call last)",
      "Cell \u001b[0;32mIn[5], line 1\u001b[0m\n\u001b[0;32m----> 1\u001b[0m \u001b[38;5;28;43mnext\u001b[39;49m\u001b[43m(\u001b[49m\u001b[38;5;28;43miter\u001b[39;49m\u001b[43m(\u001b[49m\u001b[43mdata_loader\u001b[49m\u001b[43m)\u001b[49m\u001b[43m)\u001b[49m\n",
      "File \u001b[0;32m~/data_bench/.venv/lib/python3.10/site-packages/torch/utils/data/dataloader.py:631\u001b[0m, in \u001b[0;36m_BaseDataLoaderIter.__next__\u001b[0;34m(self)\u001b[0m\n\u001b[1;32m    628\u001b[0m \u001b[38;5;28;01mif\u001b[39;00m \u001b[38;5;28mself\u001b[39m\u001b[38;5;241m.\u001b[39m_sampler_iter \u001b[38;5;129;01mis\u001b[39;00m \u001b[38;5;28;01mNone\u001b[39;00m:\n\u001b[1;32m    629\u001b[0m     \u001b[38;5;66;03m# TODO(https://github.com/pytorch/pytorch/issues/76750)\u001b[39;00m\n\u001b[1;32m    630\u001b[0m     \u001b[38;5;28mself\u001b[39m\u001b[38;5;241m.\u001b[39m_reset()  \u001b[38;5;66;03m# type: ignore[call-arg]\u001b[39;00m\n\u001b[0;32m--> 631\u001b[0m data \u001b[38;5;241m=\u001b[39m \u001b[38;5;28;43mself\u001b[39;49m\u001b[38;5;241;43m.\u001b[39;49m\u001b[43m_next_data\u001b[49m\u001b[43m(\u001b[49m\u001b[43m)\u001b[49m\n\u001b[1;32m    632\u001b[0m \u001b[38;5;28mself\u001b[39m\u001b[38;5;241m.\u001b[39m_num_yielded \u001b[38;5;241m+\u001b[39m\u001b[38;5;241m=\u001b[39m \u001b[38;5;241m1\u001b[39m\n\u001b[1;32m    633\u001b[0m \u001b[38;5;28;01mif\u001b[39;00m \u001b[38;5;28mself\u001b[39m\u001b[38;5;241m.\u001b[39m_dataset_kind \u001b[38;5;241m==\u001b[39m _DatasetKind\u001b[38;5;241m.\u001b[39mIterable \u001b[38;5;129;01mand\u001b[39;00m \\\n\u001b[1;32m    634\u001b[0m         \u001b[38;5;28mself\u001b[39m\u001b[38;5;241m.\u001b[39m_IterableDataset_len_called \u001b[38;5;129;01mis\u001b[39;00m \u001b[38;5;129;01mnot\u001b[39;00m \u001b[38;5;28;01mNone\u001b[39;00m \u001b[38;5;129;01mand\u001b[39;00m \\\n\u001b[1;32m    635\u001b[0m         \u001b[38;5;28mself\u001b[39m\u001b[38;5;241m.\u001b[39m_num_yielded \u001b[38;5;241m>\u001b[39m \u001b[38;5;28mself\u001b[39m\u001b[38;5;241m.\u001b[39m_IterableDataset_len_called:\n",
      "File \u001b[0;32m~/data_bench/.venv/lib/python3.10/site-packages/torch/utils/data/dataloader.py:1346\u001b[0m, in \u001b[0;36m_MultiProcessingDataLoaderIter._next_data\u001b[0;34m(self)\u001b[0m\n\u001b[1;32m   1344\u001b[0m \u001b[38;5;28;01melse\u001b[39;00m:\n\u001b[1;32m   1345\u001b[0m     \u001b[38;5;28;01mdel\u001b[39;00m \u001b[38;5;28mself\u001b[39m\u001b[38;5;241m.\u001b[39m_task_info[idx]\n\u001b[0;32m-> 1346\u001b[0m     \u001b[38;5;28;01mreturn\u001b[39;00m \u001b[38;5;28;43mself\u001b[39;49m\u001b[38;5;241;43m.\u001b[39;49m\u001b[43m_process_data\u001b[49m\u001b[43m(\u001b[49m\u001b[43mdata\u001b[49m\u001b[43m)\u001b[49m\n",
      "File \u001b[0;32m~/data_bench/.venv/lib/python3.10/site-packages/torch/utils/data/dataloader.py:1372\u001b[0m, in \u001b[0;36m_MultiProcessingDataLoaderIter._process_data\u001b[0;34m(self, data)\u001b[0m\n\u001b[1;32m   1370\u001b[0m \u001b[38;5;28mself\u001b[39m\u001b[38;5;241m.\u001b[39m_try_put_index()\n\u001b[1;32m   1371\u001b[0m \u001b[38;5;28;01mif\u001b[39;00m \u001b[38;5;28misinstance\u001b[39m(data, ExceptionWrapper):\n\u001b[0;32m-> 1372\u001b[0m     \u001b[43mdata\u001b[49m\u001b[38;5;241;43m.\u001b[39;49m\u001b[43mreraise\u001b[49m\u001b[43m(\u001b[49m\u001b[43m)\u001b[49m\n\u001b[1;32m   1373\u001b[0m \u001b[38;5;28;01mreturn\u001b[39;00m data\n",
      "File \u001b[0;32m~/data_bench/.venv/lib/python3.10/site-packages/torch/_utils.py:722\u001b[0m, in \u001b[0;36mExceptionWrapper.reraise\u001b[0;34m(self)\u001b[0m\n\u001b[1;32m    718\u001b[0m \u001b[38;5;28;01mexcept\u001b[39;00m \u001b[38;5;167;01mTypeError\u001b[39;00m:\n\u001b[1;32m    719\u001b[0m     \u001b[38;5;66;03m# If the exception takes multiple arguments, don't try to\u001b[39;00m\n\u001b[1;32m    720\u001b[0m     \u001b[38;5;66;03m# instantiate since we don't know how to\u001b[39;00m\n\u001b[1;32m    721\u001b[0m     \u001b[38;5;28;01mraise\u001b[39;00m \u001b[38;5;167;01mRuntimeError\u001b[39;00m(msg) \u001b[38;5;28;01mfrom\u001b[39;00m \u001b[38;5;28;01mNone\u001b[39;00m\n\u001b[0;32m--> 722\u001b[0m \u001b[38;5;28;01mraise\u001b[39;00m exception\n",
      "\u001b[0;31mTypeError\u001b[0m: Caught TypeError in DataLoader worker process 0.\nOriginal Traceback (most recent call last):\n  File \"/home/ubuntu/data_bench/.venv/lib/python3.10/site-packages/torch/utils/data/_utils/worker.py\", line 308, in _worker_loop\n    data = fetcher.fetch(index)\n  File \"/home/ubuntu/data_bench/.venv/lib/python3.10/site-packages/torch/utils/data/_utils/fetch.py\", line 32, in fetch\n    data.append(next(self.dataset_iter))\n  File \"/home/ubuntu/data_bench/.venv/lib/python3.10/site-packages/torch/utils/data/datapipes/_hook_iterator.py\", line 152, in __next__\n    return self._get_next()\n  File \"/home/ubuntu/data_bench/.venv/lib/python3.10/site-packages/torch/utils/data/datapipes/_hook_iterator.py\", line 140, in _get_next\n    result = next(self.iterator)\n  File \"/home/ubuntu/data_bench/.venv/lib/python3.10/site-packages/torch/utils/data/datapipes/_hook_iterator.py\", line 224, in wrap_next\n    result = next_func(*args, **kwargs)\n  File \"/home/ubuntu/data_bench/.venv/lib/python3.10/site-packages/torch/utils/data/datapipes/datapipe.py\", line 390, in __next__\n    return next(self._datapipe_iter)\n  File \"/home/ubuntu/data_bench/.venv/lib/python3.10/site-packages/torch/utils/data/datapipes/_hook_iterator.py\", line 181, in wrap_generator\n    response = gen.send(None)\n  File \"/home/ubuntu/data_bench/.venv/lib/python3.10/site-packages/torchdata/datapipes/iter/util/dataframemaker.py\", line 145, in __iter__\n    parquet_file = parquet.ParquetFile(path)\n  File \"/home/ubuntu/data_bench/.venv/lib/python3.10/site-packages/pyarrow/parquet/core.py\", line 318, in __init__\n    self.reader.open(\n  File \"pyarrow/_parquet.pyx\", line 1467, in pyarrow._parquet.ParquetReader.open\n  File \"pyarrow/io.pxi\", line 2038, in pyarrow.lib.get_reader\n  File \"pyarrow/io.pxi\", line 2031, in pyarrow.lib.get_native_file\nTypeError: Cannot convert tuple to pyarrow.lib.NativeFile\nThis exception is thrown by __iter__ of ParquetDFLoaderIterDataPipe(columns=None, device='', dtype=None, source_dp=S3FileLoaderIterDataPipe, use_threads=False)\n"
     ]
    }
   ],
   "source": [
    "next(iter(data_loader))"
   ]
  },
  {
   "cell_type": "code",
   "execution_count": 3,
   "metadata": {},
   "outputs": [],
   "source": [
    "df = utils.pandas_df(1024*1024*100, 1)"
   ]
  },
  {
   "cell_type": "code",
   "execution_count": 4,
   "metadata": {},
   "outputs": [
    {
     "data": {
      "text/plain": [
       "419430528"
      ]
     },
     "execution_count": 4,
     "metadata": {},
     "output_type": "execute_result"
    }
   ],
   "source": [
    "df.memory_usage(deep=True).sum()"
   ]
  },
  {
   "cell_type": "code",
   "execution_count": 5,
   "metadata": {},
   "outputs": [
    {
     "name": "stderr",
     "output_type": "stream",
     "text": [
      "2024-04-16 12:48:38,058\tINFO worker.py:1724 -- Started a local Ray instance.\n"
     ]
    },
    {
     "data": {
      "application/vnd.jupyter.widget-view+json": {
       "model_id": "c2d8c207975e45558bec37de99aa5425",
       "version_major": 2,
       "version_minor": 0
      },
      "text/plain": [
       "MaterializedDataset(num_blocks=25, num_rows=2621440000, schema={col_0: float32})"
      ]
     },
     "execution_count": 5,
     "metadata": {},
     "output_type": "execute_result"
    }
   ],
   "source": [
    "dsparts = [df]*25\n",
    "ds = ray.data.from_pandas(dsparts)\n",
    "ds"
   ]
  },
  {
   "cell_type": "code",
   "execution_count": 3,
   "metadata": {},
   "outputs": [
    {
     "data": {
      "text/plain": [
       "Index(['vwap_signal%symbol=BNNS/SOLUSDT;vwap_type=es;vwap_depth=5;length=0.1',\n",
       "       'vwap_signal%symbol=BNNS/SOLUSDT;vwap_type=es;vwap_depth=5;length=1',\n",
       "       'vwap_signal%symbol=BNNS/SOLUSDT;vwap_type=es;vwap_depth=5;length=10',\n",
       "       'vwap_signal%symbol=BNNS/SOLUSDT;vwap_type=es;vwap_depth=5;length=30',\n",
       "       'vwap_signal%symbol=BNNS/SOLUSDT;vwap_type=es;vwap_depth=5;length=300',\n",
       "       'vwap_signal%symbol=BNNS/SOLUSDT;vwap_type=es;vwap_depth=5;length=1800',\n",
       "       'vwap_signal%symbol=BNNS/SOLUSDT;vwap_type=es;vwap_depth=25;length=0.1',\n",
       "       'vwap_signal%symbol=BNNS/SOLUSDT;vwap_type=es;vwap_depth=25;length=1',\n",
       "       'vwap_signal%symbol=BNNS/SOLUSDT;vwap_type=es;vwap_depth=25;length=10',\n",
       "       'vwap_signal%symbol=BNNS/SOLUSDT;vwap_type=es;vwap_depth=25;length=30',\n",
       "       ...\n",
       "       'time_window%out_indexes=0;length=30;tracker=stoch_range;features=vwap_inst%symbol=GIO/SOLUSDT;vwap_type=es;vwap_depth=5',\n",
       "       'time_window%out_indexes=1;length=30;tracker=stoch_range;features=vwap_inst%symbol=GIO/SOLUSDT;vwap_type=es;vwap_depth=5',\n",
       "       'time_window%out_indexes=3;length=300;tracker=stoch_range;features=vwap_inst%symbol=GIO/SOLUSDT;vwap_type=es;vwap_depth=5',\n",
       "       'time_window%out_indexes=2;length=300;tracker=stoch_range;features=vwap_inst%symbol=GIO/SOLUSDT;vwap_type=es;vwap_depth=5',\n",
       "       'time_window%out_indexes=0;length=300;tracker=stoch_range;features=vwap_inst%symbol=GIO/SOLUSDT;vwap_type=es;vwap_depth=5',\n",
       "       'time_window%out_indexes=1;length=300;tracker=stoch_range;features=vwap_inst%symbol=GIO/SOLUSDT;vwap_type=es;vwap_depth=5',\n",
       "       'time_window%out_indexes=1;calc_avg_within_resolution=false;cosine_similarity=false;length=3600s;max_shift=0s;resolution=250ms;tracker=cross_cor;features=vwap_signal%symbol=BNNS/SOLUSDT;vwap_type=es;vwap_depth=5;length=1@vwap_signal%symbol=BNNS/BTCUSDT;vwap_type=s;vwap_depth=120;length=1',\n",
       "       'time_window%out_indexes=1;calc_avg_within_resolution=false;cosine_similarity=false;length=3600s;max_shift=0s;resolution=250ms;tracker=cross_cor;features=vwap_signal%symbol=BNN/SOLUSDT;vwap_type=es;vwap_depth=5;length=1@vwap_signal%symbol=BNNS/BTCUSDT;vwap_type=s;vwap_depth=120;length=1',\n",
       "       'time_window%out_indexes=1;calc_avg_within_resolution=false;cosine_similarity=false;length=3600s;max_shift=0s;resolution=250ms;tracker=cross_cor;features=vwap_signal%symbol=GIOS/SOLUSDT;vwap_type=es;vwap_depth=5;length=1@vwap_signal%symbol=BNNS/BTCUSDT;vwap_type=s;vwap_depth=120;length=1',\n",
       "       'time_window%out_indexes=1;calc_avg_within_resolution=false;cosine_similarity=false;length=3600s;max_shift=0s;resolution=250ms;tracker=cross_cor;features=vwap_signal%symbol=GIO/SOLUSDT;vwap_type=es;vwap_depth=5;length=1@vwap_signal%symbol=BNNS/BTCUSDT;vwap_type=s;vwap_depth=120;length=1'],\n",
       "      dtype='object', length=350)"
      ]
     },
     "execution_count": 3,
     "metadata": {},
     "output_type": "execute_result"
    }
   ],
   "source": [
    "from dask import dataframe as dd\n",
    "dd.read_parquet(\"s3://alblml/kaggle/dvc_remote/files/md5/81/b20d8a5a8be98fb53752e7ab925996\").columns"
   ]
  },
  {
   "cell_type": "code",
   "execution_count": 4,
   "metadata": {},
   "outputs": [
    {
     "data": {
      "text/html": [
       "<div>\n",
       "<style scoped>\n",
       "    .dataframe tbody tr th:only-of-type {\n",
       "        vertical-align: middle;\n",
       "    }\n",
       "\n",
       "    .dataframe tbody tr th {\n",
       "        vertical-align: top;\n",
       "    }\n",
       "\n",
       "    .dataframe thead th {\n",
       "        text-align: right;\n",
       "    }\n",
       "</style>\n",
       "<table border=\"1\" class=\"dataframe\">\n",
       "  <thead>\n",
       "    <tr style=\"text-align: right;\">\n",
       "      <th></th>\n",
       "      <th>vwap_signal%symbol=BNNS/SOLUSDT;vwap_type=es;vwap_depth=5;length=0.1</th>\n",
       "      <th>vwap_signal%symbol=BNNS/SOLUSDT;vwap_type=es;vwap_depth=5;length=1</th>\n",
       "      <th>vwap_signal%symbol=BNNS/SOLUSDT;vwap_type=es;vwap_depth=5;length=10</th>\n",
       "      <th>vwap_signal%symbol=BNNS/SOLUSDT;vwap_type=es;vwap_depth=5;length=30</th>\n",
       "      <th>vwap_signal%symbol=BNNS/SOLUSDT;vwap_type=es;vwap_depth=5;length=300</th>\n",
       "      <th>vwap_signal%symbol=BNNS/SOLUSDT;vwap_type=es;vwap_depth=5;length=1800</th>\n",
       "      <th>vwap_signal%symbol=BNNS/SOLUSDT;vwap_type=es;vwap_depth=25;length=0.1</th>\n",
       "      <th>vwap_signal%symbol=BNNS/SOLUSDT;vwap_type=es;vwap_depth=25;length=1</th>\n",
       "      <th>vwap_signal%symbol=BNNS/SOLUSDT;vwap_type=es;vwap_depth=25;length=10</th>\n",
       "      <th>vwap_signal%symbol=BNNS/SOLUSDT;vwap_type=es;vwap_depth=25;length=30</th>\n",
       "      <th>...</th>\n",
       "      <th>time_window%out_indexes=0;length=30;tracker=stoch_range;features=vwap_inst%symbol=GIO/SOLUSDT;vwap_type=es;vwap_depth=5</th>\n",
       "      <th>time_window%out_indexes=1;length=30;tracker=stoch_range;features=vwap_inst%symbol=GIO/SOLUSDT;vwap_type=es;vwap_depth=5</th>\n",
       "      <th>time_window%out_indexes=3;length=300;tracker=stoch_range;features=vwap_inst%symbol=GIO/SOLUSDT;vwap_type=es;vwap_depth=5</th>\n",
       "      <th>time_window%out_indexes=2;length=300;tracker=stoch_range;features=vwap_inst%symbol=GIO/SOLUSDT;vwap_type=es;vwap_depth=5</th>\n",
       "      <th>time_window%out_indexes=0;length=300;tracker=stoch_range;features=vwap_inst%symbol=GIO/SOLUSDT;vwap_type=es;vwap_depth=5</th>\n",
       "      <th>time_window%out_indexes=1;length=300;tracker=stoch_range;features=vwap_inst%symbol=GIO/SOLUSDT;vwap_type=es;vwap_depth=5</th>\n",
       "      <th>time_window%out_indexes=1;calc_avg_within_resolution=false;cosine_similarity=false;length=3600s;max_shift=0s;resolution=250ms;tracker=cross_cor;features=vwap_signal%symbol=BNNS/SOLUSDT;vwap_type=es;vwap_depth=5;length=1@vwap_signal%symbol=BNNS/BTCUSDT;vwap_type=s;vwap_depth=120;length=1</th>\n",
       "      <th>time_window%out_indexes=1;calc_avg_within_resolution=false;cosine_similarity=false;length=3600s;max_shift=0s;resolution=250ms;tracker=cross_cor;features=vwap_signal%symbol=BNN/SOLUSDT;vwap_type=es;vwap_depth=5;length=1@vwap_signal%symbol=BNNS/BTCUSDT;vwap_type=s;vwap_depth=120;length=1</th>\n",
       "      <th>time_window%out_indexes=1;calc_avg_within_resolution=false;cosine_similarity=false;length=3600s;max_shift=0s;resolution=250ms;tracker=cross_cor;features=vwap_signal%symbol=GIOS/SOLUSDT;vwap_type=es;vwap_depth=5;length=1@vwap_signal%symbol=BNNS/BTCUSDT;vwap_type=s;vwap_depth=120;length=1</th>\n",
       "      <th>time_window%out_indexes=1;calc_avg_within_resolution=false;cosine_similarity=false;length=3600s;max_shift=0s;resolution=250ms;tracker=cross_cor;features=vwap_signal%symbol=GIO/SOLUSDT;vwap_type=es;vwap_depth=5;length=1@vwap_signal%symbol=BNNS/BTCUSDT;vwap_type=s;vwap_depth=120;length=1</th>\n",
       "    </tr>\n",
       "    <tr>\n",
       "      <th>ts</th>\n",
       "      <th></th>\n",
       "      <th></th>\n",
       "      <th></th>\n",
       "      <th></th>\n",
       "      <th></th>\n",
       "      <th></th>\n",
       "      <th></th>\n",
       "      <th></th>\n",
       "      <th></th>\n",
       "      <th></th>\n",
       "      <th></th>\n",
       "      <th></th>\n",
       "      <th></th>\n",
       "      <th></th>\n",
       "      <th></th>\n",
       "      <th></th>\n",
       "      <th></th>\n",
       "      <th></th>\n",
       "      <th></th>\n",
       "      <th></th>\n",
       "      <th></th>\n",
       "    </tr>\n",
       "  </thead>\n",
       "  <tbody>\n",
       "    <tr>\n",
       "      <th>2023-11-07 00:00:00.039058</th>\n",
       "      <td>-0.000030</td>\n",
       "      <td>-0.000110</td>\n",
       "      <td>-0.000056</td>\n",
       "      <td>-0.000146</td>\n",
       "      <td>0.001948</td>\n",
       "      <td>0.006109</td>\n",
       "      <td>-0.000016</td>\n",
       "      <td>-0.000092</td>\n",
       "      <td>-0.000022</td>\n",
       "      <td>-0.000089</td>\n",
       "      <td>...</td>\n",
       "      <td>0.000752</td>\n",
       "      <td>0.001129</td>\n",
       "      <td>0.252480</td>\n",
       "      <td>0.004566</td>\n",
       "      <td>0.003436</td>\n",
       "      <td>0.001130</td>\n",
       "      <td>0.331759</td>\n",
       "      <td>0.317629</td>\n",
       "      <td>0.333394</td>\n",
       "      <td>0.329937</td>\n",
       "    </tr>\n",
       "    <tr>\n",
       "      <th>2023-11-07 00:00:00.239174</th>\n",
       "      <td>0.000044</td>\n",
       "      <td>0.000011</td>\n",
       "      <td>0.000056</td>\n",
       "      <td>-0.000033</td>\n",
       "      <td>0.002058</td>\n",
       "      <td>0.006221</td>\n",
       "      <td>0.000052</td>\n",
       "      <td>0.000037</td>\n",
       "      <td>0.000101</td>\n",
       "      <td>0.000036</td>\n",
       "      <td>...</td>\n",
       "      <td>0.000821</td>\n",
       "      <td>0.001060</td>\n",
       "      <td>0.267520</td>\n",
       "      <td>0.004566</td>\n",
       "      <td>0.003504</td>\n",
       "      <td>0.001062</td>\n",
       "      <td>0.331746</td>\n",
       "      <td>0.317575</td>\n",
       "      <td>0.333265</td>\n",
       "      <td>0.329918</td>\n",
       "    </tr>\n",
       "    <tr>\n",
       "      <th>2023-11-07 00:00:00.439214</th>\n",
       "      <td>-0.000048</td>\n",
       "      <td>-0.000086</td>\n",
       "      <td>-0.000045</td>\n",
       "      <td>-0.000133</td>\n",
       "      <td>0.001956</td>\n",
       "      <td>0.006119</td>\n",
       "      <td>-0.000056</td>\n",
       "      <td>-0.000074</td>\n",
       "      <td>-0.000009</td>\n",
       "      <td>-0.000073</td>\n",
       "      <td>...</td>\n",
       "      <td>0.000804</td>\n",
       "      <td>0.001077</td>\n",
       "      <td>0.263810</td>\n",
       "      <td>0.004566</td>\n",
       "      <td>0.003488</td>\n",
       "      <td>0.001078</td>\n",
       "      <td>0.331480</td>\n",
       "      <td>0.317486</td>\n",
       "      <td>0.333133</td>\n",
       "      <td>0.329821</td>\n",
       "    </tr>\n",
       "    <tr>\n",
       "      <th>2023-11-07 00:00:00.642429</th>\n",
       "      <td>-0.000020</td>\n",
       "      <td>0.000011</td>\n",
       "      <td>0.000060</td>\n",
       "      <td>-0.000026</td>\n",
       "      <td>0.002062</td>\n",
       "      <td>0.006226</td>\n",
       "      <td>-0.000023</td>\n",
       "      <td>0.000023</td>\n",
       "      <td>0.000098</td>\n",
       "      <td>0.000036</td>\n",
       "      <td>...</td>\n",
       "      <td>0.000804</td>\n",
       "      <td>0.001077</td>\n",
       "      <td>0.263810</td>\n",
       "      <td>0.004566</td>\n",
       "      <td>0.003488</td>\n",
       "      <td>0.001078</td>\n",
       "      <td>0.331452</td>\n",
       "      <td>0.317495</td>\n",
       "      <td>0.333113</td>\n",
       "      <td>0.329747</td>\n",
       "    </tr>\n",
       "    <tr>\n",
       "      <th>2023-11-07 00:00:00.843022</th>\n",
       "      <td>-0.000082</td>\n",
       "      <td>-0.000086</td>\n",
       "      <td>-0.000038</td>\n",
       "      <td>-0.000123</td>\n",
       "      <td>0.001964</td>\n",
       "      <td>0.006128</td>\n",
       "      <td>-0.000083</td>\n",
       "      <td>-0.000071</td>\n",
       "      <td>0.000007</td>\n",
       "      <td>-0.000054</td>\n",
       "      <td>...</td>\n",
       "      <td>0.000813</td>\n",
       "      <td>0.001068</td>\n",
       "      <td>0.265734</td>\n",
       "      <td>0.004566</td>\n",
       "      <td>0.003496</td>\n",
       "      <td>0.001070</td>\n",
       "      <td>0.331452</td>\n",
       "      <td>0.317495</td>\n",
       "      <td>0.333113</td>\n",
       "      <td>0.329747</td>\n",
       "    </tr>\n",
       "    <tr>\n",
       "      <th>...</th>\n",
       "      <td>...</td>\n",
       "      <td>...</td>\n",
       "      <td>...</td>\n",
       "      <td>...</td>\n",
       "      <td>...</td>\n",
       "      <td>...</td>\n",
       "      <td>...</td>\n",
       "      <td>...</td>\n",
       "      <td>...</td>\n",
       "      <td>...</td>\n",
       "      <td>...</td>\n",
       "      <td>...</td>\n",
       "      <td>...</td>\n",
       "      <td>...</td>\n",
       "      <td>...</td>\n",
       "      <td>...</td>\n",
       "      <td>...</td>\n",
       "      <td>...</td>\n",
       "      <td>...</td>\n",
       "      <td>...</td>\n",
       "      <td>...</td>\n",
       "    </tr>\n",
       "    <tr>\n",
       "      <th>2023-11-07 05:59:59.173959</th>\n",
       "      <td>0.000003</td>\n",
       "      <td>-0.000169</td>\n",
       "      <td>-0.000511</td>\n",
       "      <td>-0.000511</td>\n",
       "      <td>0.002971</td>\n",
       "      <td>0.005809</td>\n",
       "      <td>0.000002</td>\n",
       "      <td>-0.000156</td>\n",
       "      <td>-0.000494</td>\n",
       "      <td>-0.000483</td>\n",
       "      <td>...</td>\n",
       "      <td>0.000066</td>\n",
       "      <td>0.001053</td>\n",
       "      <td>0.313695</td>\n",
       "      <td>0.006935</td>\n",
       "      <td>0.005643</td>\n",
       "      <td>0.001292</td>\n",
       "      <td>0.423591</td>\n",
       "      <td>0.433577</td>\n",
       "      <td>0.441303</td>\n",
       "      <td>0.440603</td>\n",
       "    </tr>\n",
       "    <tr>\n",
       "      <th>2023-11-07 05:59:59.374425</th>\n",
       "      <td>0.000092</td>\n",
       "      <td>0.000016</td>\n",
       "      <td>-0.000338</td>\n",
       "      <td>-0.000344</td>\n",
       "      <td>0.003134</td>\n",
       "      <td>0.005974</td>\n",
       "      <td>0.000094</td>\n",
       "      <td>0.000031</td>\n",
       "      <td>-0.000316</td>\n",
       "      <td>-0.000311</td>\n",
       "      <td>...</td>\n",
       "      <td>0.000224</td>\n",
       "      <td>0.000895</td>\n",
       "      <td>0.336582</td>\n",
       "      <td>0.006935</td>\n",
       "      <td>0.005802</td>\n",
       "      <td>0.001133</td>\n",
       "      <td>0.423495</td>\n",
       "      <td>0.433430</td>\n",
       "      <td>0.441166</td>\n",
       "      <td>0.440518</td>\n",
       "    </tr>\n",
       "    <tr>\n",
       "      <th>2023-11-07 05:59:59.575851</th>\n",
       "      <td>-0.000011</td>\n",
       "      <td>0.000013</td>\n",
       "      <td>-0.000323</td>\n",
       "      <td>-0.000333</td>\n",
       "      <td>0.003141</td>\n",
       "      <td>0.005982</td>\n",
       "      <td>-0.000012</td>\n",
       "      <td>0.000008</td>\n",
       "      <td>-0.000322</td>\n",
       "      <td>-0.000321</td>\n",
       "      <td>...</td>\n",
       "      <td>0.000159</td>\n",
       "      <td>0.000960</td>\n",
       "      <td>0.327156</td>\n",
       "      <td>0.006935</td>\n",
       "      <td>0.005736</td>\n",
       "      <td>0.001199</td>\n",
       "      <td>0.423510</td>\n",
       "      <td>0.433443</td>\n",
       "      <td>0.441145</td>\n",
       "      <td>0.440507</td>\n",
       "    </tr>\n",
       "    <tr>\n",
       "      <th>2023-11-07 05:59:59.782922</th>\n",
       "      <td>0.000004</td>\n",
       "      <td>0.000033</td>\n",
       "      <td>-0.000290</td>\n",
       "      <td>-0.000304</td>\n",
       "      <td>0.003166</td>\n",
       "      <td>0.006009</td>\n",
       "      <td>0.000013</td>\n",
       "      <td>0.000043</td>\n",
       "      <td>-0.000274</td>\n",
       "      <td>-0.000277</td>\n",
       "      <td>...</td>\n",
       "      <td>0.000164</td>\n",
       "      <td>0.000941</td>\n",
       "      <td>0.327888</td>\n",
       "      <td>0.006935</td>\n",
       "      <td>0.005742</td>\n",
       "      <td>0.001194</td>\n",
       "      <td>0.423515</td>\n",
       "      <td>0.433452</td>\n",
       "      <td>0.441127</td>\n",
       "      <td>0.440488</td>\n",
       "    </tr>\n",
       "    <tr>\n",
       "      <th>2023-11-07 05:59:59.983103</th>\n",
       "      <td>-0.000019</td>\n",
       "      <td>0.000009</td>\n",
       "      <td>-0.000302</td>\n",
       "      <td>-0.000319</td>\n",
       "      <td>0.003146</td>\n",
       "      <td>0.005990</td>\n",
       "      <td>-0.000021</td>\n",
       "      <td>0.000012</td>\n",
       "      <td>-0.000291</td>\n",
       "      <td>-0.000298</td>\n",
       "      <td>...</td>\n",
       "      <td>0.000156</td>\n",
       "      <td>0.000949</td>\n",
       "      <td>0.326756</td>\n",
       "      <td>0.006935</td>\n",
       "      <td>0.005734</td>\n",
       "      <td>0.001201</td>\n",
       "      <td>0.423519</td>\n",
       "      <td>0.433456</td>\n",
       "      <td>0.441123</td>\n",
       "      <td>0.440482</td>\n",
       "    </tr>\n",
       "  </tbody>\n",
       "</table>\n",
       "<p>106999 rows × 350 columns</p>\n",
       "</div>"
      ],
      "text/plain": [
       "                            vwap_signal%symbol=BNNS/SOLUSDT;vwap_type=es;vwap_depth=5;length=0.1  \\\n",
       "ts                                                                                                 \n",
       "2023-11-07 00:00:00.039058                                          -0.000030                      \n",
       "2023-11-07 00:00:00.239174                                           0.000044                      \n",
       "2023-11-07 00:00:00.439214                                          -0.000048                      \n",
       "2023-11-07 00:00:00.642429                                          -0.000020                      \n",
       "2023-11-07 00:00:00.843022                                          -0.000082                      \n",
       "...                                                                       ...                      \n",
       "2023-11-07 05:59:59.173959                                           0.000003                      \n",
       "2023-11-07 05:59:59.374425                                           0.000092                      \n",
       "2023-11-07 05:59:59.575851                                          -0.000011                      \n",
       "2023-11-07 05:59:59.782922                                           0.000004                      \n",
       "2023-11-07 05:59:59.983103                                          -0.000019                      \n",
       "\n",
       "                            vwap_signal%symbol=BNNS/SOLUSDT;vwap_type=es;vwap_depth=5;length=1  \\\n",
       "ts                                                                                               \n",
       "2023-11-07 00:00:00.039058                                          -0.000110                    \n",
       "2023-11-07 00:00:00.239174                                           0.000011                    \n",
       "2023-11-07 00:00:00.439214                                          -0.000086                    \n",
       "2023-11-07 00:00:00.642429                                           0.000011                    \n",
       "2023-11-07 00:00:00.843022                                          -0.000086                    \n",
       "...                                                                       ...                    \n",
       "2023-11-07 05:59:59.173959                                          -0.000169                    \n",
       "2023-11-07 05:59:59.374425                                           0.000016                    \n",
       "2023-11-07 05:59:59.575851                                           0.000013                    \n",
       "2023-11-07 05:59:59.782922                                           0.000033                    \n",
       "2023-11-07 05:59:59.983103                                           0.000009                    \n",
       "\n",
       "                            vwap_signal%symbol=BNNS/SOLUSDT;vwap_type=es;vwap_depth=5;length=10  \\\n",
       "ts                                                                                                \n",
       "2023-11-07 00:00:00.039058                                          -0.000056                     \n",
       "2023-11-07 00:00:00.239174                                           0.000056                     \n",
       "2023-11-07 00:00:00.439214                                          -0.000045                     \n",
       "2023-11-07 00:00:00.642429                                           0.000060                     \n",
       "2023-11-07 00:00:00.843022                                          -0.000038                     \n",
       "...                                                                       ...                     \n",
       "2023-11-07 05:59:59.173959                                          -0.000511                     \n",
       "2023-11-07 05:59:59.374425                                          -0.000338                     \n",
       "2023-11-07 05:59:59.575851                                          -0.000323                     \n",
       "2023-11-07 05:59:59.782922                                          -0.000290                     \n",
       "2023-11-07 05:59:59.983103                                          -0.000302                     \n",
       "\n",
       "                            vwap_signal%symbol=BNNS/SOLUSDT;vwap_type=es;vwap_depth=5;length=30  \\\n",
       "ts                                                                                                \n",
       "2023-11-07 00:00:00.039058                                          -0.000146                     \n",
       "2023-11-07 00:00:00.239174                                          -0.000033                     \n",
       "2023-11-07 00:00:00.439214                                          -0.000133                     \n",
       "2023-11-07 00:00:00.642429                                          -0.000026                     \n",
       "2023-11-07 00:00:00.843022                                          -0.000123                     \n",
       "...                                                                       ...                     \n",
       "2023-11-07 05:59:59.173959                                          -0.000511                     \n",
       "2023-11-07 05:59:59.374425                                          -0.000344                     \n",
       "2023-11-07 05:59:59.575851                                          -0.000333                     \n",
       "2023-11-07 05:59:59.782922                                          -0.000304                     \n",
       "2023-11-07 05:59:59.983103                                          -0.000319                     \n",
       "\n",
       "                            vwap_signal%symbol=BNNS/SOLUSDT;vwap_type=es;vwap_depth=5;length=300  \\\n",
       "ts                                                                                                 \n",
       "2023-11-07 00:00:00.039058                                           0.001948                      \n",
       "2023-11-07 00:00:00.239174                                           0.002058                      \n",
       "2023-11-07 00:00:00.439214                                           0.001956                      \n",
       "2023-11-07 00:00:00.642429                                           0.002062                      \n",
       "2023-11-07 00:00:00.843022                                           0.001964                      \n",
       "...                                                                       ...                      \n",
       "2023-11-07 05:59:59.173959                                           0.002971                      \n",
       "2023-11-07 05:59:59.374425                                           0.003134                      \n",
       "2023-11-07 05:59:59.575851                                           0.003141                      \n",
       "2023-11-07 05:59:59.782922                                           0.003166                      \n",
       "2023-11-07 05:59:59.983103                                           0.003146                      \n",
       "\n",
       "                            vwap_signal%symbol=BNNS/SOLUSDT;vwap_type=es;vwap_depth=5;length=1800  \\\n",
       "ts                                                                                                  \n",
       "2023-11-07 00:00:00.039058                                           0.006109                       \n",
       "2023-11-07 00:00:00.239174                                           0.006221                       \n",
       "2023-11-07 00:00:00.439214                                           0.006119                       \n",
       "2023-11-07 00:00:00.642429                                           0.006226                       \n",
       "2023-11-07 00:00:00.843022                                           0.006128                       \n",
       "...                                                                       ...                       \n",
       "2023-11-07 05:59:59.173959                                           0.005809                       \n",
       "2023-11-07 05:59:59.374425                                           0.005974                       \n",
       "2023-11-07 05:59:59.575851                                           0.005982                       \n",
       "2023-11-07 05:59:59.782922                                           0.006009                       \n",
       "2023-11-07 05:59:59.983103                                           0.005990                       \n",
       "\n",
       "                            vwap_signal%symbol=BNNS/SOLUSDT;vwap_type=es;vwap_depth=25;length=0.1  \\\n",
       "ts                                                                                                  \n",
       "2023-11-07 00:00:00.039058                                          -0.000016                       \n",
       "2023-11-07 00:00:00.239174                                           0.000052                       \n",
       "2023-11-07 00:00:00.439214                                          -0.000056                       \n",
       "2023-11-07 00:00:00.642429                                          -0.000023                       \n",
       "2023-11-07 00:00:00.843022                                          -0.000083                       \n",
       "...                                                                       ...                       \n",
       "2023-11-07 05:59:59.173959                                           0.000002                       \n",
       "2023-11-07 05:59:59.374425                                           0.000094                       \n",
       "2023-11-07 05:59:59.575851                                          -0.000012                       \n",
       "2023-11-07 05:59:59.782922                                           0.000013                       \n",
       "2023-11-07 05:59:59.983103                                          -0.000021                       \n",
       "\n",
       "                            vwap_signal%symbol=BNNS/SOLUSDT;vwap_type=es;vwap_depth=25;length=1  \\\n",
       "ts                                                                                                \n",
       "2023-11-07 00:00:00.039058                                          -0.000092                     \n",
       "2023-11-07 00:00:00.239174                                           0.000037                     \n",
       "2023-11-07 00:00:00.439214                                          -0.000074                     \n",
       "2023-11-07 00:00:00.642429                                           0.000023                     \n",
       "2023-11-07 00:00:00.843022                                          -0.000071                     \n",
       "...                                                                       ...                     \n",
       "2023-11-07 05:59:59.173959                                          -0.000156                     \n",
       "2023-11-07 05:59:59.374425                                           0.000031                     \n",
       "2023-11-07 05:59:59.575851                                           0.000008                     \n",
       "2023-11-07 05:59:59.782922                                           0.000043                     \n",
       "2023-11-07 05:59:59.983103                                           0.000012                     \n",
       "\n",
       "                            vwap_signal%symbol=BNNS/SOLUSDT;vwap_type=es;vwap_depth=25;length=10  \\\n",
       "ts                                                                                                 \n",
       "2023-11-07 00:00:00.039058                                          -0.000022                      \n",
       "2023-11-07 00:00:00.239174                                           0.000101                      \n",
       "2023-11-07 00:00:00.439214                                          -0.000009                      \n",
       "2023-11-07 00:00:00.642429                                           0.000098                      \n",
       "2023-11-07 00:00:00.843022                                           0.000007                      \n",
       "...                                                                       ...                      \n",
       "2023-11-07 05:59:59.173959                                          -0.000494                      \n",
       "2023-11-07 05:59:59.374425                                          -0.000316                      \n",
       "2023-11-07 05:59:59.575851                                          -0.000322                      \n",
       "2023-11-07 05:59:59.782922                                          -0.000274                      \n",
       "2023-11-07 05:59:59.983103                                          -0.000291                      \n",
       "\n",
       "                            vwap_signal%symbol=BNNS/SOLUSDT;vwap_type=es;vwap_depth=25;length=30  \\\n",
       "ts                                                                                                 \n",
       "2023-11-07 00:00:00.039058                                          -0.000089                      \n",
       "2023-11-07 00:00:00.239174                                           0.000036                      \n",
       "2023-11-07 00:00:00.439214                                          -0.000073                      \n",
       "2023-11-07 00:00:00.642429                                           0.000036                      \n",
       "2023-11-07 00:00:00.843022                                          -0.000054                      \n",
       "...                                                                       ...                      \n",
       "2023-11-07 05:59:59.173959                                          -0.000483                      \n",
       "2023-11-07 05:59:59.374425                                          -0.000311                      \n",
       "2023-11-07 05:59:59.575851                                          -0.000321                      \n",
       "2023-11-07 05:59:59.782922                                          -0.000277                      \n",
       "2023-11-07 05:59:59.983103                                          -0.000298                      \n",
       "\n",
       "                            ...  \\\n",
       "ts                          ...   \n",
       "2023-11-07 00:00:00.039058  ...   \n",
       "2023-11-07 00:00:00.239174  ...   \n",
       "2023-11-07 00:00:00.439214  ...   \n",
       "2023-11-07 00:00:00.642429  ...   \n",
       "2023-11-07 00:00:00.843022  ...   \n",
       "...                         ...   \n",
       "2023-11-07 05:59:59.173959  ...   \n",
       "2023-11-07 05:59:59.374425  ...   \n",
       "2023-11-07 05:59:59.575851  ...   \n",
       "2023-11-07 05:59:59.782922  ...   \n",
       "2023-11-07 05:59:59.983103  ...   \n",
       "\n",
       "                            time_window%out_indexes=0;length=30;tracker=stoch_range;features=vwap_inst%symbol=GIO/SOLUSDT;vwap_type=es;vwap_depth=5  \\\n",
       "ts                                                                                                                                                    \n",
       "2023-11-07 00:00:00.039058                                           0.000752                                                                         \n",
       "2023-11-07 00:00:00.239174                                           0.000821                                                                         \n",
       "2023-11-07 00:00:00.439214                                           0.000804                                                                         \n",
       "2023-11-07 00:00:00.642429                                           0.000804                                                                         \n",
       "2023-11-07 00:00:00.843022                                           0.000813                                                                         \n",
       "...                                                                       ...                                                                         \n",
       "2023-11-07 05:59:59.173959                                           0.000066                                                                         \n",
       "2023-11-07 05:59:59.374425                                           0.000224                                                                         \n",
       "2023-11-07 05:59:59.575851                                           0.000159                                                                         \n",
       "2023-11-07 05:59:59.782922                                           0.000164                                                                         \n",
       "2023-11-07 05:59:59.983103                                           0.000156                                                                         \n",
       "\n",
       "                            time_window%out_indexes=1;length=30;tracker=stoch_range;features=vwap_inst%symbol=GIO/SOLUSDT;vwap_type=es;vwap_depth=5  \\\n",
       "ts                                                                                                                                                    \n",
       "2023-11-07 00:00:00.039058                                           0.001129                                                                         \n",
       "2023-11-07 00:00:00.239174                                           0.001060                                                                         \n",
       "2023-11-07 00:00:00.439214                                           0.001077                                                                         \n",
       "2023-11-07 00:00:00.642429                                           0.001077                                                                         \n",
       "2023-11-07 00:00:00.843022                                           0.001068                                                                         \n",
       "...                                                                       ...                                                                         \n",
       "2023-11-07 05:59:59.173959                                           0.001053                                                                         \n",
       "2023-11-07 05:59:59.374425                                           0.000895                                                                         \n",
       "2023-11-07 05:59:59.575851                                           0.000960                                                                         \n",
       "2023-11-07 05:59:59.782922                                           0.000941                                                                         \n",
       "2023-11-07 05:59:59.983103                                           0.000949                                                                         \n",
       "\n",
       "                            time_window%out_indexes=3;length=300;tracker=stoch_range;features=vwap_inst%symbol=GIO/SOLUSDT;vwap_type=es;vwap_depth=5  \\\n",
       "ts                                                                                                                                                     \n",
       "2023-11-07 00:00:00.039058                                           0.252480                                                                          \n",
       "2023-11-07 00:00:00.239174                                           0.267520                                                                          \n",
       "2023-11-07 00:00:00.439214                                           0.263810                                                                          \n",
       "2023-11-07 00:00:00.642429                                           0.263810                                                                          \n",
       "2023-11-07 00:00:00.843022                                           0.265734                                                                          \n",
       "...                                                                       ...                                                                          \n",
       "2023-11-07 05:59:59.173959                                           0.313695                                                                          \n",
       "2023-11-07 05:59:59.374425                                           0.336582                                                                          \n",
       "2023-11-07 05:59:59.575851                                           0.327156                                                                          \n",
       "2023-11-07 05:59:59.782922                                           0.327888                                                                          \n",
       "2023-11-07 05:59:59.983103                                           0.326756                                                                          \n",
       "\n",
       "                            time_window%out_indexes=2;length=300;tracker=stoch_range;features=vwap_inst%symbol=GIO/SOLUSDT;vwap_type=es;vwap_depth=5  \\\n",
       "ts                                                                                                                                                     \n",
       "2023-11-07 00:00:00.039058                                           0.004566                                                                          \n",
       "2023-11-07 00:00:00.239174                                           0.004566                                                                          \n",
       "2023-11-07 00:00:00.439214                                           0.004566                                                                          \n",
       "2023-11-07 00:00:00.642429                                           0.004566                                                                          \n",
       "2023-11-07 00:00:00.843022                                           0.004566                                                                          \n",
       "...                                                                       ...                                                                          \n",
       "2023-11-07 05:59:59.173959                                           0.006935                                                                          \n",
       "2023-11-07 05:59:59.374425                                           0.006935                                                                          \n",
       "2023-11-07 05:59:59.575851                                           0.006935                                                                          \n",
       "2023-11-07 05:59:59.782922                                           0.006935                                                                          \n",
       "2023-11-07 05:59:59.983103                                           0.006935                                                                          \n",
       "\n",
       "                            time_window%out_indexes=0;length=300;tracker=stoch_range;features=vwap_inst%symbol=GIO/SOLUSDT;vwap_type=es;vwap_depth=5  \\\n",
       "ts                                                                                                                                                     \n",
       "2023-11-07 00:00:00.039058                                           0.003436                                                                          \n",
       "2023-11-07 00:00:00.239174                                           0.003504                                                                          \n",
       "2023-11-07 00:00:00.439214                                           0.003488                                                                          \n",
       "2023-11-07 00:00:00.642429                                           0.003488                                                                          \n",
       "2023-11-07 00:00:00.843022                                           0.003496                                                                          \n",
       "...                                                                       ...                                                                          \n",
       "2023-11-07 05:59:59.173959                                           0.005643                                                                          \n",
       "2023-11-07 05:59:59.374425                                           0.005802                                                                          \n",
       "2023-11-07 05:59:59.575851                                           0.005736                                                                          \n",
       "2023-11-07 05:59:59.782922                                           0.005742                                                                          \n",
       "2023-11-07 05:59:59.983103                                           0.005734                                                                          \n",
       "\n",
       "                            time_window%out_indexes=1;length=300;tracker=stoch_range;features=vwap_inst%symbol=GIO/SOLUSDT;vwap_type=es;vwap_depth=5  \\\n",
       "ts                                                                                                                                                     \n",
       "2023-11-07 00:00:00.039058                                           0.001130                                                                          \n",
       "2023-11-07 00:00:00.239174                                           0.001062                                                                          \n",
       "2023-11-07 00:00:00.439214                                           0.001078                                                                          \n",
       "2023-11-07 00:00:00.642429                                           0.001078                                                                          \n",
       "2023-11-07 00:00:00.843022                                           0.001070                                                                          \n",
       "...                                                                       ...                                                                          \n",
       "2023-11-07 05:59:59.173959                                           0.001292                                                                          \n",
       "2023-11-07 05:59:59.374425                                           0.001133                                                                          \n",
       "2023-11-07 05:59:59.575851                                           0.001199                                                                          \n",
       "2023-11-07 05:59:59.782922                                           0.001194                                                                          \n",
       "2023-11-07 05:59:59.983103                                           0.001201                                                                          \n",
       "\n",
       "                            time_window%out_indexes=1;calc_avg_within_resolution=false;cosine_similarity=false;length=3600s;max_shift=0s;resolution=250ms;tracker=cross_cor;features=vwap_signal%symbol=BNNS/SOLUSDT;vwap_type=es;vwap_depth=5;length=1@vwap_signal%symbol=BNNS/BTCUSDT;vwap_type=s;vwap_depth=120;length=1  \\\n",
       "ts                                                                                                                                                                                                                                                                                                                            \n",
       "2023-11-07 00:00:00.039058                                           0.331759                                                                                                                                                                                                                                                 \n",
       "2023-11-07 00:00:00.239174                                           0.331746                                                                                                                                                                                                                                                 \n",
       "2023-11-07 00:00:00.439214                                           0.331480                                                                                                                                                                                                                                                 \n",
       "2023-11-07 00:00:00.642429                                           0.331452                                                                                                                                                                                                                                                 \n",
       "2023-11-07 00:00:00.843022                                           0.331452                                                                                                                                                                                                                                                 \n",
       "...                                                                       ...                                                                                                                                                                                                                                                 \n",
       "2023-11-07 05:59:59.173959                                           0.423591                                                                                                                                                                                                                                                 \n",
       "2023-11-07 05:59:59.374425                                           0.423495                                                                                                                                                                                                                                                 \n",
       "2023-11-07 05:59:59.575851                                           0.423510                                                                                                                                                                                                                                                 \n",
       "2023-11-07 05:59:59.782922                                           0.423515                                                                                                                                                                                                                                                 \n",
       "2023-11-07 05:59:59.983103                                           0.423519                                                                                                                                                                                                                                                 \n",
       "\n",
       "                            time_window%out_indexes=1;calc_avg_within_resolution=false;cosine_similarity=false;length=3600s;max_shift=0s;resolution=250ms;tracker=cross_cor;features=vwap_signal%symbol=BNN/SOLUSDT;vwap_type=es;vwap_depth=5;length=1@vwap_signal%symbol=BNNS/BTCUSDT;vwap_type=s;vwap_depth=120;length=1  \\\n",
       "ts                                                                                                                                                                                                                                                                                                                           \n",
       "2023-11-07 00:00:00.039058                                           0.317629                                                                                                                                                                                                                                                \n",
       "2023-11-07 00:00:00.239174                                           0.317575                                                                                                                                                                                                                                                \n",
       "2023-11-07 00:00:00.439214                                           0.317486                                                                                                                                                                                                                                                \n",
       "2023-11-07 00:00:00.642429                                           0.317495                                                                                                                                                                                                                                                \n",
       "2023-11-07 00:00:00.843022                                           0.317495                                                                                                                                                                                                                                                \n",
       "...                                                                       ...                                                                                                                                                                                                                                                \n",
       "2023-11-07 05:59:59.173959                                           0.433577                                                                                                                                                                                                                                                \n",
       "2023-11-07 05:59:59.374425                                           0.433430                                                                                                                                                                                                                                                \n",
       "2023-11-07 05:59:59.575851                                           0.433443                                                                                                                                                                                                                                                \n",
       "2023-11-07 05:59:59.782922                                           0.433452                                                                                                                                                                                                                                                \n",
       "2023-11-07 05:59:59.983103                                           0.433456                                                                                                                                                                                                                                                \n",
       "\n",
       "                            time_window%out_indexes=1;calc_avg_within_resolution=false;cosine_similarity=false;length=3600s;max_shift=0s;resolution=250ms;tracker=cross_cor;features=vwap_signal%symbol=GIOS/SOLUSDT;vwap_type=es;vwap_depth=5;length=1@vwap_signal%symbol=BNNS/BTCUSDT;vwap_type=s;vwap_depth=120;length=1  \\\n",
       "ts                                                                                                                                                                                                                                                                                                                            \n",
       "2023-11-07 00:00:00.039058                                           0.333394                                                                                                                                                                                                                                                 \n",
       "2023-11-07 00:00:00.239174                                           0.333265                                                                                                                                                                                                                                                 \n",
       "2023-11-07 00:00:00.439214                                           0.333133                                                                                                                                                                                                                                                 \n",
       "2023-11-07 00:00:00.642429                                           0.333113                                                                                                                                                                                                                                                 \n",
       "2023-11-07 00:00:00.843022                                           0.333113                                                                                                                                                                                                                                                 \n",
       "...                                                                       ...                                                                                                                                                                                                                                                 \n",
       "2023-11-07 05:59:59.173959                                           0.441303                                                                                                                                                                                                                                                 \n",
       "2023-11-07 05:59:59.374425                                           0.441166                                                                                                                                                                                                                                                 \n",
       "2023-11-07 05:59:59.575851                                           0.441145                                                                                                                                                                                                                                                 \n",
       "2023-11-07 05:59:59.782922                                           0.441127                                                                                                                                                                                                                                                 \n",
       "2023-11-07 05:59:59.983103                                           0.441123                                                                                                                                                                                                                                                 \n",
       "\n",
       "                            time_window%out_indexes=1;calc_avg_within_resolution=false;cosine_similarity=false;length=3600s;max_shift=0s;resolution=250ms;tracker=cross_cor;features=vwap_signal%symbol=GIO/SOLUSDT;vwap_type=es;vwap_depth=5;length=1@vwap_signal%symbol=BNNS/BTCUSDT;vwap_type=s;vwap_depth=120;length=1  \n",
       "ts                                                                                                                                                                                                                                                                                                                          \n",
       "2023-11-07 00:00:00.039058                                           0.329937                                                                                                                                                                                                                                               \n",
       "2023-11-07 00:00:00.239174                                           0.329918                                                                                                                                                                                                                                               \n",
       "2023-11-07 00:00:00.439214                                           0.329821                                                                                                                                                                                                                                               \n",
       "2023-11-07 00:00:00.642429                                           0.329747                                                                                                                                                                                                                                               \n",
       "2023-11-07 00:00:00.843022                                           0.329747                                                                                                                                                                                                                                               \n",
       "...                                                                       ...                                                                                                                                                                                                                                               \n",
       "2023-11-07 05:59:59.173959                                           0.440603                                                                                                                                                                                                                                               \n",
       "2023-11-07 05:59:59.374425                                           0.440518                                                                                                                                                                                                                                               \n",
       "2023-11-07 05:59:59.575851                                           0.440507                                                                                                                                                                                                                                               \n",
       "2023-11-07 05:59:59.782922                                           0.440488                                                                                                                                                                                                                                               \n",
       "2023-11-07 05:59:59.983103                                           0.440482                                                                                                                                                                                                                                               \n",
       "\n",
       "[106999 rows x 350 columns]"
      ]
     },
     "execution_count": 4,
     "metadata": {},
     "output_type": "execute_result"
    }
   ],
   "source": [
    "df = pd.read_parquet(\"s3://alblml/kaggle/dvc_remote/files/md5/81/b20d8a5a8be98fb53752e7ab925996\")\n",
    "df\n"
   ]
  },
  {
   "cell_type": "code",
   "execution_count": 4,
   "metadata": {},
   "outputs": [
    {
     "data": {
      "text/html": [
       "<div>\n",
       "<style scoped>\n",
       "    .dataframe tbody tr th:only-of-type {\n",
       "        vertical-align: middle;\n",
       "    }\n",
       "\n",
       "    .dataframe tbody tr th {\n",
       "        vertical-align: top;\n",
       "    }\n",
       "\n",
       "    .dataframe thead th {\n",
       "        text-align: right;\n",
       "    }\n",
       "</style>\n",
       "<table border=\"1\" class=\"dataframe\">\n",
       "  <thead>\n",
       "    <tr style=\"text-align: right;\">\n",
       "      <th></th>\n",
       "      <th>vwap_signal%symbol=BNNS/SOLUSDT;vwap_type=es;vwap_depth=5;length=0.1</th>\n",
       "      <th>vwap_signal%symbol=BNNS/SOLUSDT;vwap_type=es;vwap_depth=5;length=1</th>\n",
       "      <th>vwap_signal%symbol=BNNS/SOLUSDT;vwap_type=es;vwap_depth=5;length=10</th>\n",
       "      <th>vwap_signal%symbol=BNNS/SOLUSDT;vwap_type=es;vwap_depth=5;length=30</th>\n",
       "      <th>vwap_signal%symbol=BNNS/SOLUSDT;vwap_type=es;vwap_depth=5;length=300</th>\n",
       "      <th>vwap_signal%symbol=BNNS/SOLUSDT;vwap_type=es;vwap_depth=5;length=1800</th>\n",
       "      <th>vwap_signal%symbol=BNNS/SOLUSDT;vwap_type=es;vwap_depth=25;length=0.1</th>\n",
       "      <th>vwap_signal%symbol=BNNS/SOLUSDT;vwap_type=es;vwap_depth=25;length=1</th>\n",
       "      <th>vwap_signal%symbol=BNNS/SOLUSDT;vwap_type=es;vwap_depth=25;length=10</th>\n",
       "      <th>vwap_signal%symbol=BNNS/SOLUSDT;vwap_type=es;vwap_depth=25;length=30</th>\n",
       "      <th>...</th>\n",
       "      <th>time_window%out_indexes=0;length=30;tracker=stoch_range;features=vwap_inst%symbol=GIO/SOLUSDT;vwap_type=es;vwap_depth=5</th>\n",
       "      <th>time_window%out_indexes=1;length=30;tracker=stoch_range;features=vwap_inst%symbol=GIO/SOLUSDT;vwap_type=es;vwap_depth=5</th>\n",
       "      <th>time_window%out_indexes=3;length=300;tracker=stoch_range;features=vwap_inst%symbol=GIO/SOLUSDT;vwap_type=es;vwap_depth=5</th>\n",
       "      <th>time_window%out_indexes=2;length=300;tracker=stoch_range;features=vwap_inst%symbol=GIO/SOLUSDT;vwap_type=es;vwap_depth=5</th>\n",
       "      <th>time_window%out_indexes=0;length=300;tracker=stoch_range;features=vwap_inst%symbol=GIO/SOLUSDT;vwap_type=es;vwap_depth=5</th>\n",
       "      <th>time_window%out_indexes=1;length=300;tracker=stoch_range;features=vwap_inst%symbol=GIO/SOLUSDT;vwap_type=es;vwap_depth=5</th>\n",
       "      <th>time_window%out_indexes=1;calc_avg_within_resolution=false;cosine_similarity=false;length=3600s;max_shift=0s;resolution=250ms;tracker=cross_cor;features=vwap_signal%symbol=BNNS/SOLUSDT;vwap_type=es;vwap_depth=5;length=1@vwap_signal%symbol=BNNS/BTCUSDT;vwap_type=s;vwap_depth=120;length=1</th>\n",
       "      <th>time_window%out_indexes=1;calc_avg_within_resolution=false;cosine_similarity=false;length=3600s;max_shift=0s;resolution=250ms;tracker=cross_cor;features=vwap_signal%symbol=BNN/SOLUSDT;vwap_type=es;vwap_depth=5;length=1@vwap_signal%symbol=BNNS/BTCUSDT;vwap_type=s;vwap_depth=120;length=1</th>\n",
       "      <th>time_window%out_indexes=1;calc_avg_within_resolution=false;cosine_similarity=false;length=3600s;max_shift=0s;resolution=250ms;tracker=cross_cor;features=vwap_signal%symbol=GIOS/SOLUSDT;vwap_type=es;vwap_depth=5;length=1@vwap_signal%symbol=BNNS/BTCUSDT;vwap_type=s;vwap_depth=120;length=1</th>\n",
       "      <th>time_window%out_indexes=1;calc_avg_within_resolution=false;cosine_similarity=false;length=3600s;max_shift=0s;resolution=250ms;tracker=cross_cor;features=vwap_signal%symbol=GIO/SOLUSDT;vwap_type=es;vwap_depth=5;length=1@vwap_signal%symbol=BNNS/BTCUSDT;vwap_type=s;vwap_depth=120;length=1</th>\n",
       "    </tr>\n",
       "    <tr>\n",
       "      <th>ts</th>\n",
       "      <th></th>\n",
       "      <th></th>\n",
       "      <th></th>\n",
       "      <th></th>\n",
       "      <th></th>\n",
       "      <th></th>\n",
       "      <th></th>\n",
       "      <th></th>\n",
       "      <th></th>\n",
       "      <th></th>\n",
       "      <th></th>\n",
       "      <th></th>\n",
       "      <th></th>\n",
       "      <th></th>\n",
       "      <th></th>\n",
       "      <th></th>\n",
       "      <th></th>\n",
       "      <th></th>\n",
       "      <th></th>\n",
       "      <th></th>\n",
       "      <th></th>\n",
       "    </tr>\n",
       "  </thead>\n",
       "  <tbody>\n",
       "    <tr>\n",
       "      <th>2023-11-07 00:00:00.039058</th>\n",
       "      <td>-0.000030</td>\n",
       "      <td>-0.000110</td>\n",
       "      <td>-0.000056</td>\n",
       "      <td>-0.000146</td>\n",
       "      <td>0.001948</td>\n",
       "      <td>0.006109</td>\n",
       "      <td>-0.000016</td>\n",
       "      <td>-0.000092</td>\n",
       "      <td>-0.000022</td>\n",
       "      <td>-0.000089</td>\n",
       "      <td>...</td>\n",
       "      <td>0.000752</td>\n",
       "      <td>0.001129</td>\n",
       "      <td>0.252480</td>\n",
       "      <td>0.004566</td>\n",
       "      <td>0.003436</td>\n",
       "      <td>0.001130</td>\n",
       "      <td>0.331759</td>\n",
       "      <td>0.317629</td>\n",
       "      <td>0.333394</td>\n",
       "      <td>0.329937</td>\n",
       "    </tr>\n",
       "    <tr>\n",
       "      <th>2023-11-07 00:00:00.239174</th>\n",
       "      <td>0.000044</td>\n",
       "      <td>0.000011</td>\n",
       "      <td>0.000056</td>\n",
       "      <td>-0.000033</td>\n",
       "      <td>0.002058</td>\n",
       "      <td>0.006221</td>\n",
       "      <td>0.000052</td>\n",
       "      <td>0.000037</td>\n",
       "      <td>0.000101</td>\n",
       "      <td>0.000036</td>\n",
       "      <td>...</td>\n",
       "      <td>0.000821</td>\n",
       "      <td>0.001060</td>\n",
       "      <td>0.267520</td>\n",
       "      <td>0.004566</td>\n",
       "      <td>0.003504</td>\n",
       "      <td>0.001062</td>\n",
       "      <td>0.331746</td>\n",
       "      <td>0.317575</td>\n",
       "      <td>0.333265</td>\n",
       "      <td>0.329918</td>\n",
       "    </tr>\n",
       "    <tr>\n",
       "      <th>2023-11-07 00:00:00.439214</th>\n",
       "      <td>-0.000048</td>\n",
       "      <td>-0.000086</td>\n",
       "      <td>-0.000045</td>\n",
       "      <td>-0.000133</td>\n",
       "      <td>0.001956</td>\n",
       "      <td>0.006119</td>\n",
       "      <td>-0.000056</td>\n",
       "      <td>-0.000074</td>\n",
       "      <td>-0.000009</td>\n",
       "      <td>-0.000073</td>\n",
       "      <td>...</td>\n",
       "      <td>0.000804</td>\n",
       "      <td>0.001077</td>\n",
       "      <td>0.263810</td>\n",
       "      <td>0.004566</td>\n",
       "      <td>0.003488</td>\n",
       "      <td>0.001078</td>\n",
       "      <td>0.331480</td>\n",
       "      <td>0.317486</td>\n",
       "      <td>0.333133</td>\n",
       "      <td>0.329821</td>\n",
       "    </tr>\n",
       "    <tr>\n",
       "      <th>2023-11-07 00:00:00.642429</th>\n",
       "      <td>-0.000020</td>\n",
       "      <td>0.000011</td>\n",
       "      <td>0.000060</td>\n",
       "      <td>-0.000026</td>\n",
       "      <td>0.002062</td>\n",
       "      <td>0.006226</td>\n",
       "      <td>-0.000023</td>\n",
       "      <td>0.000023</td>\n",
       "      <td>0.000098</td>\n",
       "      <td>0.000036</td>\n",
       "      <td>...</td>\n",
       "      <td>0.000804</td>\n",
       "      <td>0.001077</td>\n",
       "      <td>0.263810</td>\n",
       "      <td>0.004566</td>\n",
       "      <td>0.003488</td>\n",
       "      <td>0.001078</td>\n",
       "      <td>0.331452</td>\n",
       "      <td>0.317495</td>\n",
       "      <td>0.333113</td>\n",
       "      <td>0.329747</td>\n",
       "    </tr>\n",
       "    <tr>\n",
       "      <th>2023-11-07 00:00:00.843022</th>\n",
       "      <td>-0.000082</td>\n",
       "      <td>-0.000086</td>\n",
       "      <td>-0.000038</td>\n",
       "      <td>-0.000123</td>\n",
       "      <td>0.001964</td>\n",
       "      <td>0.006128</td>\n",
       "      <td>-0.000083</td>\n",
       "      <td>-0.000071</td>\n",
       "      <td>0.000007</td>\n",
       "      <td>-0.000054</td>\n",
       "      <td>...</td>\n",
       "      <td>0.000813</td>\n",
       "      <td>0.001068</td>\n",
       "      <td>0.265734</td>\n",
       "      <td>0.004566</td>\n",
       "      <td>0.003496</td>\n",
       "      <td>0.001070</td>\n",
       "      <td>0.331452</td>\n",
       "      <td>0.317495</td>\n",
       "      <td>0.333113</td>\n",
       "      <td>0.329747</td>\n",
       "    </tr>\n",
       "    <tr>\n",
       "      <th>...</th>\n",
       "      <td>...</td>\n",
       "      <td>...</td>\n",
       "      <td>...</td>\n",
       "      <td>...</td>\n",
       "      <td>...</td>\n",
       "      <td>...</td>\n",
       "      <td>...</td>\n",
       "      <td>...</td>\n",
       "      <td>...</td>\n",
       "      <td>...</td>\n",
       "      <td>...</td>\n",
       "      <td>...</td>\n",
       "      <td>...</td>\n",
       "      <td>...</td>\n",
       "      <td>...</td>\n",
       "      <td>...</td>\n",
       "      <td>...</td>\n",
       "      <td>...</td>\n",
       "      <td>...</td>\n",
       "      <td>...</td>\n",
       "      <td>...</td>\n",
       "    </tr>\n",
       "    <tr>\n",
       "      <th>2023-11-07 05:59:59.173959</th>\n",
       "      <td>0.000003</td>\n",
       "      <td>-0.000169</td>\n",
       "      <td>-0.000511</td>\n",
       "      <td>-0.000511</td>\n",
       "      <td>0.002971</td>\n",
       "      <td>0.005809</td>\n",
       "      <td>0.000002</td>\n",
       "      <td>-0.000156</td>\n",
       "      <td>-0.000494</td>\n",
       "      <td>-0.000483</td>\n",
       "      <td>...</td>\n",
       "      <td>0.000066</td>\n",
       "      <td>0.001053</td>\n",
       "      <td>0.313695</td>\n",
       "      <td>0.006935</td>\n",
       "      <td>0.005643</td>\n",
       "      <td>0.001292</td>\n",
       "      <td>0.423591</td>\n",
       "      <td>0.433577</td>\n",
       "      <td>0.441303</td>\n",
       "      <td>0.440603</td>\n",
       "    </tr>\n",
       "    <tr>\n",
       "      <th>2023-11-07 05:59:59.374425</th>\n",
       "      <td>0.000092</td>\n",
       "      <td>0.000016</td>\n",
       "      <td>-0.000338</td>\n",
       "      <td>-0.000344</td>\n",
       "      <td>0.003134</td>\n",
       "      <td>0.005974</td>\n",
       "      <td>0.000094</td>\n",
       "      <td>0.000031</td>\n",
       "      <td>-0.000316</td>\n",
       "      <td>-0.000311</td>\n",
       "      <td>...</td>\n",
       "      <td>0.000224</td>\n",
       "      <td>0.000895</td>\n",
       "      <td>0.336582</td>\n",
       "      <td>0.006935</td>\n",
       "      <td>0.005802</td>\n",
       "      <td>0.001133</td>\n",
       "      <td>0.423495</td>\n",
       "      <td>0.433430</td>\n",
       "      <td>0.441166</td>\n",
       "      <td>0.440518</td>\n",
       "    </tr>\n",
       "    <tr>\n",
       "      <th>2023-11-07 05:59:59.575851</th>\n",
       "      <td>-0.000011</td>\n",
       "      <td>0.000013</td>\n",
       "      <td>-0.000323</td>\n",
       "      <td>-0.000333</td>\n",
       "      <td>0.003141</td>\n",
       "      <td>0.005982</td>\n",
       "      <td>-0.000012</td>\n",
       "      <td>0.000008</td>\n",
       "      <td>-0.000322</td>\n",
       "      <td>-0.000321</td>\n",
       "      <td>...</td>\n",
       "      <td>0.000159</td>\n",
       "      <td>0.000960</td>\n",
       "      <td>0.327156</td>\n",
       "      <td>0.006935</td>\n",
       "      <td>0.005736</td>\n",
       "      <td>0.001199</td>\n",
       "      <td>0.423510</td>\n",
       "      <td>0.433443</td>\n",
       "      <td>0.441145</td>\n",
       "      <td>0.440507</td>\n",
       "    </tr>\n",
       "    <tr>\n",
       "      <th>2023-11-07 05:59:59.782922</th>\n",
       "      <td>0.000004</td>\n",
       "      <td>0.000033</td>\n",
       "      <td>-0.000290</td>\n",
       "      <td>-0.000304</td>\n",
       "      <td>0.003166</td>\n",
       "      <td>0.006009</td>\n",
       "      <td>0.000013</td>\n",
       "      <td>0.000043</td>\n",
       "      <td>-0.000274</td>\n",
       "      <td>-0.000277</td>\n",
       "      <td>...</td>\n",
       "      <td>0.000164</td>\n",
       "      <td>0.000941</td>\n",
       "      <td>0.327888</td>\n",
       "      <td>0.006935</td>\n",
       "      <td>0.005742</td>\n",
       "      <td>0.001194</td>\n",
       "      <td>0.423515</td>\n",
       "      <td>0.433452</td>\n",
       "      <td>0.441127</td>\n",
       "      <td>0.440488</td>\n",
       "    </tr>\n",
       "    <tr>\n",
       "      <th>2023-11-07 05:59:59.983103</th>\n",
       "      <td>-0.000019</td>\n",
       "      <td>0.000009</td>\n",
       "      <td>-0.000302</td>\n",
       "      <td>-0.000319</td>\n",
       "      <td>0.003146</td>\n",
       "      <td>0.005990</td>\n",
       "      <td>-0.000021</td>\n",
       "      <td>0.000012</td>\n",
       "      <td>-0.000291</td>\n",
       "      <td>-0.000298</td>\n",
       "      <td>...</td>\n",
       "      <td>0.000156</td>\n",
       "      <td>0.000949</td>\n",
       "      <td>0.326756</td>\n",
       "      <td>0.006935</td>\n",
       "      <td>0.005734</td>\n",
       "      <td>0.001201</td>\n",
       "      <td>0.423519</td>\n",
       "      <td>0.433456</td>\n",
       "      <td>0.441123</td>\n",
       "      <td>0.440482</td>\n",
       "    </tr>\n",
       "  </tbody>\n",
       "</table>\n",
       "<p>106999 rows × 350 columns</p>\n",
       "</div>"
      ],
      "text/plain": [
       "                            vwap_signal%symbol=BNNS/SOLUSDT;vwap_type=es;vwap_depth=5;length=0.1  \\\n",
       "ts                                                                                                 \n",
       "2023-11-07 00:00:00.039058                                          -0.000030                      \n",
       "2023-11-07 00:00:00.239174                                           0.000044                      \n",
       "2023-11-07 00:00:00.439214                                          -0.000048                      \n",
       "2023-11-07 00:00:00.642429                                          -0.000020                      \n",
       "2023-11-07 00:00:00.843022                                          -0.000082                      \n",
       "...                                                                       ...                      \n",
       "2023-11-07 05:59:59.173959                                           0.000003                      \n",
       "2023-11-07 05:59:59.374425                                           0.000092                      \n",
       "2023-11-07 05:59:59.575851                                          -0.000011                      \n",
       "2023-11-07 05:59:59.782922                                           0.000004                      \n",
       "2023-11-07 05:59:59.983103                                          -0.000019                      \n",
       "\n",
       "                            vwap_signal%symbol=BNNS/SOLUSDT;vwap_type=es;vwap_depth=5;length=1  \\\n",
       "ts                                                                                               \n",
       "2023-11-07 00:00:00.039058                                          -0.000110                    \n",
       "2023-11-07 00:00:00.239174                                           0.000011                    \n",
       "2023-11-07 00:00:00.439214                                          -0.000086                    \n",
       "2023-11-07 00:00:00.642429                                           0.000011                    \n",
       "2023-11-07 00:00:00.843022                                          -0.000086                    \n",
       "...                                                                       ...                    \n",
       "2023-11-07 05:59:59.173959                                          -0.000169                    \n",
       "2023-11-07 05:59:59.374425                                           0.000016                    \n",
       "2023-11-07 05:59:59.575851                                           0.000013                    \n",
       "2023-11-07 05:59:59.782922                                           0.000033                    \n",
       "2023-11-07 05:59:59.983103                                           0.000009                    \n",
       "\n",
       "                            vwap_signal%symbol=BNNS/SOLUSDT;vwap_type=es;vwap_depth=5;length=10  \\\n",
       "ts                                                                                                \n",
       "2023-11-07 00:00:00.039058                                          -0.000056                     \n",
       "2023-11-07 00:00:00.239174                                           0.000056                     \n",
       "2023-11-07 00:00:00.439214                                          -0.000045                     \n",
       "2023-11-07 00:00:00.642429                                           0.000060                     \n",
       "2023-11-07 00:00:00.843022                                          -0.000038                     \n",
       "...                                                                       ...                     \n",
       "2023-11-07 05:59:59.173959                                          -0.000511                     \n",
       "2023-11-07 05:59:59.374425                                          -0.000338                     \n",
       "2023-11-07 05:59:59.575851                                          -0.000323                     \n",
       "2023-11-07 05:59:59.782922                                          -0.000290                     \n",
       "2023-11-07 05:59:59.983103                                          -0.000302                     \n",
       "\n",
       "                            vwap_signal%symbol=BNNS/SOLUSDT;vwap_type=es;vwap_depth=5;length=30  \\\n",
       "ts                                                                                                \n",
       "2023-11-07 00:00:00.039058                                          -0.000146                     \n",
       "2023-11-07 00:00:00.239174                                          -0.000033                     \n",
       "2023-11-07 00:00:00.439214                                          -0.000133                     \n",
       "2023-11-07 00:00:00.642429                                          -0.000026                     \n",
       "2023-11-07 00:00:00.843022                                          -0.000123                     \n",
       "...                                                                       ...                     \n",
       "2023-11-07 05:59:59.173959                                          -0.000511                     \n",
       "2023-11-07 05:59:59.374425                                          -0.000344                     \n",
       "2023-11-07 05:59:59.575851                                          -0.000333                     \n",
       "2023-11-07 05:59:59.782922                                          -0.000304                     \n",
       "2023-11-07 05:59:59.983103                                          -0.000319                     \n",
       "\n",
       "                            vwap_signal%symbol=BNNS/SOLUSDT;vwap_type=es;vwap_depth=5;length=300  \\\n",
       "ts                                                                                                 \n",
       "2023-11-07 00:00:00.039058                                           0.001948                      \n",
       "2023-11-07 00:00:00.239174                                           0.002058                      \n",
       "2023-11-07 00:00:00.439214                                           0.001956                      \n",
       "2023-11-07 00:00:00.642429                                           0.002062                      \n",
       "2023-11-07 00:00:00.843022                                           0.001964                      \n",
       "...                                                                       ...                      \n",
       "2023-11-07 05:59:59.173959                                           0.002971                      \n",
       "2023-11-07 05:59:59.374425                                           0.003134                      \n",
       "2023-11-07 05:59:59.575851                                           0.003141                      \n",
       "2023-11-07 05:59:59.782922                                           0.003166                      \n",
       "2023-11-07 05:59:59.983103                                           0.003146                      \n",
       "\n",
       "                            vwap_signal%symbol=BNNS/SOLUSDT;vwap_type=es;vwap_depth=5;length=1800  \\\n",
       "ts                                                                                                  \n",
       "2023-11-07 00:00:00.039058                                           0.006109                       \n",
       "2023-11-07 00:00:00.239174                                           0.006221                       \n",
       "2023-11-07 00:00:00.439214                                           0.006119                       \n",
       "2023-11-07 00:00:00.642429                                           0.006226                       \n",
       "2023-11-07 00:00:00.843022                                           0.006128                       \n",
       "...                                                                       ...                       \n",
       "2023-11-07 05:59:59.173959                                           0.005809                       \n",
       "2023-11-07 05:59:59.374425                                           0.005974                       \n",
       "2023-11-07 05:59:59.575851                                           0.005982                       \n",
       "2023-11-07 05:59:59.782922                                           0.006009                       \n",
       "2023-11-07 05:59:59.983103                                           0.005990                       \n",
       "\n",
       "                            vwap_signal%symbol=BNNS/SOLUSDT;vwap_type=es;vwap_depth=25;length=0.1  \\\n",
       "ts                                                                                                  \n",
       "2023-11-07 00:00:00.039058                                          -0.000016                       \n",
       "2023-11-07 00:00:00.239174                                           0.000052                       \n",
       "2023-11-07 00:00:00.439214                                          -0.000056                       \n",
       "2023-11-07 00:00:00.642429                                          -0.000023                       \n",
       "2023-11-07 00:00:00.843022                                          -0.000083                       \n",
       "...                                                                       ...                       \n",
       "2023-11-07 05:59:59.173959                                           0.000002                       \n",
       "2023-11-07 05:59:59.374425                                           0.000094                       \n",
       "2023-11-07 05:59:59.575851                                          -0.000012                       \n",
       "2023-11-07 05:59:59.782922                                           0.000013                       \n",
       "2023-11-07 05:59:59.983103                                          -0.000021                       \n",
       "\n",
       "                            vwap_signal%symbol=BNNS/SOLUSDT;vwap_type=es;vwap_depth=25;length=1  \\\n",
       "ts                                                                                                \n",
       "2023-11-07 00:00:00.039058                                          -0.000092                     \n",
       "2023-11-07 00:00:00.239174                                           0.000037                     \n",
       "2023-11-07 00:00:00.439214                                          -0.000074                     \n",
       "2023-11-07 00:00:00.642429                                           0.000023                     \n",
       "2023-11-07 00:00:00.843022                                          -0.000071                     \n",
       "...                                                                       ...                     \n",
       "2023-11-07 05:59:59.173959                                          -0.000156                     \n",
       "2023-11-07 05:59:59.374425                                           0.000031                     \n",
       "2023-11-07 05:59:59.575851                                           0.000008                     \n",
       "2023-11-07 05:59:59.782922                                           0.000043                     \n",
       "2023-11-07 05:59:59.983103                                           0.000012                     \n",
       "\n",
       "                            vwap_signal%symbol=BNNS/SOLUSDT;vwap_type=es;vwap_depth=25;length=10  \\\n",
       "ts                                                                                                 \n",
       "2023-11-07 00:00:00.039058                                          -0.000022                      \n",
       "2023-11-07 00:00:00.239174                                           0.000101                      \n",
       "2023-11-07 00:00:00.439214                                          -0.000009                      \n",
       "2023-11-07 00:00:00.642429                                           0.000098                      \n",
       "2023-11-07 00:00:00.843022                                           0.000007                      \n",
       "...                                                                       ...                      \n",
       "2023-11-07 05:59:59.173959                                          -0.000494                      \n",
       "2023-11-07 05:59:59.374425                                          -0.000316                      \n",
       "2023-11-07 05:59:59.575851                                          -0.000322                      \n",
       "2023-11-07 05:59:59.782922                                          -0.000274                      \n",
       "2023-11-07 05:59:59.983103                                          -0.000291                      \n",
       "\n",
       "                            vwap_signal%symbol=BNNS/SOLUSDT;vwap_type=es;vwap_depth=25;length=30  \\\n",
       "ts                                                                                                 \n",
       "2023-11-07 00:00:00.039058                                          -0.000089                      \n",
       "2023-11-07 00:00:00.239174                                           0.000036                      \n",
       "2023-11-07 00:00:00.439214                                          -0.000073                      \n",
       "2023-11-07 00:00:00.642429                                           0.000036                      \n",
       "2023-11-07 00:00:00.843022                                          -0.000054                      \n",
       "...                                                                       ...                      \n",
       "2023-11-07 05:59:59.173959                                          -0.000483                      \n",
       "2023-11-07 05:59:59.374425                                          -0.000311                      \n",
       "2023-11-07 05:59:59.575851                                          -0.000321                      \n",
       "2023-11-07 05:59:59.782922                                          -0.000277                      \n",
       "2023-11-07 05:59:59.983103                                          -0.000298                      \n",
       "\n",
       "                            ...  \\\n",
       "ts                          ...   \n",
       "2023-11-07 00:00:00.039058  ...   \n",
       "2023-11-07 00:00:00.239174  ...   \n",
       "2023-11-07 00:00:00.439214  ...   \n",
       "2023-11-07 00:00:00.642429  ...   \n",
       "2023-11-07 00:00:00.843022  ...   \n",
       "...                         ...   \n",
       "2023-11-07 05:59:59.173959  ...   \n",
       "2023-11-07 05:59:59.374425  ...   \n",
       "2023-11-07 05:59:59.575851  ...   \n",
       "2023-11-07 05:59:59.782922  ...   \n",
       "2023-11-07 05:59:59.983103  ...   \n",
       "\n",
       "                            time_window%out_indexes=0;length=30;tracker=stoch_range;features=vwap_inst%symbol=GIO/SOLUSDT;vwap_type=es;vwap_depth=5  \\\n",
       "ts                                                                                                                                                    \n",
       "2023-11-07 00:00:00.039058                                           0.000752                                                                         \n",
       "2023-11-07 00:00:00.239174                                           0.000821                                                                         \n",
       "2023-11-07 00:00:00.439214                                           0.000804                                                                         \n",
       "2023-11-07 00:00:00.642429                                           0.000804                                                                         \n",
       "2023-11-07 00:00:00.843022                                           0.000813                                                                         \n",
       "...                                                                       ...                                                                         \n",
       "2023-11-07 05:59:59.173959                                           0.000066                                                                         \n",
       "2023-11-07 05:59:59.374425                                           0.000224                                                                         \n",
       "2023-11-07 05:59:59.575851                                           0.000159                                                                         \n",
       "2023-11-07 05:59:59.782922                                           0.000164                                                                         \n",
       "2023-11-07 05:59:59.983103                                           0.000156                                                                         \n",
       "\n",
       "                            time_window%out_indexes=1;length=30;tracker=stoch_range;features=vwap_inst%symbol=GIO/SOLUSDT;vwap_type=es;vwap_depth=5  \\\n",
       "ts                                                                                                                                                    \n",
       "2023-11-07 00:00:00.039058                                           0.001129                                                                         \n",
       "2023-11-07 00:00:00.239174                                           0.001060                                                                         \n",
       "2023-11-07 00:00:00.439214                                           0.001077                                                                         \n",
       "2023-11-07 00:00:00.642429                                           0.001077                                                                         \n",
       "2023-11-07 00:00:00.843022                                           0.001068                                                                         \n",
       "...                                                                       ...                                                                         \n",
       "2023-11-07 05:59:59.173959                                           0.001053                                                                         \n",
       "2023-11-07 05:59:59.374425                                           0.000895                                                                         \n",
       "2023-11-07 05:59:59.575851                                           0.000960                                                                         \n",
       "2023-11-07 05:59:59.782922                                           0.000941                                                                         \n",
       "2023-11-07 05:59:59.983103                                           0.000949                                                                         \n",
       "\n",
       "                            time_window%out_indexes=3;length=300;tracker=stoch_range;features=vwap_inst%symbol=GIO/SOLUSDT;vwap_type=es;vwap_depth=5  \\\n",
       "ts                                                                                                                                                     \n",
       "2023-11-07 00:00:00.039058                                           0.252480                                                                          \n",
       "2023-11-07 00:00:00.239174                                           0.267520                                                                          \n",
       "2023-11-07 00:00:00.439214                                           0.263810                                                                          \n",
       "2023-11-07 00:00:00.642429                                           0.263810                                                                          \n",
       "2023-11-07 00:00:00.843022                                           0.265734                                                                          \n",
       "...                                                                       ...                                                                          \n",
       "2023-11-07 05:59:59.173959                                           0.313695                                                                          \n",
       "2023-11-07 05:59:59.374425                                           0.336582                                                                          \n",
       "2023-11-07 05:59:59.575851                                           0.327156                                                                          \n",
       "2023-11-07 05:59:59.782922                                           0.327888                                                                          \n",
       "2023-11-07 05:59:59.983103                                           0.326756                                                                          \n",
       "\n",
       "                            time_window%out_indexes=2;length=300;tracker=stoch_range;features=vwap_inst%symbol=GIO/SOLUSDT;vwap_type=es;vwap_depth=5  \\\n",
       "ts                                                                                                                                                     \n",
       "2023-11-07 00:00:00.039058                                           0.004566                                                                          \n",
       "2023-11-07 00:00:00.239174                                           0.004566                                                                          \n",
       "2023-11-07 00:00:00.439214                                           0.004566                                                                          \n",
       "2023-11-07 00:00:00.642429                                           0.004566                                                                          \n",
       "2023-11-07 00:00:00.843022                                           0.004566                                                                          \n",
       "...                                                                       ...                                                                          \n",
       "2023-11-07 05:59:59.173959                                           0.006935                                                                          \n",
       "2023-11-07 05:59:59.374425                                           0.006935                                                                          \n",
       "2023-11-07 05:59:59.575851                                           0.006935                                                                          \n",
       "2023-11-07 05:59:59.782922                                           0.006935                                                                          \n",
       "2023-11-07 05:59:59.983103                                           0.006935                                                                          \n",
       "\n",
       "                            time_window%out_indexes=0;length=300;tracker=stoch_range;features=vwap_inst%symbol=GIO/SOLUSDT;vwap_type=es;vwap_depth=5  \\\n",
       "ts                                                                                                                                                     \n",
       "2023-11-07 00:00:00.039058                                           0.003436                                                                          \n",
       "2023-11-07 00:00:00.239174                                           0.003504                                                                          \n",
       "2023-11-07 00:00:00.439214                                           0.003488                                                                          \n",
       "2023-11-07 00:00:00.642429                                           0.003488                                                                          \n",
       "2023-11-07 00:00:00.843022                                           0.003496                                                                          \n",
       "...                                                                       ...                                                                          \n",
       "2023-11-07 05:59:59.173959                                           0.005643                                                                          \n",
       "2023-11-07 05:59:59.374425                                           0.005802                                                                          \n",
       "2023-11-07 05:59:59.575851                                           0.005736                                                                          \n",
       "2023-11-07 05:59:59.782922                                           0.005742                                                                          \n",
       "2023-11-07 05:59:59.983103                                           0.005734                                                                          \n",
       "\n",
       "                            time_window%out_indexes=1;length=300;tracker=stoch_range;features=vwap_inst%symbol=GIO/SOLUSDT;vwap_type=es;vwap_depth=5  \\\n",
       "ts                                                                                                                                                     \n",
       "2023-11-07 00:00:00.039058                                           0.001130                                                                          \n",
       "2023-11-07 00:00:00.239174                                           0.001062                                                                          \n",
       "2023-11-07 00:00:00.439214                                           0.001078                                                                          \n",
       "2023-11-07 00:00:00.642429                                           0.001078                                                                          \n",
       "2023-11-07 00:00:00.843022                                           0.001070                                                                          \n",
       "...                                                                       ...                                                                          \n",
       "2023-11-07 05:59:59.173959                                           0.001292                                                                          \n",
       "2023-11-07 05:59:59.374425                                           0.001133                                                                          \n",
       "2023-11-07 05:59:59.575851                                           0.001199                                                                          \n",
       "2023-11-07 05:59:59.782922                                           0.001194                                                                          \n",
       "2023-11-07 05:59:59.983103                                           0.001201                                                                          \n",
       "\n",
       "                            time_window%out_indexes=1;calc_avg_within_resolution=false;cosine_similarity=false;length=3600s;max_shift=0s;resolution=250ms;tracker=cross_cor;features=vwap_signal%symbol=BNNS/SOLUSDT;vwap_type=es;vwap_depth=5;length=1@vwap_signal%symbol=BNNS/BTCUSDT;vwap_type=s;vwap_depth=120;length=1  \\\n",
       "ts                                                                                                                                                                                                                                                                                                                            \n",
       "2023-11-07 00:00:00.039058                                           0.331759                                                                                                                                                                                                                                                 \n",
       "2023-11-07 00:00:00.239174                                           0.331746                                                                                                                                                                                                                                                 \n",
       "2023-11-07 00:00:00.439214                                           0.331480                                                                                                                                                                                                                                                 \n",
       "2023-11-07 00:00:00.642429                                           0.331452                                                                                                                                                                                                                                                 \n",
       "2023-11-07 00:00:00.843022                                           0.331452                                                                                                                                                                                                                                                 \n",
       "...                                                                       ...                                                                                                                                                                                                                                                 \n",
       "2023-11-07 05:59:59.173959                                           0.423591                                                                                                                                                                                                                                                 \n",
       "2023-11-07 05:59:59.374425                                           0.423495                                                                                                                                                                                                                                                 \n",
       "2023-11-07 05:59:59.575851                                           0.423510                                                                                                                                                                                                                                                 \n",
       "2023-11-07 05:59:59.782922                                           0.423515                                                                                                                                                                                                                                                 \n",
       "2023-11-07 05:59:59.983103                                           0.423519                                                                                                                                                                                                                                                 \n",
       "\n",
       "                            time_window%out_indexes=1;calc_avg_within_resolution=false;cosine_similarity=false;length=3600s;max_shift=0s;resolution=250ms;tracker=cross_cor;features=vwap_signal%symbol=BNN/SOLUSDT;vwap_type=es;vwap_depth=5;length=1@vwap_signal%symbol=BNNS/BTCUSDT;vwap_type=s;vwap_depth=120;length=1  \\\n",
       "ts                                                                                                                                                                                                                                                                                                                           \n",
       "2023-11-07 00:00:00.039058                                           0.317629                                                                                                                                                                                                                                                \n",
       "2023-11-07 00:00:00.239174                                           0.317575                                                                                                                                                                                                                                                \n",
       "2023-11-07 00:00:00.439214                                           0.317486                                                                                                                                                                                                                                                \n",
       "2023-11-07 00:00:00.642429                                           0.317495                                                                                                                                                                                                                                                \n",
       "2023-11-07 00:00:00.843022                                           0.317495                                                                                                                                                                                                                                                \n",
       "...                                                                       ...                                                                                                                                                                                                                                                \n",
       "2023-11-07 05:59:59.173959                                           0.433577                                                                                                                                                                                                                                                \n",
       "2023-11-07 05:59:59.374425                                           0.433430                                                                                                                                                                                                                                                \n",
       "2023-11-07 05:59:59.575851                                           0.433443                                                                                                                                                                                                                                                \n",
       "2023-11-07 05:59:59.782922                                           0.433452                                                                                                                                                                                                                                                \n",
       "2023-11-07 05:59:59.983103                                           0.433456                                                                                                                                                                                                                                                \n",
       "\n",
       "                            time_window%out_indexes=1;calc_avg_within_resolution=false;cosine_similarity=false;length=3600s;max_shift=0s;resolution=250ms;tracker=cross_cor;features=vwap_signal%symbol=GIOS/SOLUSDT;vwap_type=es;vwap_depth=5;length=1@vwap_signal%symbol=BNNS/BTCUSDT;vwap_type=s;vwap_depth=120;length=1  \\\n",
       "ts                                                                                                                                                                                                                                                                                                                            \n",
       "2023-11-07 00:00:00.039058                                           0.333394                                                                                                                                                                                                                                                 \n",
       "2023-11-07 00:00:00.239174                                           0.333265                                                                                                                                                                                                                                                 \n",
       "2023-11-07 00:00:00.439214                                           0.333133                                                                                                                                                                                                                                                 \n",
       "2023-11-07 00:00:00.642429                                           0.333113                                                                                                                                                                                                                                                 \n",
       "2023-11-07 00:00:00.843022                                           0.333113                                                                                                                                                                                                                                                 \n",
       "...                                                                       ...                                                                                                                                                                                                                                                 \n",
       "2023-11-07 05:59:59.173959                                           0.441303                                                                                                                                                                                                                                                 \n",
       "2023-11-07 05:59:59.374425                                           0.441166                                                                                                                                                                                                                                                 \n",
       "2023-11-07 05:59:59.575851                                           0.441145                                                                                                                                                                                                                                                 \n",
       "2023-11-07 05:59:59.782922                                           0.441127                                                                                                                                                                                                                                                 \n",
       "2023-11-07 05:59:59.983103                                           0.441123                                                                                                                                                                                                                                                 \n",
       "\n",
       "                            time_window%out_indexes=1;calc_avg_within_resolution=false;cosine_similarity=false;length=3600s;max_shift=0s;resolution=250ms;tracker=cross_cor;features=vwap_signal%symbol=GIO/SOLUSDT;vwap_type=es;vwap_depth=5;length=1@vwap_signal%symbol=BNNS/BTCUSDT;vwap_type=s;vwap_depth=120;length=1  \n",
       "ts                                                                                                                                                                                                                                                                                                                          \n",
       "2023-11-07 00:00:00.039058                                           0.329937                                                                                                                                                                                                                                               \n",
       "2023-11-07 00:00:00.239174                                           0.329918                                                                                                                                                                                                                                               \n",
       "2023-11-07 00:00:00.439214                                           0.329821                                                                                                                                                                                                                                               \n",
       "2023-11-07 00:00:00.642429                                           0.329747                                                                                                                                                                                                                                               \n",
       "2023-11-07 00:00:00.843022                                           0.329747                                                                                                                                                                                                                                               \n",
       "...                                                                       ...                                                                                                                                                                                                                                               \n",
       "2023-11-07 05:59:59.173959                                           0.440603                                                                                                                                                                                                                                               \n",
       "2023-11-07 05:59:59.374425                                           0.440518                                                                                                                                                                                                                                               \n",
       "2023-11-07 05:59:59.575851                                           0.440507                                                                                                                                                                                                                                               \n",
       "2023-11-07 05:59:59.782922                                           0.440488                                                                                                                                                                                                                                               \n",
       "2023-11-07 05:59:59.983103                                           0.440482                                                                                                                                                                                                                                               \n",
       "\n",
       "[106999 rows x 350 columns]"
      ]
     },
     "execution_count": 4,
     "metadata": {},
     "output_type": "execute_result"
    }
   ],
   "source": [
    "df"
   ]
  },
  {
   "cell_type": "code",
   "execution_count": 10,
   "metadata": {},
   "outputs": [
    {
     "data": {
      "application/vnd.jupyter.widget-view+json": {
       "model_id": "74be34aba03548c983859b6e6788b69a",
       "version_major": 2,
       "version_minor": 0
      },
      "text/plain": [
       "Repartition\n",
       "+- Dataset(num_blocks=1, num_rows=1073741824, schema={col_0: float32})"
      ]
     },
     "execution_count": 10,
     "metadata": {},
     "output_type": "execute_result"
    }
   ],
   "source": [
    "ds = ray.data.from_pandas(df).repartition(200)\n",
    "\n",
    "for i in range(4)\n",
    "    ds = ds.union(ds)"
   ]
  },
  {
   "cell_type": "code",
   "execution_count": 12,
   "metadata": {},
   "outputs": [
    {
     "name": "stderr",
     "output_type": "stream",
     "text": [
      "2024-03-08 22:41:48,119\tINFO streaming_executor.py:112 -- Executing DAG InputDataBuffer[Input] -> TaskPoolMapOperator[Write]\n",
      "2024-03-08 22:41:48,120\tINFO streaming_executor.py:113 -- Execution config: ExecutionOptions(resource_limits=ExecutionResources(cpu=None, gpu=None, object_store_memory=None), exclude_resources=ExecutionResources(cpu=0, gpu=0, object_store_memory=0), locality_with_output=False, preserve_order=False, actor_locality_enabled=True, verbose_progress=True)\n"
     ]
    },
    {
     "data": {
      "application/vnd.jupyter.widget-view+json": {
       "model_id": "1557e2081f674b8f9619f08a167dd4ed",
       "version_major": 2,
       "version_minor": 0
      },
      "text/plain": [
       "- Write 1:   0%|          | 0/50 [00:00<?, ?it/s]"
      ]
     },
     "metadata": {},
     "output_type": "display_data"
    },
    {
     "data": {
      "application/vnd.jupyter.widget-view+json": {
       "model_id": "6705d10b21b84c1eb959d4f262d4338f",
       "version_major": 2,
       "version_minor": 0
      },
      "text/plain": [
       "Running 0:   0%|          | 0/50 [00:00<?, ?it/s]"
      ]
     },
     "metadata": {},
     "output_type": "display_data"
    }
   ],
   "source": [
    "ds.write_parquet(\"s3://tmp-grachev/ray_data\")"
   ]
  },
  {
   "cell_type": "code",
   "execution_count": 3,
   "metadata": {},
   "outputs": [
    {
     "name": "stderr",
     "output_type": "stream",
     "text": [
      "/home/ubuntu/data_bench/.venv/lib/python3.10/site-packages/ray/data/datasource/parquet_datasource.py:242: FutureWarning: Passing 'use_legacy_dataset' is deprecated as of pyarrow 15.0.0 and will be removed in a future version.\n",
      "  pq_ds = pq.ParquetDataset(\n"
     ]
    },
    {
     "data": {
      "application/vnd.jupyter.widget-view+json": {
       "model_id": "115ee05eeb12420ba36e8a9ba044f10c",
       "version_major": 2,
       "version_minor": 0
      },
      "text/plain": [
       "Metadata Fetch Progress 0:   0%|          | 0/8 [00:00<?, ?it/s]"
      ]
     },
     "metadata": {},
     "output_type": "display_data"
    },
    {
     "name": "stderr",
     "output_type": "stream",
     "text": [
      "2024-03-08 23:33:12,434\tINFO worker.py:1724 -- Started a local Ray instance.\n"
     ]
    },
    {
     "data": {
      "application/vnd.jupyter.widget-view+json": {
       "model_id": "3d0b42472b584712afa5b89de49bdedb",
       "version_major": 2,
       "version_minor": 0
      },
      "text/plain": [
       "Parquet Files Sample 0:   0%|          | 0/2 [00:00<?, ?it/s]"
      ]
     },
     "metadata": {},
     "output_type": "display_data"
    },
    {
     "data": {
      "application/vnd.jupyter.widget-view+json": {
       "model_id": "8ad5971c9efc42fdac17b8016629ebf8",
       "version_major": 2,
       "version_minor": 0
      },
      "text/plain": [
       "Read progress 0:   0%|          | 0/50 [00:00<?, ?it/s]"
      ]
     },
     "metadata": {},
     "output_type": "display_data"
    },
    {
     "name": "stderr",
     "output_type": "stream",
     "text": [
      "\u001b[36m(_execute_read_task_split pid=191310)\u001b[0m /home/ubuntu/data_bench/.venv/lib/python3.10/site-packages/ray/data/_internal/arrow_block.py:148: FutureWarning: promote has been superseded by promote_options='default'.\n",
      "\u001b[36m(_execute_read_task_split pid=191310)\u001b[0m   return transform_pyarrow.concat(tables)\n"
     ]
    }
   ],
   "source": [
    "ds = ray.data.read_parquet(\"s3://tmp-grachev/ray_data\", parallelism=200).materialize()"
   ]
  },
  {
   "cell_type": "code",
   "execution_count": 4,
   "metadata": {},
   "outputs": [
    {
     "name": "stderr",
     "output_type": "stream",
     "text": [
      "2024-03-08 23:33:44,453\tINFO streaming_executor.py:112 -- Executing DAG InputDataBuffer[Input] -> AllToAllOperator[RandomShuffle]\n",
      "2024-03-08 23:33:44,454\tINFO streaming_executor.py:113 -- Execution config: ExecutionOptions(resource_limits=ExecutionResources(cpu=None, gpu=None, object_store_memory=None), exclude_resources=ExecutionResources(cpu=0, gpu=0, object_store_memory=0), locality_with_output=False, preserve_order=False, actor_locality_enabled=True, verbose_progress=True)\n"
     ]
    },
    {
     "data": {
      "application/vnd.jupyter.widget-view+json": {
       "model_id": "2fc45a79a1da42cd954a618d85a2ba22",
       "version_major": 2,
       "version_minor": 0
      },
      "text/plain": [
       "- RandomShuffle 1:   0%|          | 0/200 [00:00<?, ?it/s]"
      ]
     },
     "metadata": {},
     "output_type": "display_data"
    },
    {
     "data": {
      "application/vnd.jupyter.widget-view+json": {
       "model_id": "ba1f6793261c48fb899202deae1e4c3a",
       "version_major": 2,
       "version_minor": 0
      },
      "text/plain": [
       "Shuffle Map 2:   0%|          | 0/200 [00:00<?, ?it/s]"
      ]
     },
     "metadata": {},
     "output_type": "display_data"
    },
    {
     "data": {
      "application/vnd.jupyter.widget-view+json": {
       "model_id": "8b10318929954b52ab47509804502dbf",
       "version_major": 2,
       "version_minor": 0
      },
      "text/plain": [
       "Shuffle Reduce 3:   0%|          | 0/200 [00:00<?, ?it/s]"
      ]
     },
     "metadata": {},
     "output_type": "display_data"
    },
    {
     "data": {
      "application/vnd.jupyter.widget-view+json": {
       "model_id": "d205e6818307480c940ec532f73c706f",
       "version_major": 2,
       "version_minor": 0
      },
      "text/plain": [
       "Running 0:   0%|          | 0/200 [00:00<?, ?it/s]"
      ]
     },
     "metadata": {},
     "output_type": "display_data"
    },
    {
     "name": "stderr",
     "output_type": "stream",
     "text": [
      "\u001b[36m(raylet)\u001b[0m Spilled 2674 MiB, 1993 objects, write throughput 474 MiB/s. Set RAY_verbose_spill_logs=0 to disable this message.\n",
      "\u001b[36m(raylet)\u001b[0m Spilled 6041 MiB, 3983 objects, write throughput 808 MiB/s.\n",
      "\u001b[36m(raylet)\u001b[0m Spilled 16476 MiB, 9966 objects, write throughput 1266 MiB/s.\u001b[32m [repeated 2x across cluster]\u001b[0m\n",
      "\u001b[36m(raylet)\u001b[0m Spilled 33297 MiB, 23208 objects, write throughput 745 MiB/s.\n"
     ]
    }
   ],
   "source": [
    "ds1 = ds.random_shuffle().materialize()"
   ]
  },
  {
   "cell_type": "code",
   "execution_count": 4,
   "metadata": {},
   "outputs": [
    {
     "name": "stderr",
     "output_type": "stream",
     "text": [
      "/home/ubuntu/data_bench/.venv/lib/python3.10/site-packages/ray/data/datasource/parquet_datasource.py:242: FutureWarning: Passing 'use_legacy_dataset' is deprecated as of pyarrow 15.0.0 and will be removed in a future version.\n",
      "  pq_ds = pq.ParquetDataset(\n"
     ]
    },
    {
     "data": {
      "application/vnd.jupyter.widget-view+json": {
       "model_id": "b5fc8e311719421ca79e00f6cf492a69",
       "version_major": 2,
       "version_minor": 0
      },
      "text/plain": [
       "Metadata Fetch Progress 0:   0%|          | 0/8 [00:00<?, ?it/s]"
      ]
     },
     "metadata": {},
     "output_type": "display_data"
    },
    {
     "data": {
      "application/vnd.jupyter.widget-view+json": {
       "model_id": "39daab64b8214bd99e5631ec2bb1191f",
       "version_major": 2,
       "version_minor": 0
      },
      "text/plain": [
       "Parquet Files Sample 0:   0%|          | 0/2 [00:00<?, ?it/s]"
      ]
     },
     "metadata": {},
     "output_type": "display_data"
    }
   ],
   "source": [
    "ds = ray.data.read_parquet(\"s3://tmp-grachev/ray_data\", parallelism=200)"
   ]
  },
  {
   "cell_type": "code",
   "execution_count": 9,
   "metadata": {},
   "outputs": [],
   "source": [
    "it = ds.to_torch(feature_columns=ds.columns(), batch_size=800000)\n"
   ]
  },
  {
   "cell_type": "code",
   "execution_count": 10,
   "metadata": {},
   "outputs": [
    {
     "name": "stderr",
     "output_type": "stream",
     "text": [
      "2024-03-08 23:39:49,307\tINFO streaming_executor.py:112 -- Executing DAG InputDataBuffer[Input] -> TaskPoolMapOperator[ReadParquet]\n",
      "2024-03-08 23:39:49,308\tINFO streaming_executor.py:113 -- Execution config: ExecutionOptions(resource_limits=ExecutionResources(cpu=None, gpu=None, object_store_memory=None), exclude_resources=ExecutionResources(cpu=0, gpu=0, object_store_memory=0), locality_with_output=False, preserve_order=False, actor_locality_enabled=True, verbose_progress=True)\n"
     ]
    },
    {
     "data": {
      "application/vnd.jupyter.widget-view+json": {
       "model_id": "a190695972ec40bab7d9c09dde8430be",
       "version_major": 2,
       "version_minor": 0
      },
      "text/plain": [
       "- ReadParquet 1:   0%|          | 0/50 [00:00<?, ?it/s]"
      ]
     },
     "metadata": {},
     "output_type": "display_data"
    },
    {
     "data": {
      "application/vnd.jupyter.widget-view+json": {
       "model_id": "08610fb8564f43aca12037d888f138bf",
       "version_major": 2,
       "version_minor": 0
      },
      "text/plain": [
       "Running 0:   0%|          | 0/50 [00:00<?, ?it/s]"
      ]
     },
     "metadata": {},
     "output_type": "display_data"
    },
    {
     "name": "stderr",
     "output_type": "stream",
     "text": [
      "/home/ubuntu/data_bench/.venv/lib/python3.10/site-packages/ray/data/_internal/arrow_block.py:148: FutureWarning: promote has been superseded by promote_options='default'.\n",
      "  return transform_pyarrow.concat(tables)\n",
      "/home/ubuntu/data_bench/.venv/lib/python3.10/site-packages/ray/data/_internal/arrow_block.py:148: FutureWarning: promote has been superseded by promote_options='default'.\n",
      "  return transform_pyarrow.concat(tables)\n",
      "/home/ubuntu/data_bench/.venv/lib/python3.10/site-packages/ray/data/_internal/arrow_block.py:148: FutureWarning: promote has been superseded by promote_options='default'.\n",
      "  return transform_pyarrow.concat(tables)\n",
      "/home/ubuntu/data_bench/.venv/lib/python3.10/site-packages/ray/data/_internal/arrow_block.py:148: FutureWarning: promote has been superseded by promote_options='default'.\n",
      "  return transform_pyarrow.concat(tables)\n",
      "/home/ubuntu/data_bench/.venv/lib/python3.10/site-packages/ray/data/_internal/arrow_block.py:148: FutureWarning: promote has been superseded by promote_options='default'.\n",
      "  return transform_pyarrow.concat(tables)\n",
      "/home/ubuntu/data_bench/.venv/lib/python3.10/site-packages/ray/data/_internal/arrow_block.py:148: FutureWarning: promote has been superseded by promote_options='default'.\n",
      "  return transform_pyarrow.concat(tables)\n",
      "/home/ubuntu/data_bench/.venv/lib/python3.10/site-packages/ray/data/_internal/arrow_block.py:148: FutureWarning: promote has been superseded by promote_options='default'.\n",
      "  return transform_pyarrow.concat(tables)\n",
      "/home/ubuntu/data_bench/.venv/lib/python3.10/site-packages/ray/data/_internal/arrow_block.py:148: FutureWarning: promote has been superseded by promote_options='default'.\n",
      "  return transform_pyarrow.concat(tables)\n",
      "/home/ubuntu/data_bench/.venv/lib/python3.10/site-packages/ray/data/_internal/arrow_block.py:148: FutureWarning: promote has been superseded by promote_options='default'.\n",
      "  return transform_pyarrow.concat(tables)\n",
      "/home/ubuntu/data_bench/.venv/lib/python3.10/site-packages/ray/data/_internal/arrow_block.py:148: FutureWarning: promote has been superseded by promote_options='default'.\n",
      "  return transform_pyarrow.concat(tables)\n",
      "/home/ubuntu/data_bench/.venv/lib/python3.10/site-packages/ray/data/_internal/arrow_block.py:148: FutureWarning: promote has been superseded by promote_options='default'.\n",
      "  return transform_pyarrow.concat(tables)\n",
      "/home/ubuntu/data_bench/.venv/lib/python3.10/site-packages/ray/data/_internal/arrow_block.py:148: FutureWarning: promote has been superseded by promote_options='default'.\n",
      "  return transform_pyarrow.concat(tables)\n",
      "/home/ubuntu/data_bench/.venv/lib/python3.10/site-packages/ray/data/_internal/arrow_block.py:148: FutureWarning: promote has been superseded by promote_options='default'.\n",
      "  return transform_pyarrow.concat(tables)\n",
      "/home/ubuntu/data_bench/.venv/lib/python3.10/site-packages/ray/data/_internal/arrow_block.py:148: FutureWarning: promote has been superseded by promote_options='default'.\n",
      "  return transform_pyarrow.concat(tables)\n",
      "/home/ubuntu/data_bench/.venv/lib/python3.10/site-packages/ray/data/_internal/arrow_block.py:148: FutureWarning: promote has been superseded by promote_options='default'.\n",
      "  return transform_pyarrow.concat(tables)\n",
      "/home/ubuntu/data_bench/.venv/lib/python3.10/site-packages/ray/data/_internal/arrow_block.py:148: FutureWarning: promote has been superseded by promote_options='default'.\n",
      "  return transform_pyarrow.concat(tables)\n",
      "/home/ubuntu/data_bench/.venv/lib/python3.10/site-packages/ray/data/_internal/arrow_block.py:148: FutureWarning: promote has been superseded by promote_options='default'.\n",
      "  return transform_pyarrow.concat(tables)\n",
      "/home/ubuntu/data_bench/.venv/lib/python3.10/site-packages/ray/data/_internal/arrow_block.py:148: FutureWarning: promote has been superseded by promote_options='default'.\n",
      "  return transform_pyarrow.concat(tables)\n",
      "/home/ubuntu/data_bench/.venv/lib/python3.10/site-packages/ray/data/_internal/arrow_block.py:148: FutureWarning: promote has been superseded by promote_options='default'.\n",
      "  return transform_pyarrow.concat(tables)\n",
      "/home/ubuntu/data_bench/.venv/lib/python3.10/site-packages/ray/data/_internal/arrow_block.py:148: FutureWarning: promote has been superseded by promote_options='default'.\n",
      "  return transform_pyarrow.concat(tables)\n",
      "/home/ubuntu/data_bench/.venv/lib/python3.10/site-packages/ray/data/_internal/arrow_block.py:148: FutureWarning: promote has been superseded by promote_options='default'.\n",
      "  return transform_pyarrow.concat(tables)\n",
      "/home/ubuntu/data_bench/.venv/lib/python3.10/site-packages/ray/data/_internal/arrow_block.py:148: FutureWarning: promote has been superseded by promote_options='default'.\n",
      "  return transform_pyarrow.concat(tables)\n",
      "/home/ubuntu/data_bench/.venv/lib/python3.10/site-packages/ray/data/_internal/arrow_block.py:148: FutureWarning: promote has been superseded by promote_options='default'.\n",
      "  return transform_pyarrow.concat(tables)\n",
      "/home/ubuntu/data_bench/.venv/lib/python3.10/site-packages/ray/data/_internal/arrow_block.py:148: FutureWarning: promote has been superseded by promote_options='default'.\n",
      "  return transform_pyarrow.concat(tables)\n",
      "/home/ubuntu/data_bench/.venv/lib/python3.10/site-packages/ray/data/_internal/arrow_block.py:148: FutureWarning: promote has been superseded by promote_options='default'.\n",
      "  return transform_pyarrow.concat(tables)\n",
      "/home/ubuntu/data_bench/.venv/lib/python3.10/site-packages/ray/data/_internal/arrow_block.py:148: FutureWarning: promote has been superseded by promote_options='default'.\n",
      "  return transform_pyarrow.concat(tables)\n",
      "/home/ubuntu/data_bench/.venv/lib/python3.10/site-packages/ray/data/_internal/arrow_block.py:148: FutureWarning: promote has been superseded by promote_options='default'.\n",
      "  return transform_pyarrow.concat(tables)\n",
      "/home/ubuntu/data_bench/.venv/lib/python3.10/site-packages/ray/data/_internal/arrow_block.py:148: FutureWarning: promote has been superseded by promote_options='default'.\n",
      "  return transform_pyarrow.concat(tables)\n",
      "/home/ubuntu/data_bench/.venv/lib/python3.10/site-packages/ray/data/_internal/arrow_block.py:148: FutureWarning: promote has been superseded by promote_options='default'.\n",
      "  return transform_pyarrow.concat(tables)\n",
      "/home/ubuntu/data_bench/.venv/lib/python3.10/site-packages/ray/data/_internal/arrow_block.py:148: FutureWarning: promote has been superseded by promote_options='default'.\n",
      "  return transform_pyarrow.concat(tables)\n",
      "/home/ubuntu/data_bench/.venv/lib/python3.10/site-packages/ray/data/_internal/arrow_block.py:148: FutureWarning: promote has been superseded by promote_options='default'.\n",
      "  return transform_pyarrow.concat(tables)\n",
      "/home/ubuntu/data_bench/.venv/lib/python3.10/site-packages/ray/data/_internal/arrow_block.py:148: FutureWarning: promote has been superseded by promote_options='default'.\n",
      "  return transform_pyarrow.concat(tables)\n",
      "/home/ubuntu/data_bench/.venv/lib/python3.10/site-packages/ray/data/_internal/arrow_block.py:148: FutureWarning: promote has been superseded by promote_options='default'.\n",
      "  return transform_pyarrow.concat(tables)\n",
      "/home/ubuntu/data_bench/.venv/lib/python3.10/site-packages/ray/data/_internal/arrow_block.py:148: FutureWarning: promote has been superseded by promote_options='default'.\n",
      "  return transform_pyarrow.concat(tables)\n",
      "/home/ubuntu/data_bench/.venv/lib/python3.10/site-packages/ray/data/_internal/arrow_block.py:148: FutureWarning: promote has been superseded by promote_options='default'.\n",
      "  return transform_pyarrow.concat(tables)\n",
      "/home/ubuntu/data_bench/.venv/lib/python3.10/site-packages/ray/data/_internal/arrow_block.py:148: FutureWarning: promote has been superseded by promote_options='default'.\n",
      "  return transform_pyarrow.concat(tables)\n",
      "/home/ubuntu/data_bench/.venv/lib/python3.10/site-packages/ray/data/_internal/arrow_block.py:148: FutureWarning: promote has been superseded by promote_options='default'.\n",
      "  return transform_pyarrow.concat(tables)\n",
      "/home/ubuntu/data_bench/.venv/lib/python3.10/site-packages/ray/data/_internal/arrow_block.py:148: FutureWarning: promote has been superseded by promote_options='default'.\n",
      "  return transform_pyarrow.concat(tables)\n",
      "/home/ubuntu/data_bench/.venv/lib/python3.10/site-packages/ray/data/_internal/arrow_block.py:148: FutureWarning: promote has been superseded by promote_options='default'.\n",
      "  return transform_pyarrow.concat(tables)\n",
      "/home/ubuntu/data_bench/.venv/lib/python3.10/site-packages/ray/data/_internal/arrow_block.py:148: FutureWarning: promote has been superseded by promote_options='default'.\n",
      "  return transform_pyarrow.concat(tables)\n",
      "/home/ubuntu/data_bench/.venv/lib/python3.10/site-packages/ray/data/_internal/arrow_block.py:148: FutureWarning: promote has been superseded by promote_options='default'.\n",
      "  return transform_pyarrow.concat(tables)\n",
      "/home/ubuntu/data_bench/.venv/lib/python3.10/site-packages/ray/data/_internal/arrow_block.py:148: FutureWarning: promote has been superseded by promote_options='default'.\n",
      "  return transform_pyarrow.concat(tables)\n",
      "/home/ubuntu/data_bench/.venv/lib/python3.10/site-packages/ray/data/_internal/arrow_block.py:148: FutureWarning: promote has been superseded by promote_options='default'.\n",
      "  return transform_pyarrow.concat(tables)\n",
      "/home/ubuntu/data_bench/.venv/lib/python3.10/site-packages/ray/data/_internal/arrow_block.py:148: FutureWarning: promote has been superseded by promote_options='default'.\n",
      "  return transform_pyarrow.concat(tables)\n",
      "/home/ubuntu/data_bench/.venv/lib/python3.10/site-packages/ray/data/_internal/arrow_block.py:148: FutureWarning: promote has been superseded by promote_options='default'.\n",
      "  return transform_pyarrow.concat(tables)\n",
      "/home/ubuntu/data_bench/.venv/lib/python3.10/site-packages/ray/data/_internal/arrow_block.py:148: FutureWarning: promote has been superseded by promote_options='default'.\n",
      "  return transform_pyarrow.concat(tables)\n",
      "/home/ubuntu/data_bench/.venv/lib/python3.10/site-packages/ray/data/_internal/arrow_block.py:148: FutureWarning: promote has been superseded by promote_options='default'.\n",
      "  return transform_pyarrow.concat(tables)\n",
      "/home/ubuntu/data_bench/.venv/lib/python3.10/site-packages/ray/data/_internal/arrow_block.py:148: FutureWarning: promote has been superseded by promote_options='default'.\n",
      "  return transform_pyarrow.concat(tables)\n",
      "/home/ubuntu/data_bench/.venv/lib/python3.10/site-packages/ray/data/_internal/arrow_block.py:148: FutureWarning: promote has been superseded by promote_options='default'.\n",
      "  return transform_pyarrow.concat(tables)\n",
      "/home/ubuntu/data_bench/.venv/lib/python3.10/site-packages/ray/data/_internal/arrow_block.py:148: FutureWarning: promote has been superseded by promote_options='default'.\n",
      "  return transform_pyarrow.concat(tables)\n",
      "/home/ubuntu/data_bench/.venv/lib/python3.10/site-packages/ray/data/_internal/arrow_block.py:148: FutureWarning: promote has been superseded by promote_options='default'.\n",
      "  return transform_pyarrow.concat(tables)\n",
      "/home/ubuntu/data_bench/.venv/lib/python3.10/site-packages/ray/data/_internal/arrow_block.py:148: FutureWarning: promote has been superseded by promote_options='default'.\n",
      "  return transform_pyarrow.concat(tables)\n",
      "/home/ubuntu/data_bench/.venv/lib/python3.10/site-packages/ray/data/_internal/arrow_block.py:148: FutureWarning: promote has been superseded by promote_options='default'.\n",
      "  return transform_pyarrow.concat(tables)\n",
      "/home/ubuntu/data_bench/.venv/lib/python3.10/site-packages/ray/data/_internal/arrow_block.py:148: FutureWarning: promote has been superseded by promote_options='default'.\n",
      "  return transform_pyarrow.concat(tables)\n",
      "/home/ubuntu/data_bench/.venv/lib/python3.10/site-packages/ray/data/_internal/arrow_block.py:148: FutureWarning: promote has been superseded by promote_options='default'.\n",
      "  return transform_pyarrow.concat(tables)\n",
      "/home/ubuntu/data_bench/.venv/lib/python3.10/site-packages/ray/data/_internal/arrow_block.py:148: FutureWarning: promote has been superseded by promote_options='default'.\n",
      "  return transform_pyarrow.concat(tables)\n",
      "/home/ubuntu/data_bench/.venv/lib/python3.10/site-packages/ray/data/_internal/arrow_block.py:148: FutureWarning: promote has been superseded by promote_options='default'.\n",
      "  return transform_pyarrow.concat(tables)\n",
      "/home/ubuntu/data_bench/.venv/lib/python3.10/site-packages/ray/data/_internal/arrow_block.py:148: FutureWarning: promote has been superseded by promote_options='default'.\n",
      "  return transform_pyarrow.concat(tables)\n",
      "/home/ubuntu/data_bench/.venv/lib/python3.10/site-packages/ray/data/_internal/arrow_block.py:148: FutureWarning: promote has been superseded by promote_options='default'.\n",
      "  return transform_pyarrow.concat(tables)\n",
      "/home/ubuntu/data_bench/.venv/lib/python3.10/site-packages/ray/data/_internal/arrow_block.py:148: FutureWarning: promote has been superseded by promote_options='default'.\n",
      "  return transform_pyarrow.concat(tables)\n",
      "/home/ubuntu/data_bench/.venv/lib/python3.10/site-packages/ray/data/_internal/arrow_block.py:148: FutureWarning: promote has been superseded by promote_options='default'.\n",
      "  return transform_pyarrow.concat(tables)\n",
      "/home/ubuntu/data_bench/.venv/lib/python3.10/site-packages/ray/data/_internal/arrow_block.py:148: FutureWarning: promote has been superseded by promote_options='default'.\n",
      "  return transform_pyarrow.concat(tables)\n",
      "/home/ubuntu/data_bench/.venv/lib/python3.10/site-packages/ray/data/_internal/arrow_block.py:148: FutureWarning: promote has been superseded by promote_options='default'.\n",
      "  return transform_pyarrow.concat(tables)\n",
      "/home/ubuntu/data_bench/.venv/lib/python3.10/site-packages/ray/data/_internal/arrow_block.py:148: FutureWarning: promote has been superseded by promote_options='default'.\n",
      "  return transform_pyarrow.concat(tables)\n",
      "/home/ubuntu/data_bench/.venv/lib/python3.10/site-packages/ray/data/_internal/arrow_block.py:148: FutureWarning: promote has been superseded by promote_options='default'.\n",
      "  return transform_pyarrow.concat(tables)\n",
      "/home/ubuntu/data_bench/.venv/lib/python3.10/site-packages/ray/data/_internal/arrow_block.py:148: FutureWarning: promote has been superseded by promote_options='default'.\n",
      "  return transform_pyarrow.concat(tables)\n"
     ]
    }
   ],
   "source": [
    "for i in it:\n",
    "    pass"
   ]
  },
  {
   "cell_type": "code",
   "execution_count": 6,
   "metadata": {},
   "outputs": [
    {
     "name": "stderr",
     "output_type": "stream",
     "text": [
      "2024-03-08 23:36:33,524\tINFO streaming_executor.py:112 -- Executing DAG InputDataBuffer[Input] -> TaskPoolMapOperator[ReadParquet]\n",
      "2024-03-08 23:36:33,526\tINFO streaming_executor.py:113 -- Execution config: ExecutionOptions(resource_limits=ExecutionResources(cpu=None, gpu=None, object_store_memory=None), exclude_resources=ExecutionResources(cpu=0, gpu=0, object_store_memory=0), locality_with_output=False, preserve_order=False, actor_locality_enabled=True, verbose_progress=True)\n"
     ]
    },
    {
     "data": {
      "application/vnd.jupyter.widget-view+json": {
       "model_id": "5d3f87742bb44f62b5aee92449654c96",
       "version_major": 2,
       "version_minor": 0
      },
      "text/plain": [
       "- ReadParquet 1:   0%|          | 0/50 [00:00<?, ?it/s]"
      ]
     },
     "metadata": {},
     "output_type": "display_data"
    },
    {
     "data": {
      "application/vnd.jupyter.widget-view+json": {
       "model_id": "c763a18cc8554e5ea48c244f105d5ebb",
       "version_major": 2,
       "version_minor": 0
      },
      "text/plain": [
       "Running 0:   0%|          | 0/50 [00:00<?, ?it/s]"
      ]
     },
     "metadata": {},
     "output_type": "display_data"
    },
    {
     "name": "stderr",
     "output_type": "stream",
     "text": [
      "\u001b[36m(ReadParquet pid=286707)\u001b[0m /home/ubuntu/data_bench/.venv/lib/python3.10/site-packages/ray/data/_internal/arrow_block.py:148: FutureWarning: promote has been superseded by promote_options='default'.\n",
      "\u001b[36m(ReadParquet pid=286707)\u001b[0m   return transform_pyarrow.concat(tables)\n",
      "\u001b[36m(ReadParquet pid=286694)\u001b[0m /home/ubuntu/data_bench/.venv/lib/python3.10/site-packages/ray/data/_internal/arrow_block.py:148: FutureWarning: promote has been superseded by promote_options='default'.\n",
      "\u001b[36m(ReadParquet pid=286694)\u001b[0m   return transform_pyarrow.concat(tables)\n",
      "\u001b[36m(ReadParquet pid=286700)\u001b[0m /home/ubuntu/data_bench/.venv/lib/python3.10/site-packages/ray/data/_internal/arrow_block.py:148: FutureWarning: promote has been superseded by promote_options='default'.\n",
      "\u001b[36m(ReadParquet pid=286700)\u001b[0m   return transform_pyarrow.concat(tables)\n"
     ]
    },
    {
     "data": {
      "text/plain": [
       "(tensor([[3.8656e-01, 3.7189e-02, 1.0375e-01, 6.4941e-01, 5.4319e-01, 1.3514e-02,\n",
       "          1.1983e-01, 6.3605e-01, 6.8411e-01, 9.9767e-01, 9.2548e-01, 4.6872e-01,\n",
       "          2.2553e-01, 8.8336e-01, 3.5444e-01, 2.8042e-01, 9.4729e-01, 5.3149e-01,\n",
       "          7.0990e-02, 6.6584e-01, 1.5234e-01, 4.6406e-01, 5.4947e-01, 6.1011e-01,\n",
       "          7.7289e-01, 5.9754e-02, 7.7910e-01, 5.5595e-01, 8.8788e-01, 5.4937e-01,\n",
       "          5.0772e-01, 9.8028e-01, 1.9705e-01, 1.7819e-01, 3.0138e-01, 8.2377e-01,\n",
       "          4.3590e-01, 7.0426e-02, 9.8285e-01, 3.3328e-01, 3.7410e-01, 1.8574e-01,\n",
       "          9.5440e-01, 2.9999e-01, 7.7413e-01, 2.2230e-01, 8.9635e-01, 4.8084e-01,\n",
       "          1.5599e-01, 1.0386e-02, 7.2011e-01, 9.9887e-01, 5.1315e-01, 1.4608e-01,\n",
       "          1.9759e-01, 2.6104e-01, 5.1415e-01, 9.4321e-01, 1.1218e-01, 4.3221e-02,\n",
       "          1.2241e-01, 5.5829e-01, 1.7445e-01, 6.5827e-01, 3.9829e-01, 9.7617e-01,\n",
       "          3.1906e-01, 2.5391e-01, 3.3945e-01, 5.6088e-01, 6.0456e-01, 9.6555e-01,\n",
       "          3.6569e-01, 3.2227e-01, 3.6943e-01, 9.0547e-01, 9.4071e-01, 3.4169e-02,\n",
       "          8.8834e-01, 4.0220e-01, 5.2536e-01, 1.2234e-01, 2.6932e-01, 9.6405e-01,\n",
       "          2.6642e-01, 2.2933e-01, 8.4671e-01, 6.8594e-01, 1.1716e-01, 6.4623e-02,\n",
       "          3.9585e-02, 5.0278e-01, 9.4248e-01, 2.9189e-01, 2.7742e-01, 7.9743e-01,\n",
       "          4.4201e-01, 2.3231e-01, 3.3739e-01, 1.7477e-01],\n",
       "         [7.2160e-01, 8.0012e-01, 9.7706e-01, 1.1628e-01, 3.8864e-01, 1.7267e-01,\n",
       "          4.4448e-01, 5.8367e-01, 9.9684e-01, 9.5962e-02, 8.5683e-01, 2.5652e-01,\n",
       "          5.2566e-01, 9.5457e-01, 7.4474e-01, 8.3290e-01, 2.7562e-01, 8.8548e-01,\n",
       "          6.3253e-01, 4.1421e-01, 5.5255e-01, 9.9249e-01, 4.8057e-01, 4.4531e-01,\n",
       "          4.9298e-01, 6.6739e-01, 3.7547e-01, 5.6764e-01, 9.8176e-01, 5.6496e-01,\n",
       "          9.8561e-01, 6.8558e-01, 2.0716e-01, 8.0298e-01, 5.8093e-01, 9.6553e-01,\n",
       "          7.2128e-02, 4.5900e-01, 7.8302e-01, 7.1279e-01, 9.9537e-01, 6.1322e-01,\n",
       "          8.2509e-01, 8.4460e-01, 8.3338e-01, 2.2659e-01, 2.2964e-01, 1.3489e-01,\n",
       "          8.1760e-01, 5.3636e-02, 4.2824e-01, 6.4572e-01, 3.4068e-01, 9.9574e-01,\n",
       "          6.8800e-01, 5.1682e-01, 6.8718e-01, 1.4971e-01, 4.9835e-01, 1.4874e-01,\n",
       "          6.2610e-01, 2.2572e-01, 4.0143e-01, 7.8355e-01, 7.9632e-01, 4.4272e-01,\n",
       "          1.7425e-01, 8.1423e-01, 7.4064e-01, 4.6261e-01, 4.6673e-01, 4.0259e-01,\n",
       "          7.7096e-01, 1.7124e-01, 9.4674e-01, 9.5499e-01, 1.2491e-01, 3.5937e-01,\n",
       "          6.4925e-02, 1.3961e-03, 7.8866e-01, 7.9805e-01, 7.9774e-01, 5.8559e-01,\n",
       "          9.1229e-01, 4.8614e-01, 7.3127e-01, 6.7785e-01, 8.3490e-01, 3.7231e-01,\n",
       "          6.5133e-01, 8.0033e-01, 3.1545e-01, 4.4453e-01, 7.0957e-01, 2.8604e-01,\n",
       "          7.6799e-01, 5.1579e-01, 4.9160e-01, 9.6619e-01],\n",
       "         [9.0980e-01, 9.9148e-01, 6.0153e-01, 3.2878e-01, 1.0614e-01, 4.2067e-01,\n",
       "          6.7204e-01, 1.8902e-01, 2.4045e-01, 3.1359e-01, 2.4337e-01, 8.6317e-01,\n",
       "          1.3527e-01, 2.5450e-01, 7.0012e-01, 1.7272e-01, 7.3301e-01, 9.0981e-01,\n",
       "          6.0367e-01, 7.1665e-01, 8.4275e-01, 3.6459e-01, 1.6330e-01, 3.0391e-01,\n",
       "          1.7066e-01, 3.7928e-01, 6.5492e-01, 6.5484e-01, 3.5975e-01, 4.6434e-01,\n",
       "          4.9628e-02, 7.7104e-01, 6.8637e-01, 1.6420e-03, 3.3594e-01, 2.1329e-02,\n",
       "          5.9975e-01, 6.9115e-01, 7.3941e-01, 7.2501e-01, 2.7832e-02, 3.9113e-01,\n",
       "          5.3980e-01, 2.4392e-01, 7.5336e-01, 7.9128e-01, 6.3619e-01, 3.7490e-01,\n",
       "          9.7205e-01, 7.1089e-01, 5.6610e-01, 3.0520e-01, 2.7746e-01, 9.8748e-01,\n",
       "          7.3225e-01, 5.2727e-01, 8.4385e-01, 9.9327e-01, 1.2103e-01, 8.7568e-01,\n",
       "          8.0584e-01, 3.8961e-01, 4.1822e-01, 2.4394e-01, 7.2096e-01, 6.6408e-01,\n",
       "          7.2513e-01, 1.5943e-01, 8.8998e-01, 4.7047e-01, 5.1249e-01, 6.2260e-01,\n",
       "          3.7934e-01, 5.3413e-03, 5.1441e-01, 9.7900e-01, 9.6864e-01, 4.6771e-01,\n",
       "          5.5615e-01, 4.3040e-01, 3.5695e-02, 1.9114e-01, 5.3251e-01, 4.4206e-01,\n",
       "          7.1254e-01, 5.5808e-02, 8.8307e-01, 1.5804e-01, 6.3460e-01, 9.1511e-01,\n",
       "          6.9687e-01, 9.7099e-01, 1.7699e-02, 4.7980e-01, 7.1135e-01, 1.2492e-01,\n",
       "          6.2972e-01, 3.0599e-01, 2.9749e-01, 4.1538e-01],\n",
       "         [8.6811e-01, 7.9830e-01, 9.8796e-01, 5.8670e-01, 7.9284e-01, 4.0466e-01,\n",
       "          3.7259e-01, 1.0981e-01, 4.0762e-01, 7.7493e-01, 3.1018e-01, 3.2239e-01,\n",
       "          9.8264e-01, 3.5937e-01, 8.5535e-01, 7.0943e-01, 1.3310e-01, 1.1231e-01,\n",
       "          9.8391e-01, 7.4378e-01, 7.1520e-01, 8.7807e-01, 4.9612e-01, 3.7611e-01,\n",
       "          9.0770e-01, 4.5361e-01, 4.3035e-01, 9.1480e-01, 4.4051e-01, 3.5186e-03,\n",
       "          3.4552e-01, 5.9680e-02, 9.0875e-01, 3.5014e-01, 8.0710e-01, 2.8176e-01,\n",
       "          2.0983e-01, 1.8965e-02, 9.7473e-01, 7.5390e-01, 5.1026e-01, 6.5498e-02,\n",
       "          2.3990e-01, 5.5137e-01, 7.2498e-01, 4.0692e-01, 2.5302e-01, 7.0782e-01,\n",
       "          5.0675e-01, 8.1818e-02, 1.5645e-01, 1.9913e-01, 3.9626e-01, 5.8806e-01,\n",
       "          1.5826e-01, 2.8099e-01, 1.2584e-01, 9.9513e-01, 7.2475e-02, 8.9113e-01,\n",
       "          8.7172e-01, 4.1597e-01, 5.9193e-01, 1.9558e-01, 1.2626e-01, 1.2557e-01,\n",
       "          8.1104e-02, 6.7102e-01, 5.2234e-01, 3.2646e-01, 8.5903e-01, 6.9593e-02,\n",
       "          2.9795e-01, 9.4600e-01, 4.8647e-01, 3.7761e-01, 1.2432e-02, 1.2056e-01,\n",
       "          6.5885e-01, 3.1595e-01, 5.3364e-01, 6.4971e-02, 7.4311e-01, 7.2387e-01,\n",
       "          5.3072e-01, 9.5557e-01, 7.8059e-01, 8.6765e-01, 2.0943e-01, 7.9677e-02,\n",
       "          6.6415e-01, 6.7543e-01, 6.0925e-01, 3.0173e-01, 8.1044e-01, 3.8249e-01,\n",
       "          3.4125e-01, 4.2581e-01, 1.6409e-01, 1.5974e-01],\n",
       "         [1.3076e-02, 3.0911e-01, 2.9112e-02, 4.9029e-01, 1.9647e-01, 5.7120e-01,\n",
       "          1.9144e-01, 1.5147e-01, 3.0420e-01, 2.6225e-01, 8.9372e-01, 6.2139e-01,\n",
       "          5.2400e-01, 6.1463e-01, 6.3405e-02, 1.9516e-01, 3.1258e-01, 3.0778e-01,\n",
       "          7.0138e-01, 5.8660e-01, 4.7172e-01, 9.0644e-01, 8.9543e-01, 6.5588e-01,\n",
       "          1.5043e-01, 9.1148e-01, 6.7017e-01, 7.5714e-01, 5.4209e-01, 9.2772e-01,\n",
       "          1.3715e-01, 9.2183e-01, 4.8304e-02, 1.4414e-01, 2.8525e-01, 9.9496e-01,\n",
       "          8.3709e-01, 3.0469e-01, 9.9641e-01, 3.6220e-01, 2.7921e-01, 2.9755e-02,\n",
       "          6.2778e-01, 7.9494e-02, 5.0504e-01, 1.5239e-01, 3.3048e-01, 1.1092e-01,\n",
       "          8.2138e-01, 2.2215e-01, 4.4397e-01, 9.9561e-01, 6.1223e-01, 5.1231e-01,\n",
       "          3.8932e-01, 7.5648e-01, 7.6736e-01, 9.8304e-01, 9.2501e-02, 9.5826e-01,\n",
       "          7.0640e-01, 4.2145e-01, 3.8279e-01, 5.8342e-02, 3.7046e-01, 8.9738e-01,\n",
       "          7.6805e-01, 3.4567e-01, 3.3191e-02, 6.2763e-01, 2.2527e-01, 3.6305e-01,\n",
       "          4.1010e-01, 6.4839e-01, 7.7695e-01, 5.8885e-01, 9.1674e-01, 1.5717e-01,\n",
       "          3.3419e-01, 5.8714e-01, 2.3199e-01, 1.8284e-01, 6.8293e-01, 8.9284e-02,\n",
       "          6.5335e-01, 5.4493e-01, 6.2430e-01, 3.4754e-01, 6.4722e-01, 6.3210e-01,\n",
       "          4.2899e-01, 1.9805e-01, 3.6254e-01, 6.5917e-02, 3.6823e-01, 3.8039e-01,\n",
       "          6.4870e-01, 9.8083e-01, 9.5972e-01, 5.0796e-01],\n",
       "         [6.7453e-01, 1.8457e-01, 9.9409e-01, 9.8898e-01, 4.5557e-01, 9.6722e-01,\n",
       "          3.0309e-01, 6.8794e-01, 5.8519e-02, 6.5808e-01, 3.6429e-01, 7.2973e-01,\n",
       "          3.7565e-01, 5.2300e-01, 5.1832e-01, 2.6287e-01, 6.6528e-01, 9.0408e-01,\n",
       "          6.3904e-02, 6.8966e-01, 6.2624e-02, 1.2963e-01, 2.6498e-01, 8.8423e-01,\n",
       "          6.8025e-01, 8.0919e-01, 2.6245e-01, 9.6818e-01, 8.3713e-01, 6.0019e-01,\n",
       "          7.5478e-01, 2.4037e-01, 7.2719e-01, 5.6257e-01, 9.9438e-01, 8.8611e-01,\n",
       "          7.4570e-01, 9.1754e-01, 3.5275e-01, 4.5976e-01, 2.2897e-01, 8.7019e-01,\n",
       "          8.8725e-01, 5.4483e-01, 8.7006e-01, 7.2642e-01, 6.5915e-01, 1.7108e-02,\n",
       "          9.5112e-01, 9.0616e-02, 9.4335e-01, 3.0263e-01, 9.8125e-01, 1.7449e-01,\n",
       "          6.5231e-01, 7.0740e-01, 1.5925e-01, 1.6097e-01, 3.2850e-01, 9.0327e-01,\n",
       "          9.8749e-01, 3.8772e-01, 6.9030e-01, 1.3934e-01, 2.7889e-01, 2.1303e-01,\n",
       "          7.7595e-02, 4.9276e-01, 4.8842e-01, 3.6156e-01, 3.0024e-02, 3.3957e-01,\n",
       "          7.5246e-01, 5.4631e-01, 3.0327e-01, 7.2454e-02, 4.2430e-01, 1.0396e-01,\n",
       "          7.0627e-01, 3.0775e-01, 1.6212e-02, 3.4767e-01, 8.6315e-01, 6.1048e-01,\n",
       "          7.4450e-01, 1.6022e-01, 3.5612e-01, 3.0652e-01, 3.4924e-01, 1.3426e-01,\n",
       "          4.5816e-01, 9.8499e-01, 8.3878e-01, 2.7627e-01, 9.2451e-01, 5.3115e-01,\n",
       "          6.2616e-01, 4.3852e-01, 4.7066e-01, 8.0229e-01],\n",
       "         [3.9014e-01, 9.1807e-01, 6.4219e-01, 1.1205e-01, 3.8444e-01, 2.3974e-01,\n",
       "          3.3044e-01, 2.8797e-01, 4.6138e-01, 1.8969e-01, 5.4696e-01, 4.4234e-01,\n",
       "          8.3823e-01, 4.7237e-01, 5.2416e-01, 5.8431e-01, 5.5357e-01, 3.6732e-01,\n",
       "          7.0986e-02, 3.4120e-01, 6.4301e-01, 6.9903e-02, 9.4863e-01, 6.6844e-01,\n",
       "          8.5987e-01, 8.8812e-01, 2.6729e-01, 1.6961e-01, 4.8443e-01, 9.7226e-01,\n",
       "          9.2908e-01, 9.3282e-01, 3.7395e-01, 7.4435e-01, 7.4276e-01, 6.8940e-02,\n",
       "          7.2861e-01, 6.8645e-01, 3.0007e-01, 4.9430e-01, 8.5829e-01, 4.9335e-01,\n",
       "          1.4505e-01, 5.5472e-01, 8.1348e-01, 1.6892e-01, 2.2008e-01, 2.5020e-04,\n",
       "          1.6476e-01, 9.4402e-02, 1.9688e-01, 4.1196e-02, 7.3767e-01, 9.9063e-01,\n",
       "          8.4410e-01, 3.9282e-01, 4.3368e-01, 5.1689e-01, 8.9180e-01, 3.1786e-01,\n",
       "          5.9339e-01, 2.8248e-01, 2.2017e-01, 4.9993e-01, 1.8873e-01, 9.2578e-01,\n",
       "          9.2972e-02, 6.3666e-01, 5.3465e-01, 1.3152e-01, 3.3694e-01, 3.9103e-01,\n",
       "          3.5294e-01, 5.2998e-01, 1.9838e-01, 5.9191e-01, 9.1224e-01, 8.8347e-02,\n",
       "          9.0645e-01, 2.2735e-01, 2.0101e-01, 6.3884e-01, 4.5697e-02, 6.5176e-01,\n",
       "          4.8068e-01, 9.7319e-02, 1.0006e-01, 6.9059e-01, 6.0925e-02, 7.9167e-01,\n",
       "          2.9671e-02, 6.2659e-01, 8.8168e-01, 7.7336e-01, 4.3618e-01, 4.0651e-01,\n",
       "          5.9946e-01, 4.3776e-01, 7.9251e-01, 8.6829e-01],\n",
       "         [9.4089e-01, 3.7319e-01, 2.0180e-01, 6.7201e-01, 3.5985e-01, 8.5186e-01,\n",
       "          5.1117e-01, 1.7553e-01, 7.4931e-01, 3.0989e-01, 6.2559e-01, 8.8978e-01,\n",
       "          1.3952e-01, 1.3349e-01, 1.0538e-01, 5.1746e-01, 3.0583e-01, 1.0795e-03,\n",
       "          7.6266e-01, 2.8849e-01, 9.9359e-01, 2.3548e-01, 4.2195e-01, 3.4343e-01,\n",
       "          7.4929e-02, 2.1411e-01, 9.4928e-01, 9.6294e-01, 5.4676e-01, 4.5697e-01,\n",
       "          8.1738e-01, 7.8487e-01, 2.3056e-01, 4.2136e-01, 4.1333e-01, 9.9488e-01,\n",
       "          8.3474e-01, 6.6697e-01, 5.2504e-03, 5.8366e-01, 7.9904e-01, 5.0512e-01,\n",
       "          1.7258e-01, 6.7639e-02, 3.7094e-01, 1.5583e-01, 3.4352e-02, 4.1283e-01,\n",
       "          6.2080e-01, 7.1957e-01, 3.2017e-01, 2.4586e-01, 9.8113e-01, 9.6191e-01,\n",
       "          2.4590e-01, 6.3698e-01, 8.4769e-01, 6.7832e-01, 5.5606e-01, 2.4672e-02,\n",
       "          4.9013e-02, 3.4322e-01, 7.5788e-02, 9.4701e-01, 3.6729e-01, 2.1518e-01,\n",
       "          5.5572e-01, 5.7294e-01, 6.3581e-01, 6.2415e-01, 1.6908e-01, 9.1626e-01,\n",
       "          6.3908e-04, 8.4915e-01, 7.6119e-01, 4.7758e-01, 3.1957e-01, 9.0754e-01,\n",
       "          5.8761e-01, 6.2362e-01, 6.9450e-01, 4.1736e-01, 9.7998e-01, 8.7900e-01,\n",
       "          7.7963e-01, 2.5100e-01, 3.2659e-01, 7.8139e-01, 3.6981e-01, 9.0150e-01,\n",
       "          3.9661e-01, 6.6467e-01, 2.4415e-01, 2.5066e-01, 8.3840e-01, 5.6723e-01,\n",
       "          3.1688e-02, 8.7351e-02, 4.7026e-01, 9.6080e-02],\n",
       "         [6.4557e-01, 8.2904e-01, 1.8588e-01, 1.2599e-01, 8.6084e-01, 4.6017e-01,\n",
       "          6.2368e-01, 8.2872e-02, 9.0550e-01, 1.6381e-01, 1.8540e-01, 5.5755e-01,\n",
       "          8.9924e-01, 2.5396e-01, 8.5436e-01, 4.6567e-01, 2.2097e-01, 7.7148e-01,\n",
       "          9.7023e-01, 8.6436e-01, 9.1331e-01, 4.2330e-01, 1.1569e-01, 5.5086e-01,\n",
       "          2.6980e-01, 3.1036e-01, 7.2610e-01, 5.3593e-01, 9.5617e-01, 5.3218e-03,\n",
       "          8.8836e-01, 8.7548e-01, 1.7122e-01, 9.0662e-01, 6.9357e-01, 5.9529e-02,\n",
       "          8.7754e-01, 2.4755e-01, 2.3566e-01, 3.0641e-01, 7.9584e-01, 6.9585e-01,\n",
       "          5.0838e-01, 4.1535e-01, 6.6067e-01, 2.9603e-01, 5.9268e-02, 9.8375e-01,\n",
       "          2.6547e-01, 5.4627e-02, 6.7547e-01, 7.3246e-01, 8.9223e-01, 4.9838e-01,\n",
       "          6.6996e-01, 4.3339e-01, 3.6743e-01, 4.2512e-01, 7.0634e-01, 7.2117e-01,\n",
       "          4.2080e-01, 7.8787e-01, 4.3036e-01, 1.4827e-01, 8.8077e-01, 1.1746e-01,\n",
       "          1.6447e-01, 8.5093e-01, 2.1924e-01, 5.7563e-01, 9.3180e-01, 8.4917e-01,\n",
       "          1.3504e-01, 6.2007e-01, 7.2078e-01, 4.6328e-01, 6.2511e-01, 9.4431e-01,\n",
       "          6.4043e-01, 2.5889e-01, 6.2363e-01, 1.1318e-01, 4.9824e-02, 1.8873e-01,\n",
       "          3.5482e-02, 4.0893e-01, 7.4895e-01, 5.7562e-01, 1.0077e-02, 7.3507e-01,\n",
       "          2.9214e-01, 5.9703e-01, 6.9686e-01, 4.0666e-01, 7.0208e-01, 5.1636e-01,\n",
       "          8.4993e-01, 3.4608e-01, 4.8761e-02, 8.2154e-01],\n",
       "         [2.1565e-01, 3.5718e-01, 2.2769e-01, 7.3107e-01, 9.9453e-01, 1.9332e-01,\n",
       "          4.4813e-01, 5.4498e-02, 1.0340e-01, 3.1823e-01, 6.5770e-01, 2.2162e-02,\n",
       "          3.6846e-01, 9.1461e-01, 6.7387e-01, 1.0386e-02, 3.5839e-01, 9.7264e-01,\n",
       "          1.1128e-01, 3.9163e-01, 1.0166e-01, 2.8235e-01, 2.4532e-01, 9.5459e-01,\n",
       "          9.3125e-01, 9.2768e-01, 9.0461e-01, 5.3184e-01, 9.7653e-01, 8.0750e-01,\n",
       "          5.5344e-01, 4.5553e-01, 3.0789e-01, 8.4778e-01, 3.4641e-01, 5.6864e-01,\n",
       "          2.2591e-01, 9.6498e-01, 2.5523e-01, 1.9745e-01, 1.3873e-01, 6.5879e-01,\n",
       "          2.8808e-01, 5.8171e-01, 2.3695e-02, 9.2613e-01, 1.5691e-01, 4.1366e-01,\n",
       "          6.3536e-01, 7.9826e-01, 4.2739e-01, 9.0889e-01, 6.1848e-01, 8.6217e-01,\n",
       "          6.6842e-01, 9.0408e-01, 6.5321e-01, 8.9735e-01, 4.5163e-01, 4.8671e-01,\n",
       "          4.6828e-01, 2.0575e-01, 4.3629e-01, 1.7991e-01, 6.9151e-01, 7.5203e-01,\n",
       "          1.5672e-01, 1.7312e-01, 9.4070e-01, 4.9859e-02, 6.3138e-01, 5.2446e-01,\n",
       "          9.7797e-01, 1.4081e-01, 1.8914e-01, 8.4231e-01, 2.9774e-01, 4.5271e-01,\n",
       "          7.4344e-01, 4.2269e-01, 7.1065e-01, 5.4109e-02, 3.3601e-01, 4.9806e-01,\n",
       "          6.7622e-01, 9.4651e-01, 2.7886e-01, 2.9322e-01, 1.9490e-01, 7.4654e-01,\n",
       "          4.9225e-01, 5.2484e-01, 4.4656e-01, 7.7093e-01, 9.3696e-01, 8.9945e-01,\n",
       "          2.8502e-01, 4.6261e-01, 9.3578e-01, 1.9585e-01]]),\n",
       " None)"
      ]
     },
     "execution_count": 6,
     "metadata": {},
     "output_type": "execute_result"
    }
   ],
   "source": [
    "next(iter(it))"
   ]
  },
  {
   "cell_type": "code",
   "execution_count": 3,
   "metadata": {},
   "outputs": [
    {
     "name": "stderr",
     "output_type": "stream",
     "text": [
      "/home/ubuntu/data_bench/.venv/lib/python3.10/site-packages/ray/data/datasource/parquet_datasource.py:242: FutureWarning: Passing 'use_legacy_dataset' is deprecated as of pyarrow 15.0.0 and will be removed in a future version.\n",
      "  pq_ds = pq.ParquetDataset(\n"
     ]
    },
    {
     "data": {
      "application/vnd.jupyter.widget-view+json": {
       "model_id": "24fe6c4e230b4d7eb245ed12d9dea332",
       "version_major": 2,
       "version_minor": 0
      },
      "text/plain": [
       "Metadata Fetch Progress 0:   0%|          | 0/8 [00:00<?, ?it/s]"
      ]
     },
     "metadata": {},
     "output_type": "display_data"
    },
    {
     "data": {
      "application/vnd.jupyter.widget-view+json": {
       "model_id": "18f43f01bd09490ebcd6cab215cf545c",
       "version_major": 2,
       "version_minor": 0
      },
      "text/plain": [
       "Parquet Files Sample 0:   0%|          | 0/2 [00:00<?, ?it/s]"
      ]
     },
     "metadata": {},
     "output_type": "display_data"
    },
    {
     "name": "stderr",
     "output_type": "stream",
     "text": [
      "2024-03-08 23:46:17,427\tINFO set_read_parallelism.py:122 -- To satisfy the requested parallelism of 200, each read task output is split into 4 smaller blocks.\n",
      "2024-03-08 23:46:17,429\tINFO streaming_executor.py:112 -- Executing DAG InputDataBuffer[Input] -> TaskPoolMapOperator[ReadParquet] -> AllToAllOperator[RandomShuffle]\n",
      "2024-03-08 23:46:17,430\tINFO streaming_executor.py:113 -- Execution config: ExecutionOptions(resource_limits=ExecutionResources(cpu=None, gpu=None, object_store_memory=None), exclude_resources=ExecutionResources(cpu=0, gpu=0, object_store_memory=0), locality_with_output=False, preserve_order=False, actor_locality_enabled=True, verbose_progress=True)\n"
     ]
    },
    {
     "data": {
      "application/vnd.jupyter.widget-view+json": {
       "model_id": "0288c901146b41779c8787d247cd2e5e",
       "version_major": 2,
       "version_minor": 0
      },
      "text/plain": [
       "- ReadParquet->SplitBlocks(4) 1:   0%|          | 0/50 [00:00<?, ?it/s]"
      ]
     },
     "metadata": {},
     "output_type": "display_data"
    },
    {
     "data": {
      "application/vnd.jupyter.widget-view+json": {
       "model_id": "94650ecfd8684e5a9116eba5fc4554a6",
       "version_major": 2,
       "version_minor": 0
      },
      "text/plain": [
       "- RandomShuffle 2:   0%|          | 0/50 [00:00<?, ?it/s]"
      ]
     },
     "metadata": {},
     "output_type": "display_data"
    },
    {
     "data": {
      "application/vnd.jupyter.widget-view+json": {
       "model_id": "65d05ea544744b22b61ed1f0de97b4a4",
       "version_major": 2,
       "version_minor": 0
      },
      "text/plain": [
       "Shuffle Map 3:   0%|          | 0/50 [00:00<?, ?it/s]"
      ]
     },
     "metadata": {},
     "output_type": "display_data"
    },
    {
     "data": {
      "application/vnd.jupyter.widget-view+json": {
       "model_id": "d4c58f1c0085463ca3e9c2819479ab55",
       "version_major": 2,
       "version_minor": 0
      },
      "text/plain": [
       "Shuffle Reduce 4:   0%|          | 0/50 [00:00<?, ?it/s]"
      ]
     },
     "metadata": {},
     "output_type": "display_data"
    },
    {
     "data": {
      "application/vnd.jupyter.widget-view+json": {
       "model_id": "935eb6f0db4f4cc69046741cb5a37700",
       "version_major": 2,
       "version_minor": 0
      },
      "text/plain": [
       "Running 0:   0%|          | 0/50 [00:00<?, ?it/s]"
      ]
     },
     "metadata": {},
     "output_type": "display_data"
    },
    {
     "name": "stderr",
     "output_type": "stream",
     "text": [
      "\u001b[36m(ReadParquet->SplitBlocks(4) pid=289902)\u001b[0m /home/ubuntu/data_bench/.venv/lib/python3.10/site-packages/ray/data/_internal/arrow_block.py:148: FutureWarning: promote has been superseded by promote_options='default'.\n",
      "\u001b[36m(ReadParquet->SplitBlocks(4) pid=289902)\u001b[0m   return transform_pyarrow.concat(tables)\n",
      "\u001b[36m(raylet)\u001b[0m Spilled 6056 MiB, 4720 objects, write throughput 1118 MiB/s. Set RAY_verbose_spill_logs=0 to disable this message.\n",
      "\u001b[36m(ReadParquet->SplitBlocks(4) pid=289904)\u001b[0m /home/ubuntu/data_bench/.venv/lib/python3.10/site-packages/ray/data/_internal/arrow_block.py:148: FutureWarning: promote has been superseded by promote_options='default'.\u001b[32m [repeated 15x across cluster] (Ray deduplicates logs by default. Set RAY_DEDUP_LOGS=0 to disable log deduplication, or see https://docs.ray.io/en/master/ray-observability/ray-logging.html#log-deduplication for more options.)\u001b[0m\n",
      "\u001b[36m(ReadParquet->SplitBlocks(4) pid=289904)\u001b[0m   return transform_pyarrow.concat(tables)\u001b[32m [repeated 15x across cluster]\u001b[0m\n",
      "\u001b[36m(raylet)\u001b[0m Spilled 9491 MiB, 7854 objects, write throughput 1218 MiB/s.\n",
      "\u001b[36m(raylet)\u001b[0m Spilled 17027 MiB, 14071 objects, write throughput 1040 MiB/s.\u001b[32m [repeated 2x across cluster]\u001b[0m\n"
     ]
    },
    {
     "name": "stderr",
     "output_type": "stream",
     "text": [
      "/home/ubuntu/data_bench/.venv/lib/python3.10/site-packages/ray/data/_internal/arrow_block.py:148: FutureWarning: promote has been superseded by promote_options='default'.\n",
      "  return transform_pyarrow.concat(tables)\n"
     ]
    }
   ],
   "source": [
    "df = ray.data.read_parquet(\"s3://tmp-grachev/ray_data\", parallelism=200).random_shuffle().to_pandas()"
   ]
  },
  {
   "cell_type": "code",
   "execution_count": 11,
   "metadata": {},
   "outputs": [
    {
     "name": "stderr",
     "output_type": "stream",
     "text": [
      "/home/ubuntu/data_bench/.venv/lib/python3.10/site-packages/ray/data/datasource/parquet_datasource.py:242: FutureWarning: Passing 'use_legacy_dataset' is deprecated as of pyarrow 15.0.0 and will be removed in a future version.\n",
      "  pq_ds = pq.ParquetDataset(\n"
     ]
    },
    {
     "data": {
      "application/vnd.jupyter.widget-view+json": {
       "model_id": "7b4e99aecf5443a88847e68f0e779d9a",
       "version_major": 2,
       "version_minor": 0
      },
      "text/plain": [
       "Metadata Fetch Progress 0:   0%|          | 0/8 [00:00<?, ?it/s]"
      ]
     },
     "metadata": {},
     "output_type": "display_data"
    },
    {
     "data": {
      "application/vnd.jupyter.widget-view+json": {
       "model_id": "e38780ba55a1486694838fa7bd7578b2",
       "version_major": 2,
       "version_minor": 0
      },
      "text/plain": [
       "Parquet Files Sample 0:   0%|          | 0/2 [00:00<?, ?it/s]"
      ]
     },
     "metadata": {},
     "output_type": "display_data"
    },
    {
     "data": {
      "application/vnd.jupyter.widget-view+json": {
       "model_id": "6144c4186aab4f6f8fc7c985844e9588",
       "version_major": 2,
       "version_minor": 0
      },
      "text/plain": [
       "Read progress 0:   0%|          | 0/50 [00:00<?, ?it/s]"
      ]
     },
     "metadata": {},
     "output_type": "display_data"
    },
    {
     "name": "stderr",
     "output_type": "stream",
     "text": [
      "/home/ubuntu/data_bench/.venv/lib/python3.10/site-packages/ray/data/_internal/arrow_block.py:148: FutureWarning: promote has been superseded by promote_options='default'.\n",
      "  return transform_pyarrow.concat(tables)\n"
     ]
    }
   ],
   "source": [
    "df = ray.data.read_parquet(\"s3://tmp-grachev/ray_data\", parallelism=200).to_pandas()"
   ]
  },
  {
   "cell_type": "code",
   "execution_count": 12,
   "metadata": {},
   "outputs": [
    {
     "data": {
      "text/plain": [
       "tensor([[0.3866, 0.0372, 0.1037,  ..., 0.2323, 0.3374, 0.1748],\n",
       "        [0.7216, 0.8001, 0.9771,  ..., 0.5158, 0.4916, 0.9662],\n",
       "        [0.9098, 0.9915, 0.6015,  ..., 0.3060, 0.2975, 0.4154],\n",
       "        ...,\n",
       "        [0.1455, 0.9519, 0.7888,  ..., 0.4117, 0.3971, 0.0598],\n",
       "        [0.3490, 0.2378, 0.6738,  ..., 0.7042, 0.7588, 0.9847],\n",
       "        [0.0659, 0.4895, 0.5789,  ..., 0.5115, 0.6083, 0.7177]])"
      ]
     },
     "execution_count": 12,
     "metadata": {},
     "output_type": "execute_result"
    }
   ],
   "source": [
    "import torch\n",
    "tensors = torch.from_numpy(df.values)\n",
    "tensors"
   ]
  },
  {
   "cell_type": "code",
   "execution_count": 13,
   "metadata": {},
   "outputs": [
    {
     "data": {
      "text/plain": [
       "array([[0.38656434, 0.03718862, 0.10374659, ..., 0.23230818, 0.33739197,\n",
       "        0.1747721 ],\n",
       "       [0.7215966 , 0.8001214 , 0.977059  , ..., 0.5157924 , 0.49159822,\n",
       "        0.9661944 ],\n",
       "       [0.9098034 , 0.99148005, 0.60153323, ..., 0.30599117, 0.2974941 ,\n",
       "        0.41537675],\n",
       "       ...,\n",
       "       [0.14550285, 0.9519068 , 0.78877896, ..., 0.41167715, 0.39708218,\n",
       "        0.05976709],\n",
       "       [0.34895596, 0.23775333, 0.6738232 , ..., 0.7042103 , 0.7588488 ,\n",
       "        0.98466873],\n",
       "       [0.06593101, 0.48952034, 0.578921  , ..., 0.51145625, 0.60834366,\n",
       "        0.7177    ]], dtype=float32)"
      ]
     },
     "execution_count": 13,
     "metadata": {},
     "output_type": "execute_result"
    }
   ],
   "source": [
    "df.values"
   ]
  },
  {
   "cell_type": "code",
   "execution_count": 7,
   "metadata": {},
   "outputs": [
    {
     "data": {
      "text/plain": [
       "tensor([[0.3866, 0.0372, 0.1037,  ..., 0.2323, 0.3374, 0.1748],\n",
       "        [0.7216, 0.8001, 0.9771,  ..., 0.5158, 0.4916, 0.9662],\n",
       "        [0.9098, 0.9915, 0.6015,  ..., 0.3060, 0.2975, 0.4154],\n",
       "        ...,\n",
       "        [0.1455, 0.9519, 0.7888,  ..., 0.4117, 0.3971, 0.0598],\n",
       "        [0.3490, 0.2378, 0.6738,  ..., 0.7042, 0.7588, 0.9847],\n",
       "        [0.0659, 0.4895, 0.5789,  ..., 0.5115, 0.6083, 0.7177]])"
      ]
     },
     "execution_count": 7,
     "metadata": {},
     "output_type": "execute_result"
    }
   ],
   "source": [
    "tensors"
   ]
  },
  {
   "cell_type": "code",
   "execution_count": 14,
   "metadata": {},
   "outputs": [
    {
     "data": {
      "text/plain": [
       "tensor([ 5427205, 28598612, 15828044,  ..., 18032425, 35425763, 13969090])"
      ]
     },
     "execution_count": 14,
     "metadata": {},
     "output_type": "execute_result"
    }
   ],
   "source": [
    "r = torch.randperm(ds.count())\n",
    "r"
   ]
  },
  {
   "cell_type": "code",
   "execution_count": 15,
   "metadata": {},
   "outputs": [
    {
     "data": {
      "text/plain": [
       "tensor([[0.3397, 0.9301, 0.8951,  ..., 0.9767, 0.7438, 0.6125],\n",
       "        [0.2418, 0.0830, 0.0159,  ..., 0.9518, 0.9931, 0.6517],\n",
       "        [0.5024, 0.9414, 0.4620,  ..., 0.7997, 0.4620, 0.1622],\n",
       "        ...,\n",
       "        [0.2598, 0.2774, 0.7157,  ..., 0.9418, 0.4759, 0.6608],\n",
       "        [0.4564, 0.0564, 0.2318,  ..., 0.8968, 0.3327, 0.9279],\n",
       "        [0.9644, 0.9259, 0.2424,  ..., 0.4402, 0.4949, 0.4772]])"
      ]
     },
     "execution_count": 15,
     "metadata": {},
     "output_type": "execute_result"
    }
   ],
   "source": [
    "tensors[r]"
   ]
  },
  {
   "cell_type": "code",
   "execution_count": 4,
   "metadata": {},
   "outputs": [
    {
     "data": {
      "application/vnd.jupyter.widget-view+json": {
       "model_id": "aa93f66e13a94602ae9f8a87b43ec502",
       "version_major": 2,
       "version_minor": 0
      },
      "text/plain": [
       "Metadata Fetch Progress 0:   0%|          | 0/8 [00:00<?, ?it/s]"
      ]
     },
     "metadata": {},
     "output_type": "display_data"
    },
    {
     "data": {
      "application/vnd.jupyter.widget-view+json": {
       "model_id": "3d49cd9022e34825a98771d6ea3669c9",
       "version_major": 2,
       "version_minor": 0
      },
      "text/plain": [
       "Parquet Files Sample 0:   0%|          | 0/2 [00:00<?, ?it/s]"
      ]
     },
     "metadata": {},
     "output_type": "display_data"
    },
    {
     "data": {
      "application/vnd.jupyter.widget-view+json": {
       "model_id": "64a86f414814461a9e0f656c36775a04",
       "version_major": 2,
       "version_minor": 0
      },
      "text/plain": [
       "Read progress 0:   0%|          | 0/50 [00:00<?, ?it/s]"
      ]
     },
     "metadata": {},
     "output_type": "display_data"
    },
    {
     "name": "stderr",
     "output_type": "stream",
     "text": [
      "\u001b[36m(_execute_read_task_split pid=177724)\u001b[0m /home/ubuntu/data_bench/.venv/lib/python3.10/site-packages/ray/data/_internal/arrow_block.py:148: FutureWarning: promote has been superseded by promote_options='default'.\n",
      "\u001b[36m(_execute_read_task_split pid=177724)\u001b[0m   return transform_pyarrow.concat(tables)\n",
      "\u001b[36m(_execute_read_task_split pid=177727)\u001b[0m /home/ubuntu/data_bench/.venv/lib/python3.10/site-packages/ray/data/_internal/arrow_block.py:148: FutureWarning: promote has been superseded by promote_options='default'.\n",
      "\u001b[36m(_execute_read_task_split pid=177727)\u001b[0m   return transform_pyarrow.concat(tables)\n",
      "\u001b[36m(raylet)\u001b[0m Spilled 2884 MiB, 27 objects, write throughput 882 MiB/s. Set RAY_verbose_spill_logs=0 to disable this message.\n",
      "\u001b[36m(raylet)\u001b[0m Spilled 4463 MiB, 42 objects, write throughput 1013 MiB/s.\n",
      "\u001b[36m(raylet)\u001b[0m Spilled 52937 MiB, 532 objects, write throughput 686 MiB/s.\u001b[32m [repeated 2x across cluster]\u001b[0m\n"
     ]
    }
   ],
   "source": [
    "ddf = ray.data.read_parquet(\"s3://tmp-grachev/ray_data\", parallelism=200).to_dask()"
   ]
  },
  {
   "cell_type": "code",
   "execution_count": null,
   "metadata": {},
   "outputs": [],
   "source": []
  },
  {
   "cell_type": "code",
   "execution_count": 5,
   "metadata": {},
   "outputs": [
    {
     "name": "stderr",
     "output_type": "stream",
     "text": [
      "/home/ubuntu/data_bench/.venv/lib/python3.10/site-packages/ray/data/datasource/parquet_datasource.py:242: FutureWarning: Passing 'use_legacy_dataset' is deprecated as of pyarrow 15.0.0 and will be removed in a future version.\n",
      "  pq_ds = pq.ParquetDataset(\n"
     ]
    },
    {
     "data": {
      "application/vnd.jupyter.widget-view+json": {
       "model_id": "c9f2f21d79d34ae297aebf05c8ec0335",
       "version_major": 2,
       "version_minor": 0
      },
      "text/plain": [
       "Metadata Fetch Progress 0:   0%|          | 0/8 [00:00<?, ?it/s]"
      ]
     },
     "metadata": {},
     "output_type": "display_data"
    },
    {
     "data": {
      "application/vnd.jupyter.widget-view+json": {
       "model_id": "e1ce80cdd826464cba64e47342afab18",
       "version_major": 2,
       "version_minor": 0
      },
      "text/plain": [
       "Parquet Files Sample 0:   0%|          | 0/2 [00:00<?, ?it/s]"
      ]
     },
     "metadata": {},
     "output_type": "display_data"
    },
    {
     "data": {
      "application/vnd.jupyter.widget-view+json": {
       "model_id": "c4cd840b97904861828de3350aa8fab5",
       "version_major": 2,
       "version_minor": 0
      },
      "text/plain": [
       "Read progress 0:   0%|          | 0/50 [00:00<?, ?it/s]"
      ]
     },
     "metadata": {},
     "output_type": "display_data"
    }
   ],
   "source": [
    "mdf = ray.daata.read_parquet(\"s3://tmp-grachev/ray_data\", parallelism=200).to_modin()"
   ]
  },
  {
   "cell_type": "code",
   "execution_count": 6,
   "metadata": {},
   "outputs": [
    {
     "ename": "KeyboardInterrupt",
     "evalue": "",
     "output_type": "error",
     "traceback": [
      "\u001b[0;31m---------------------------------------------------------------------------\u001b[0m",
      "\u001b[0;31mKeyboardInterrupt\u001b[0m                         Traceback (most recent call last)",
      "Cell \u001b[0;32mIn[6], line 1\u001b[0m\n\u001b[0;32m----> 1\u001b[0m \u001b[43mmdf\u001b[49m\u001b[38;5;241;43m.\u001b[39;49m\u001b[43mto_numpy\u001b[49m\u001b[43m(\u001b[49m\u001b[43m)\u001b[49m\n",
      "File \u001b[0;32m~/data_bench/.venv/lib/python3.10/site-packages/modin/logging/logger_decorator.py:129\u001b[0m, in \u001b[0;36menable_logging.<locals>.decorator.<locals>.run_and_log\u001b[0;34m(*args, **kwargs)\u001b[0m\n\u001b[1;32m    114\u001b[0m \u001b[38;5;250m\u001b[39m\u001b[38;5;124;03m\"\"\"\u001b[39;00m\n\u001b[1;32m    115\u001b[0m \u001b[38;5;124;03mCompute function with logging if Modin logging is enabled.\u001b[39;00m\n\u001b[1;32m    116\u001b[0m \n\u001b[0;32m   (...)\u001b[0m\n\u001b[1;32m    126\u001b[0m \u001b[38;5;124;03mAny\u001b[39;00m\n\u001b[1;32m    127\u001b[0m \u001b[38;5;124;03m\"\"\"\u001b[39;00m\n\u001b[1;32m    128\u001b[0m \u001b[38;5;28;01mif\u001b[39;00m LogMode\u001b[38;5;241m.\u001b[39mget() \u001b[38;5;241m==\u001b[39m \u001b[38;5;124m\"\u001b[39m\u001b[38;5;124mdisable\u001b[39m\u001b[38;5;124m\"\u001b[39m:\n\u001b[0;32m--> 129\u001b[0m     \u001b[38;5;28;01mreturn\u001b[39;00m \u001b[43mobj\u001b[49m\u001b[43m(\u001b[49m\u001b[38;5;241;43m*\u001b[39;49m\u001b[43margs\u001b[49m\u001b[43m,\u001b[49m\u001b[43m \u001b[49m\u001b[38;5;241;43m*\u001b[39;49m\u001b[38;5;241;43m*\u001b[39;49m\u001b[43mkwargs\u001b[49m\u001b[43m)\u001b[49m\n\u001b[1;32m    131\u001b[0m logger \u001b[38;5;241m=\u001b[39m get_logger()\n\u001b[1;32m    132\u001b[0m logger_level \u001b[38;5;241m=\u001b[39m \u001b[38;5;28mgetattr\u001b[39m(logger, log_level)\n",
      "File \u001b[0;32m~/data_bench/.venv/lib/python3.10/site-packages/modin/pandas/base.py:3381\u001b[0m, in \u001b[0;36mBasePandasDataset.to_numpy\u001b[0;34m(self, dtype, copy, na_value)\u001b[0m\n\u001b[1;32m   3377\u001b[0m     \u001b[38;5;28;01mfrom\u001b[39;00m \u001b[38;5;21;01m.\u001b[39;00m\u001b[38;5;21;01m.\u001b[39;00m\u001b[38;5;21;01mnumpy\u001b[39;00m\u001b[38;5;21;01m.\u001b[39;00m\u001b[38;5;21;01marr\u001b[39;00m \u001b[38;5;28;01mimport\u001b[39;00m array\n\u001b[1;32m   3379\u001b[0m     \u001b[38;5;28;01mreturn\u001b[39;00m array(\u001b[38;5;28mself\u001b[39m, copy\u001b[38;5;241m=\u001b[39mcopy)\n\u001b[0;32m-> 3381\u001b[0m \u001b[38;5;28;01mreturn\u001b[39;00m \u001b[38;5;28;43mself\u001b[39;49m\u001b[38;5;241;43m.\u001b[39;49m\u001b[43m_to_bare_numpy\u001b[49m\u001b[43m(\u001b[49m\n\u001b[1;32m   3382\u001b[0m \u001b[43m    \u001b[49m\u001b[43mdtype\u001b[49m\u001b[38;5;241;43m=\u001b[39;49m\u001b[43mdtype\u001b[49m\u001b[43m,\u001b[49m\n\u001b[1;32m   3383\u001b[0m \u001b[43m    \u001b[49m\u001b[43mcopy\u001b[49m\u001b[38;5;241;43m=\u001b[39;49m\u001b[43mcopy\u001b[49m\u001b[43m,\u001b[49m\n\u001b[1;32m   3384\u001b[0m \u001b[43m    \u001b[49m\u001b[43mna_value\u001b[49m\u001b[38;5;241;43m=\u001b[39;49m\u001b[43mna_value\u001b[49m\u001b[43m,\u001b[49m\n\u001b[1;32m   3385\u001b[0m \u001b[43m\u001b[49m\u001b[43m)\u001b[49m\n",
      "File \u001b[0;32m~/data_bench/.venv/lib/python3.10/site-packages/modin/logging/logger_decorator.py:129\u001b[0m, in \u001b[0;36menable_logging.<locals>.decorator.<locals>.run_and_log\u001b[0;34m(*args, **kwargs)\u001b[0m\n\u001b[1;32m    114\u001b[0m \u001b[38;5;250m\u001b[39m\u001b[38;5;124;03m\"\"\"\u001b[39;00m\n\u001b[1;32m    115\u001b[0m \u001b[38;5;124;03mCompute function with logging if Modin logging is enabled.\u001b[39;00m\n\u001b[1;32m    116\u001b[0m \n\u001b[0;32m   (...)\u001b[0m\n\u001b[1;32m    126\u001b[0m \u001b[38;5;124;03mAny\u001b[39;00m\n\u001b[1;32m    127\u001b[0m \u001b[38;5;124;03m\"\"\"\u001b[39;00m\n\u001b[1;32m    128\u001b[0m \u001b[38;5;28;01mif\u001b[39;00m LogMode\u001b[38;5;241m.\u001b[39mget() \u001b[38;5;241m==\u001b[39m \u001b[38;5;124m\"\u001b[39m\u001b[38;5;124mdisable\u001b[39m\u001b[38;5;124m\"\u001b[39m:\n\u001b[0;32m--> 129\u001b[0m     \u001b[38;5;28;01mreturn\u001b[39;00m \u001b[43mobj\u001b[49m\u001b[43m(\u001b[49m\u001b[38;5;241;43m*\u001b[39;49m\u001b[43margs\u001b[49m\u001b[43m,\u001b[49m\u001b[43m \u001b[49m\u001b[38;5;241;43m*\u001b[39;49m\u001b[38;5;241;43m*\u001b[39;49m\u001b[43mkwargs\u001b[49m\u001b[43m)\u001b[49m\n\u001b[1;32m    131\u001b[0m logger \u001b[38;5;241m=\u001b[39m get_logger()\n\u001b[1;32m    132\u001b[0m logger_level \u001b[38;5;241m=\u001b[39m \u001b[38;5;28mgetattr\u001b[39m(logger, log_level)\n",
      "File \u001b[0;32m~/data_bench/.venv/lib/python3.10/site-packages/modin/pandas/base.py:3362\u001b[0m, in \u001b[0;36mBasePandasDataset._to_bare_numpy\u001b[0;34m(self, dtype, copy, na_value)\u001b[0m\n\u001b[1;32m   3356\u001b[0m \u001b[38;5;28;01mdef\u001b[39;00m \u001b[38;5;21m_to_bare_numpy\u001b[39m(\n\u001b[1;32m   3357\u001b[0m     \u001b[38;5;28mself\u001b[39m, dtype\u001b[38;5;241m=\u001b[39m\u001b[38;5;28;01mNone\u001b[39;00m, copy\u001b[38;5;241m=\u001b[39m\u001b[38;5;28;01mFalse\u001b[39;00m, na_value\u001b[38;5;241m=\u001b[39mlib\u001b[38;5;241m.\u001b[39mno_default\n\u001b[1;32m   3358\u001b[0m ):  \u001b[38;5;66;03m# noqa: PR01, RT01, D200\u001b[39;00m\n\u001b[1;32m   3359\u001b[0m \u001b[38;5;250m    \u001b[39m\u001b[38;5;124;03m\"\"\"\u001b[39;00m\n\u001b[1;32m   3360\u001b[0m \u001b[38;5;124;03m    Convert the `BasePandasDataset` to a NumPy array.\u001b[39;00m\n\u001b[1;32m   3361\u001b[0m \u001b[38;5;124;03m    \"\"\"\u001b[39;00m\n\u001b[0;32m-> 3362\u001b[0m     \u001b[38;5;28;01mreturn\u001b[39;00m \u001b[38;5;28;43mself\u001b[39;49m\u001b[38;5;241;43m.\u001b[39;49m\u001b[43m_query_compiler\u001b[49m\u001b[38;5;241;43m.\u001b[39;49m\u001b[43mto_numpy\u001b[49m\u001b[43m(\u001b[49m\n\u001b[1;32m   3363\u001b[0m \u001b[43m        \u001b[49m\u001b[43mdtype\u001b[49m\u001b[38;5;241;43m=\u001b[39;49m\u001b[43mdtype\u001b[49m\u001b[43m,\u001b[49m\n\u001b[1;32m   3364\u001b[0m \u001b[43m        \u001b[49m\u001b[43mcopy\u001b[49m\u001b[38;5;241;43m=\u001b[39;49m\u001b[43mcopy\u001b[49m\u001b[43m,\u001b[49m\n\u001b[1;32m   3365\u001b[0m \u001b[43m        \u001b[49m\u001b[43mna_value\u001b[49m\u001b[38;5;241;43m=\u001b[39;49m\u001b[43mna_value\u001b[49m\u001b[43m,\u001b[49m\n\u001b[1;32m   3366\u001b[0m \u001b[43m    \u001b[49m\u001b[43m)\u001b[49m\n",
      "File \u001b[0;32m~/data_bench/.venv/lib/python3.10/site-packages/modin/logging/logger_decorator.py:129\u001b[0m, in \u001b[0;36menable_logging.<locals>.decorator.<locals>.run_and_log\u001b[0;34m(*args, **kwargs)\u001b[0m\n\u001b[1;32m    114\u001b[0m \u001b[38;5;250m\u001b[39m\u001b[38;5;124;03m\"\"\"\u001b[39;00m\n\u001b[1;32m    115\u001b[0m \u001b[38;5;124;03mCompute function with logging if Modin logging is enabled.\u001b[39;00m\n\u001b[1;32m    116\u001b[0m \n\u001b[0;32m   (...)\u001b[0m\n\u001b[1;32m    126\u001b[0m \u001b[38;5;124;03mAny\u001b[39;00m\n\u001b[1;32m    127\u001b[0m \u001b[38;5;124;03m\"\"\"\u001b[39;00m\n\u001b[1;32m    128\u001b[0m \u001b[38;5;28;01mif\u001b[39;00m LogMode\u001b[38;5;241m.\u001b[39mget() \u001b[38;5;241m==\u001b[39m \u001b[38;5;124m\"\u001b[39m\u001b[38;5;124mdisable\u001b[39m\u001b[38;5;124m\"\u001b[39m:\n\u001b[0;32m--> 129\u001b[0m     \u001b[38;5;28;01mreturn\u001b[39;00m \u001b[43mobj\u001b[49m\u001b[43m(\u001b[49m\u001b[38;5;241;43m*\u001b[39;49m\u001b[43margs\u001b[49m\u001b[43m,\u001b[49m\u001b[43m \u001b[49m\u001b[38;5;241;43m*\u001b[39;49m\u001b[38;5;241;43m*\u001b[39;49m\u001b[43mkwargs\u001b[49m\u001b[43m)\u001b[49m\n\u001b[1;32m    131\u001b[0m logger \u001b[38;5;241m=\u001b[39m get_logger()\n\u001b[1;32m    132\u001b[0m logger_level \u001b[38;5;241m=\u001b[39m \u001b[38;5;28mgetattr\u001b[39m(logger, log_level)\n",
      "File \u001b[0;32m~/data_bench/.venv/lib/python3.10/site-packages/modin/core/storage_formats/pandas/query_compiler.py:405\u001b[0m, in \u001b[0;36mPandasQueryCompiler.to_numpy\u001b[0;34m(self, **kwargs)\u001b[0m\n\u001b[1;32m    404\u001b[0m \u001b[38;5;28;01mdef\u001b[39;00m \u001b[38;5;21mto_numpy\u001b[39m(\u001b[38;5;28mself\u001b[39m, \u001b[38;5;241m*\u001b[39m\u001b[38;5;241m*\u001b[39mkwargs):\n\u001b[0;32m--> 405\u001b[0m     \u001b[38;5;28;01mreturn\u001b[39;00m \u001b[38;5;28;43mself\u001b[39;49m\u001b[38;5;241;43m.\u001b[39;49m\u001b[43m_modin_frame\u001b[49m\u001b[38;5;241;43m.\u001b[39;49m\u001b[43mto_numpy\u001b[49m\u001b[43m(\u001b[49m\u001b[38;5;241;43m*\u001b[39;49m\u001b[38;5;241;43m*\u001b[39;49m\u001b[43mkwargs\u001b[49m\u001b[43m)\u001b[49m\n",
      "File \u001b[0;32m~/data_bench/.venv/lib/python3.10/site-packages/modin/logging/logger_decorator.py:129\u001b[0m, in \u001b[0;36menable_logging.<locals>.decorator.<locals>.run_and_log\u001b[0;34m(*args, **kwargs)\u001b[0m\n\u001b[1;32m    114\u001b[0m \u001b[38;5;250m\u001b[39m\u001b[38;5;124;03m\"\"\"\u001b[39;00m\n\u001b[1;32m    115\u001b[0m \u001b[38;5;124;03mCompute function with logging if Modin logging is enabled.\u001b[39;00m\n\u001b[1;32m    116\u001b[0m \n\u001b[0;32m   (...)\u001b[0m\n\u001b[1;32m    126\u001b[0m \u001b[38;5;124;03mAny\u001b[39;00m\n\u001b[1;32m    127\u001b[0m \u001b[38;5;124;03m\"\"\"\u001b[39;00m\n\u001b[1;32m    128\u001b[0m \u001b[38;5;28;01mif\u001b[39;00m LogMode\u001b[38;5;241m.\u001b[39mget() \u001b[38;5;241m==\u001b[39m \u001b[38;5;124m\"\u001b[39m\u001b[38;5;124mdisable\u001b[39m\u001b[38;5;124m\"\u001b[39m:\n\u001b[0;32m--> 129\u001b[0m     \u001b[38;5;28;01mreturn\u001b[39;00m \u001b[43mobj\u001b[49m\u001b[43m(\u001b[49m\u001b[38;5;241;43m*\u001b[39;49m\u001b[43margs\u001b[49m\u001b[43m,\u001b[49m\u001b[43m \u001b[49m\u001b[38;5;241;43m*\u001b[39;49m\u001b[38;5;241;43m*\u001b[39;49m\u001b[43mkwargs\u001b[49m\u001b[43m)\u001b[49m\n\u001b[1;32m    131\u001b[0m logger \u001b[38;5;241m=\u001b[39m get_logger()\n\u001b[1;32m    132\u001b[0m logger_level \u001b[38;5;241m=\u001b[39m \u001b[38;5;28mgetattr\u001b[39m(logger, log_level)\n",
      "File \u001b[0;32m~/data_bench/.venv/lib/python3.10/site-packages/modin/core/dataframe/pandas/dataframe/dataframe.py:4072\u001b[0m, in \u001b[0;36mPandasDataframe.to_numpy\u001b[0;34m(self, **kwargs)\u001b[0m\n\u001b[1;32m   4059\u001b[0m \u001b[38;5;28;01mdef\u001b[39;00m \u001b[38;5;21mto_numpy\u001b[39m(\u001b[38;5;28mself\u001b[39m, \u001b[38;5;241m*\u001b[39m\u001b[38;5;241m*\u001b[39mkwargs):\n\u001b[1;32m   4060\u001b[0m \u001b[38;5;250m    \u001b[39m\u001b[38;5;124;03m\"\"\"\u001b[39;00m\n\u001b[1;32m   4061\u001b[0m \u001b[38;5;124;03m    Convert this Modin DataFrame to a NumPy array.\u001b[39;00m\n\u001b[1;32m   4062\u001b[0m \n\u001b[0;32m   (...)\u001b[0m\n\u001b[1;32m   4070\u001b[0m \u001b[38;5;124;03m    np.ndarray\u001b[39;00m\n\u001b[1;32m   4071\u001b[0m \u001b[38;5;124;03m    \"\"\"\u001b[39;00m\n\u001b[0;32m-> 4072\u001b[0m     arr \u001b[38;5;241m=\u001b[39m \u001b[38;5;28;43mself\u001b[39;49m\u001b[38;5;241;43m.\u001b[39;49m\u001b[43m_partition_mgr_cls\u001b[49m\u001b[38;5;241;43m.\u001b[39;49m\u001b[43mto_numpy\u001b[49m\u001b[43m(\u001b[49m\u001b[38;5;28;43mself\u001b[39;49m\u001b[38;5;241;43m.\u001b[39;49m\u001b[43m_partitions\u001b[49m\u001b[43m,\u001b[49m\u001b[43m \u001b[49m\u001b[38;5;241;43m*\u001b[39;49m\u001b[38;5;241;43m*\u001b[39;49m\u001b[43mkwargs\u001b[49m\u001b[43m)\u001b[49m\n\u001b[1;32m   4073\u001b[0m     ErrorMessage\u001b[38;5;241m.\u001b[39mcatch_bugs_and_request_email(\n\u001b[1;32m   4074\u001b[0m         \u001b[38;5;28mself\u001b[39m\u001b[38;5;241m.\u001b[39mhas_materialized_index\n\u001b[1;32m   4075\u001b[0m         \u001b[38;5;129;01mand\u001b[39;00m \u001b[38;5;28mlen\u001b[39m(arr) \u001b[38;5;241m!=\u001b[39m \u001b[38;5;28mlen\u001b[39m(\u001b[38;5;28mself\u001b[39m\u001b[38;5;241m.\u001b[39mindex)\n\u001b[1;32m   4076\u001b[0m         \u001b[38;5;129;01mor\u001b[39;00m \u001b[38;5;28mself\u001b[39m\u001b[38;5;241m.\u001b[39mhas_materialized_columns\n\u001b[1;32m   4077\u001b[0m         \u001b[38;5;129;01mand\u001b[39;00m \u001b[38;5;28mlen\u001b[39m(arr[\u001b[38;5;241m0\u001b[39m]) \u001b[38;5;241m!=\u001b[39m \u001b[38;5;28mlen\u001b[39m(\u001b[38;5;28mself\u001b[39m\u001b[38;5;241m.\u001b[39mcolumns)\n\u001b[1;32m   4078\u001b[0m     )\n\u001b[1;32m   4079\u001b[0m     \u001b[38;5;28;01mreturn\u001b[39;00m arr\n",
      "File \u001b[0;32m~/data_bench/.venv/lib/python3.10/site-packages/modin/logging/logger_decorator.py:129\u001b[0m, in \u001b[0;36menable_logging.<locals>.decorator.<locals>.run_and_log\u001b[0;34m(*args, **kwargs)\u001b[0m\n\u001b[1;32m    114\u001b[0m \u001b[38;5;250m\u001b[39m\u001b[38;5;124;03m\"\"\"\u001b[39;00m\n\u001b[1;32m    115\u001b[0m \u001b[38;5;124;03mCompute function with logging if Modin logging is enabled.\u001b[39;00m\n\u001b[1;32m    116\u001b[0m \n\u001b[0;32m   (...)\u001b[0m\n\u001b[1;32m    126\u001b[0m \u001b[38;5;124;03mAny\u001b[39;00m\n\u001b[1;32m    127\u001b[0m \u001b[38;5;124;03m\"\"\"\u001b[39;00m\n\u001b[1;32m    128\u001b[0m \u001b[38;5;28;01mif\u001b[39;00m LogMode\u001b[38;5;241m.\u001b[39mget() \u001b[38;5;241m==\u001b[39m \u001b[38;5;124m\"\u001b[39m\u001b[38;5;124mdisable\u001b[39m\u001b[38;5;124m\"\u001b[39m:\n\u001b[0;32m--> 129\u001b[0m     \u001b[38;5;28;01mreturn\u001b[39;00m \u001b[43mobj\u001b[49m\u001b[43m(\u001b[49m\u001b[38;5;241;43m*\u001b[39;49m\u001b[43margs\u001b[49m\u001b[43m,\u001b[49m\u001b[43m \u001b[49m\u001b[38;5;241;43m*\u001b[39;49m\u001b[38;5;241;43m*\u001b[39;49m\u001b[43mkwargs\u001b[49m\u001b[43m)\u001b[49m\n\u001b[1;32m    131\u001b[0m logger \u001b[38;5;241m=\u001b[39m get_logger()\n\u001b[1;32m    132\u001b[0m logger_level \u001b[38;5;241m=\u001b[39m \u001b[38;5;28mgetattr\u001b[39m(logger, log_level)\n",
      "File \u001b[0;32m~/data_bench/.venv/lib/python3.10/site-packages/modin/core/execution/ray/generic/partitioning/partition_manager.py:58\u001b[0m, in \u001b[0;36mGenericRayDataframePartitionManager.to_numpy\u001b[0;34m(cls, partitions, **kwargs)\u001b[0m\n\u001b[1;32m     56\u001b[0m rows, cols \u001b[38;5;241m=\u001b[39m partitions\u001b[38;5;241m.\u001b[39mshape\n\u001b[1;32m     57\u001b[0m parts \u001b[38;5;241m=\u001b[39m [parts[i \u001b[38;5;241m*\u001b[39m cols : (i \u001b[38;5;241m+\u001b[39m \u001b[38;5;241m1\u001b[39m) \u001b[38;5;241m*\u001b[39m cols] \u001b[38;5;28;01mfor\u001b[39;00m i \u001b[38;5;129;01min\u001b[39;00m \u001b[38;5;28mrange\u001b[39m(rows)]\n\u001b[0;32m---> 58\u001b[0m \u001b[38;5;28;01mreturn\u001b[39;00m \u001b[43mnp\u001b[49m\u001b[38;5;241;43m.\u001b[39;49m\u001b[43mblock\u001b[49m\u001b[43m(\u001b[49m\u001b[43mparts\u001b[49m\u001b[43m)\u001b[49m\n",
      "File \u001b[0;32m~/data_bench/.venv/lib/python3.10/site-packages/numpy/core/shape_base.py:870\u001b[0m, in \u001b[0;36mblock\u001b[0;34m(arrays)\u001b[0m\n\u001b[1;32m    855\u001b[0m \u001b[38;5;66;03m# It was found through benchmarking that making an array of final size\u001b[39;00m\n\u001b[1;32m    856\u001b[0m \u001b[38;5;66;03m# around 256x256 was faster by straight concatenation on a\u001b[39;00m\n\u001b[1;32m    857\u001b[0m \u001b[38;5;66;03m# i7-7700HQ processor and dual channel ram 2400MHz.\u001b[39;00m\n\u001b[0;32m   (...)\u001b[0m\n\u001b[1;32m    867\u001b[0m \u001b[38;5;66;03m# algorithm is implemented which would likely be faster than the python\u001b[39;00m\n\u001b[1;32m    868\u001b[0m \u001b[38;5;66;03m# version.\u001b[39;00m\n\u001b[1;32m    869\u001b[0m \u001b[38;5;28;01mif\u001b[39;00m list_ndim \u001b[38;5;241m*\u001b[39m final_size \u001b[38;5;241m>\u001b[39m (\u001b[38;5;241m2\u001b[39m \u001b[38;5;241m*\u001b[39m \u001b[38;5;241m512\u001b[39m \u001b[38;5;241m*\u001b[39m \u001b[38;5;241m512\u001b[39m):\n\u001b[0;32m--> 870\u001b[0m     \u001b[38;5;28;01mreturn\u001b[39;00m \u001b[43m_block_slicing\u001b[49m\u001b[43m(\u001b[49m\u001b[43marrays\u001b[49m\u001b[43m,\u001b[49m\u001b[43m \u001b[49m\u001b[43mlist_ndim\u001b[49m\u001b[43m,\u001b[49m\u001b[43m \u001b[49m\u001b[43mresult_ndim\u001b[49m\u001b[43m)\u001b[49m\n\u001b[1;32m    871\u001b[0m \u001b[38;5;28;01melse\u001b[39;00m:\n\u001b[1;32m    872\u001b[0m     \u001b[38;5;28;01mreturn\u001b[39;00m _block_concatenate(arrays, list_ndim, result_ndim)\n",
      "File \u001b[0;32m~/data_bench/.venv/lib/python3.10/site-packages/numpy/core/shape_base.py:911\u001b[0m, in \u001b[0;36m_block_slicing\u001b[0;34m(arrays, list_ndim, result_ndim)\u001b[0m\n\u001b[1;32m    906\u001b[0m \u001b[38;5;66;03m# Note: In a c implementation, the function\u001b[39;00m\n\u001b[1;32m    907\u001b[0m \u001b[38;5;66;03m# PyArray_CreateMultiSortedStridePerm could be used for more advanced\u001b[39;00m\n\u001b[1;32m    908\u001b[0m \u001b[38;5;66;03m# guessing of the desired order.\u001b[39;00m\n\u001b[1;32m    910\u001b[0m \u001b[38;5;28;01mfor\u001b[39;00m the_slice, arr \u001b[38;5;129;01min\u001b[39;00m \u001b[38;5;28mzip\u001b[39m(slices, arrays):\n\u001b[0;32m--> 911\u001b[0m     result[(\u001b[38;5;28mEllipsis\u001b[39m,) \u001b[38;5;241m+\u001b[39m the_slice] \u001b[38;5;241m=\u001b[39m arr\n\u001b[1;32m    912\u001b[0m \u001b[38;5;28;01mreturn\u001b[39;00m result\n",
      "\u001b[0;31mKeyboardInterrupt\u001b[0m: "
     ]
    }
   ],
   "source": [
    "mdf.to_numpy()"
   ]
  },
  {
   "cell_type": "code",
   "execution_count": 4,
   "metadata": {},
   "outputs": [
    {
     "name": "stderr",
     "output_type": "stream",
     "text": [
      "2024-03-08 23:02:14,239\tINFO streaming_executor.py:112 -- Executing DAG InputDataBuffer[Input] -> TaskPoolMapOperator[ReadParquet] -> LimitOperator[limit=20]\n",
      "2024-03-08 23:02:14,240\tINFO streaming_executor.py:113 -- Execution config: ExecutionOptions(resource_limits=ExecutionResources(cpu=None, gpu=None, object_store_memory=None), exclude_resources=ExecutionResources(cpu=0, gpu=0, object_store_memory=0), locality_with_output=False, preserve_order=False, actor_locality_enabled=True, verbose_progress=True)\n"
     ]
    },
    {
     "data": {
      "application/vnd.jupyter.widget-view+json": {
       "model_id": "5b884121c7254ad2bcc9c67e983f0b6d",
       "version_major": 2,
       "version_minor": 0
      },
      "text/plain": [
       "- ReadParquet 1:   0%|          | 0/50 [00:00<?, ?it/s]"
      ]
     },
     "metadata": {},
     "output_type": "display_data"
    },
    {
     "data": {
      "application/vnd.jupyter.widget-view+json": {
       "model_id": "0b3f045efd6d4840879534dad369a6fb",
       "version_major": 2,
       "version_minor": 0
      },
      "text/plain": [
       "- limit=20 2:   0%|          | 0/50 [00:00<?, ?it/s]"
      ]
     },
     "metadata": {},
     "output_type": "display_data"
    },
    {
     "data": {
      "application/vnd.jupyter.widget-view+json": {
       "model_id": "45880affad9b46f49dfb446db02f4a84",
       "version_major": 2,
       "version_minor": 0
      },
      "text/plain": [
       "Running 0:   0%|          | 0/50 [00:00<?, ?it/s]"
      ]
     },
     "metadata": {},
     "output_type": "display_data"
    },
    {
     "name": "stderr",
     "output_type": "stream",
     "text": [
      "\u001b[36m(ReadParquet pid=171329)\u001b[0m /home/ubuntu/data_bench/.venv/lib/python3.10/site-packages/ray/data/_internal/arrow_block.py:148: FutureWarning: promote has been superseded by promote_options='default'.\n",
      "\u001b[36m(ReadParquet pid=171329)\u001b[0m   return transform_pyarrow.concat(tables)\n"
     ]
    }
   ],
   "source": [
    "it = ds.take_batch(batch_format=\"numpy\")"
   ]
  },
  {
   "cell_type": "code",
   "execution_count": 6,
   "metadata": {},
   "outputs": [
    {
     "name": "stderr",
     "output_type": "stream",
     "text": [
      "/home/ubuntu/data_bench/.venv/lib/python3.10/site-packages/ray/data/datasource/parquet_datasource.py:242: FutureWarning: Passing 'use_legacy_dataset' is deprecated as of pyarrow 15.0.0 and will be removed in a future version.\n",
      "  pq_ds = pq.ParquetDataset(\n"
     ]
    },
    {
     "data": {
      "application/vnd.jupyter.widget-view+json": {
       "model_id": "41a9233479284394ba06806fcabc673e",
       "version_major": 2,
       "version_minor": 0
      },
      "text/plain": [
       "Metadata Fetch Progress 0:   0%|          | 0/8 [00:00<?, ?it/s]"
      ]
     },
     "metadata": {},
     "output_type": "display_data"
    },
    {
     "data": {
      "application/vnd.jupyter.widget-view+json": {
       "model_id": "5c726a889dbb45fe91f30370c8f8e1a3",
       "version_major": 2,
       "version_minor": 0
      },
      "text/plain": [
       "Parquet Files Sample 0:   0%|          | 0/2 [00:00<?, ?it/s]"
      ]
     },
     "metadata": {},
     "output_type": "display_data"
    },
    {
     "name": "stderr",
     "output_type": "stream",
     "text": [
      "UserWarning: The pandas version installed (2.1.4) does not match the supported pandas version in Modin (2.2.X). This may cause undesired side effects!\n"
     ]
    },
    {
     "ename": "AttributeError",
     "evalue": "module 'pandas.core.arrays.arrow' has no attribute 'ListAccessor'",
     "output_type": "error",
     "traceback": [
      "\u001b[0;31m---------------------------------------------------------------------------\u001b[0m",
      "\u001b[0;31mAttributeError\u001b[0m                            Traceback (most recent call last)",
      "Cell \u001b[0;32mIn[6], line 1\u001b[0m\n\u001b[0;32m----> 1\u001b[0m mdf \u001b[38;5;241m=\u001b[39m \u001b[43mray\u001b[49m\u001b[38;5;241;43m.\u001b[39;49m\u001b[43mdata\u001b[49m\u001b[38;5;241;43m.\u001b[39;49m\u001b[43mread_parquet\u001b[49m\u001b[43m(\u001b[49m\u001b[38;5;124;43m\"\u001b[39;49m\u001b[38;5;124;43ms3://tmp-grachev/ray_data\u001b[39;49m\u001b[38;5;124;43m\"\u001b[39;49m\u001b[43m,\u001b[49m\u001b[43m \u001b[49m\u001b[43mparallelism\u001b[49m\u001b[38;5;241;43m=\u001b[39;49m\u001b[38;5;241;43m200\u001b[39;49m\u001b[43m)\u001b[49m\u001b[38;5;241;43m.\u001b[39;49m\u001b[43mto_modin\u001b[49m\u001b[43m(\u001b[49m\u001b[43m)\u001b[49m\n",
      "File \u001b[0;32m~/data_bench/.venv/lib/python3.10/site-packages/ray/data/dataset.py:4376\u001b[0m, in \u001b[0;36mDataset.to_modin\u001b[0;34m(self)\u001b[0m\n\u001b[1;32m   4354\u001b[0m \u001b[38;5;129m@ConsumptionAPI\u001b[39m(pattern\u001b[38;5;241m=\u001b[39m\u001b[38;5;124m\"\u001b[39m\u001b[38;5;124mTime complexity:\u001b[39m\u001b[38;5;124m\"\u001b[39m)\n\u001b[1;32m   4355\u001b[0m \u001b[38;5;28;01mdef\u001b[39;00m \u001b[38;5;21mto_modin\u001b[39m(\u001b[38;5;28mself\u001b[39m) \u001b[38;5;241m-\u001b[39m\u001b[38;5;241m>\u001b[39m \u001b[38;5;124m\"\u001b[39m\u001b[38;5;124mmodin.pandas.dataframe.DataFrame\u001b[39m\u001b[38;5;124m\"\u001b[39m:\n\u001b[1;32m   4356\u001b[0m \u001b[38;5;250m    \u001b[39m\u001b[38;5;124;03m\"\"\"Convert this :class:`~ray.data.Dataset` into a\u001b[39;00m\n\u001b[1;32m   4357\u001b[0m \u001b[38;5;124;03m    `Modin DataFrame <https://modin.readthedocs.io/en/stable/flow/modin/pandas/dataframe.html>`_.\u001b[39;00m\n\u001b[1;32m   4358\u001b[0m \n\u001b[0;32m   (...)\u001b[0m\n\u001b[1;32m   4373\u001b[0m \u001b[38;5;124;03m        A `Modin DataFrame`_ created from this dataset.\u001b[39;00m\n\u001b[1;32m   4374\u001b[0m \u001b[38;5;124;03m    \"\"\"\u001b[39;00m  \u001b[38;5;66;03m# noqa: E501\u001b[39;00m\n\u001b[0;32m-> 4376\u001b[0m     \u001b[38;5;28;01mfrom\u001b[39;00m \u001b[38;5;21;01mmodin\u001b[39;00m\u001b[38;5;21;01m.\u001b[39;00m\u001b[38;5;21;01mdistributed\u001b[39;00m\u001b[38;5;21;01m.\u001b[39;00m\u001b[38;5;21;01mdataframe\u001b[39;00m\u001b[38;5;21;01m.\u001b[39;00m\u001b[38;5;21;01mpandas\u001b[39;00m\u001b[38;5;21;01m.\u001b[39;00m\u001b[38;5;21;01mpartitions\u001b[39;00m \u001b[38;5;28;01mimport\u001b[39;00m from_partitions\n\u001b[1;32m   4378\u001b[0m     pd_objs \u001b[38;5;241m=\u001b[39m \u001b[38;5;28mself\u001b[39m\u001b[38;5;241m.\u001b[39mto_pandas_refs()\n\u001b[1;32m   4379\u001b[0m     \u001b[38;5;28;01mreturn\u001b[39;00m from_partitions(pd_objs, axis\u001b[38;5;241m=\u001b[39m\u001b[38;5;241m0\u001b[39m)\n",
      "File \u001b[0;32m~/data_bench/.venv/lib/python3.10/site-packages/modin/distributed/dataframe/pandas/__init__.py:16\u001b[0m\n\u001b[1;32m      1\u001b[0m \u001b[38;5;66;03m# Licensed to Modin Development Team under one or more contributor license agreements.\u001b[39;00m\n\u001b[1;32m      2\u001b[0m \u001b[38;5;66;03m# See the NOTICE file distributed with this work for additional information regarding\u001b[39;00m\n\u001b[1;32m      3\u001b[0m \u001b[38;5;66;03m# copyright ownership.  The Modin Development Team licenses this file to you under the\u001b[39;00m\n\u001b[0;32m   (...)\u001b[0m\n\u001b[1;32m     11\u001b[0m \u001b[38;5;66;03m# ANY KIND, either express or implied. See the License for the specific language\u001b[39;00m\n\u001b[1;32m     12\u001b[0m \u001b[38;5;66;03m# governing permissions and limitations under the License.\u001b[39;00m\n\u001b[1;32m     14\u001b[0m \u001b[38;5;124;03m\"\"\"API to operate on distributed pandas DataFrame objects.\"\"\"\u001b[39;00m\n\u001b[0;32m---> 16\u001b[0m \u001b[38;5;28;01mfrom\u001b[39;00m \u001b[38;5;21;01m.\u001b[39;00m\u001b[38;5;21;01mpartitions\u001b[39;00m \u001b[38;5;28;01mimport\u001b[39;00m from_partitions, unwrap_partitions\n\u001b[1;32m     18\u001b[0m __all__ \u001b[38;5;241m=\u001b[39m [\u001b[38;5;124m\"\u001b[39m\u001b[38;5;124munwrap_partitions\u001b[39m\u001b[38;5;124m\"\u001b[39m, \u001b[38;5;124m\"\u001b[39m\u001b[38;5;124mfrom_partitions\u001b[39m\u001b[38;5;124m\"\u001b[39m]\n",
      "File \u001b[0;32m~/data_bench/.venv/lib/python3.10/site-packages/modin/distributed/dataframe/pandas/partitions.py:22\u001b[0m\n\u001b[1;32m     19\u001b[0m \u001b[38;5;28;01mfrom\u001b[39;00m \u001b[38;5;21;01mpandas\u001b[39;00m\u001b[38;5;21;01m.\u001b[39;00m\u001b[38;5;21;01m_typing\u001b[39;00m \u001b[38;5;28;01mimport\u001b[39;00m Axes\n\u001b[1;32m     21\u001b[0m \u001b[38;5;28;01mfrom\u001b[39;00m \u001b[38;5;21;01mmodin\u001b[39;00m\u001b[38;5;21;01m.\u001b[39;00m\u001b[38;5;21;01mcore\u001b[39;00m\u001b[38;5;21;01m.\u001b[39;00m\u001b[38;5;21;01mstorage_formats\u001b[39;00m\u001b[38;5;21;01m.\u001b[39;00m\u001b[38;5;21;01mpandas\u001b[39;00m\u001b[38;5;21;01m.\u001b[39;00m\u001b[38;5;21;01mquery_compiler\u001b[39;00m \u001b[38;5;28;01mimport\u001b[39;00m PandasQueryCompiler\n\u001b[0;32m---> 22\u001b[0m \u001b[38;5;28;01mfrom\u001b[39;00m \u001b[38;5;21;01mmodin\u001b[39;00m\u001b[38;5;21;01m.\u001b[39;00m\u001b[38;5;21;01mpandas\u001b[39;00m\u001b[38;5;21;01m.\u001b[39;00m\u001b[38;5;21;01mdataframe\u001b[39;00m \u001b[38;5;28;01mimport\u001b[39;00m DataFrame, Series\n\u001b[1;32m     24\u001b[0m \u001b[38;5;28;01mif\u001b[39;00m TYPE_CHECKING:\n\u001b[1;32m     25\u001b[0m     \u001b[38;5;28;01mfrom\u001b[39;00m \u001b[38;5;21;01mmodin\u001b[39;00m\u001b[38;5;21;01m.\u001b[39;00m\u001b[38;5;21;01mcore\u001b[39;00m\u001b[38;5;21;01m.\u001b[39;00m\u001b[38;5;21;01mexecution\u001b[39;00m\u001b[38;5;21;01m.\u001b[39;00m\u001b[38;5;21;01mdask\u001b[39;00m\u001b[38;5;21;01m.\u001b[39;00m\u001b[38;5;21;01mimplementations\u001b[39;00m\u001b[38;5;21;01m.\u001b[39;00m\u001b[38;5;21;01mpandas_on_dask\u001b[39;00m\u001b[38;5;21;01m.\u001b[39;00m\u001b[38;5;21;01mpartitioning\u001b[39;00m \u001b[38;5;28;01mimport\u001b[39;00m (\n\u001b[1;32m     26\u001b[0m         PandasOnDaskDataframeColumnPartition,\n\u001b[1;32m     27\u001b[0m         PandasOnDaskDataframePartition,\n\u001b[1;32m     28\u001b[0m         PandasOnDaskDataframeRowPartition,\n\u001b[1;32m     29\u001b[0m     )\n",
      "File \u001b[0;32m~/data_bench/.venv/lib/python3.10/site-packages/modin/pandas/__init__.py:177\u001b[0m\n\u001b[1;32m    174\u001b[0m \u001b[38;5;28;01mfrom\u001b[39;00m \u001b[38;5;21;01mmodin\u001b[39;00m\u001b[38;5;21;01m.\u001b[39;00m\u001b[38;5;21;01mutils\u001b[39;00m \u001b[38;5;28;01mimport\u001b[39;00m show_versions\n\u001b[1;32m    176\u001b[0m \u001b[38;5;28;01mfrom\u001b[39;00m \u001b[38;5;21;01m.\u001b[39;00m\u001b[38;5;21;01m.\u001b[39;00m \u001b[38;5;28;01mimport\u001b[39;00m __version__\n\u001b[0;32m--> 177\u001b[0m \u001b[38;5;28;01mfrom\u001b[39;00m \u001b[38;5;21;01m.\u001b[39;00m\u001b[38;5;21;01mdataframe\u001b[39;00m \u001b[38;5;28;01mimport\u001b[39;00m DataFrame\n\u001b[1;32m    178\u001b[0m \u001b[38;5;28;01mfrom\u001b[39;00m \u001b[38;5;21;01m.\u001b[39;00m\u001b[38;5;21;01mgeneral\u001b[39;00m \u001b[38;5;28;01mimport\u001b[39;00m (\n\u001b[1;32m    179\u001b[0m     concat,\n\u001b[1;32m    180\u001b[0m     crosstab,\n\u001b[0;32m   (...)\u001b[0m\n\u001b[1;32m    200\u001b[0m     wide_to_long,\n\u001b[1;32m    201\u001b[0m )\n\u001b[1;32m    202\u001b[0m \u001b[38;5;28;01mfrom\u001b[39;00m \u001b[38;5;21;01m.\u001b[39;00m\u001b[38;5;21;01mio\u001b[39;00m \u001b[38;5;28;01mimport\u001b[39;00m (\n\u001b[1;32m    203\u001b[0m     ExcelFile,\n\u001b[1;32m    204\u001b[0m     HDFStore,\n\u001b[0;32m   (...)\u001b[0m\n\u001b[1;32m    226\u001b[0m     to_pickle,\n\u001b[1;32m    227\u001b[0m )\n",
      "File \u001b[0;32m~/data_bench/.venv/lib/python3.10/site-packages/modin/pandas/dataframe.py:64\u001b[0m\n\u001b[1;32m     62\u001b[0m \u001b[38;5;28;01mfrom\u001b[39;00m \u001b[38;5;21;01m.\u001b[39;00m\u001b[38;5;21;01maccessor\u001b[39;00m \u001b[38;5;28;01mimport\u001b[39;00m CachedAccessor, SparseFrameAccessor\n\u001b[1;32m     63\u001b[0m \u001b[38;5;28;01mfrom\u001b[39;00m \u001b[38;5;21;01m.\u001b[39;00m\u001b[38;5;21;01mbase\u001b[39;00m \u001b[38;5;28;01mimport\u001b[39;00m _ATTRS_NO_LOOKUP, BasePandasDataset\n\u001b[0;32m---> 64\u001b[0m \u001b[38;5;28;01mfrom\u001b[39;00m \u001b[38;5;21;01m.\u001b[39;00m\u001b[38;5;21;01mgroupby\u001b[39;00m \u001b[38;5;28;01mimport\u001b[39;00m DataFrameGroupBy\n\u001b[1;32m     65\u001b[0m \u001b[38;5;28;01mfrom\u001b[39;00m \u001b[38;5;21;01m.\u001b[39;00m\u001b[38;5;21;01miterator\u001b[39;00m \u001b[38;5;28;01mimport\u001b[39;00m PartitionIterator\n\u001b[1;32m     66\u001b[0m \u001b[38;5;28;01mfrom\u001b[39;00m \u001b[38;5;21;01m.\u001b[39;00m\u001b[38;5;21;01mseries\u001b[39;00m \u001b[38;5;28;01mimport\u001b[39;00m Series\n",
      "File \u001b[0;32m~/data_bench/.venv/lib/python3.10/site-packages/modin/pandas/groupby.py:49\u001b[0m\n\u001b[1;32m     39\u001b[0m \u001b[38;5;28;01mfrom\u001b[39;00m \u001b[38;5;21;01mmodin\u001b[39;00m\u001b[38;5;21;01m.\u001b[39;00m\u001b[38;5;21;01mpandas\u001b[39;00m\u001b[38;5;21;01m.\u001b[39;00m\u001b[38;5;21;01mutils\u001b[39;00m \u001b[38;5;28;01mimport\u001b[39;00m cast_function_modin2pandas\n\u001b[1;32m     40\u001b[0m \u001b[38;5;28;01mfrom\u001b[39;00m \u001b[38;5;21;01mmodin\u001b[39;00m\u001b[38;5;21;01m.\u001b[39;00m\u001b[38;5;21;01mutils\u001b[39;00m \u001b[38;5;28;01mimport\u001b[39;00m (\n\u001b[1;32m     41\u001b[0m     MODIN_UNNAMED_SERIES_LABEL,\n\u001b[1;32m     42\u001b[0m     _inherit_docstrings,\n\u001b[0;32m   (...)\u001b[0m\n\u001b[1;32m     46\u001b[0m     wrap_udf_function,\n\u001b[1;32m     47\u001b[0m )\n\u001b[0;32m---> 49\u001b[0m \u001b[38;5;28;01mfrom\u001b[39;00m \u001b[38;5;21;01m.\u001b[39;00m\u001b[38;5;21;01mseries\u001b[39;00m \u001b[38;5;28;01mimport\u001b[39;00m Series\n\u001b[1;32m     50\u001b[0m \u001b[38;5;28;01mfrom\u001b[39;00m \u001b[38;5;21;01m.\u001b[39;00m\u001b[38;5;21;01mutils\u001b[39;00m \u001b[38;5;28;01mimport\u001b[39;00m is_label\n\u001b[1;32m     51\u001b[0m \u001b[38;5;28;01mfrom\u001b[39;00m \u001b[38;5;21;01m.\u001b[39;00m\u001b[38;5;21;01mwindow\u001b[39;00m \u001b[38;5;28;01mimport\u001b[39;00m RollingGroupby\n",
      "File \u001b[0;32m~/data_bench/.venv/lib/python3.10/site-packages/modin/pandas/series.py:41\u001b[0m\n\u001b[1;32m     39\u001b[0m \u001b[38;5;28;01mfrom\u001b[39;00m \u001b[38;5;21;01m.\u001b[39;00m\u001b[38;5;21;01mbase\u001b[39;00m \u001b[38;5;28;01mimport\u001b[39;00m _ATTRS_NO_LOOKUP, BasePandasDataset\n\u001b[1;32m     40\u001b[0m \u001b[38;5;28;01mfrom\u001b[39;00m \u001b[38;5;21;01m.\u001b[39;00m\u001b[38;5;21;01miterator\u001b[39;00m \u001b[38;5;28;01mimport\u001b[39;00m PartitionIterator\n\u001b[0;32m---> 41\u001b[0m \u001b[38;5;28;01mfrom\u001b[39;00m \u001b[38;5;21;01m.\u001b[39;00m\u001b[38;5;21;01mseries_utils\u001b[39;00m \u001b[38;5;28;01mimport\u001b[39;00m (\n\u001b[1;32m     42\u001b[0m     CategoryMethods,\n\u001b[1;32m     43\u001b[0m     DatetimeProperties,\n\u001b[1;32m     44\u001b[0m     ListAccessor,\n\u001b[1;32m     45\u001b[0m     StringMethods,\n\u001b[1;32m     46\u001b[0m     StructAccessor,\n\u001b[1;32m     47\u001b[0m )\n\u001b[1;32m     48\u001b[0m \u001b[38;5;28;01mfrom\u001b[39;00m \u001b[38;5;21;01m.\u001b[39;00m\u001b[38;5;21;01mutils\u001b[39;00m \u001b[38;5;28;01mimport\u001b[39;00m _doc_binary_op, cast_function_modin2pandas, is_scalar\n\u001b[1;32m     50\u001b[0m \u001b[38;5;28;01mif\u001b[39;00m TYPE_CHECKING:\n",
      "File \u001b[0;32m~/data_bench/.venv/lib/python3.10/site-packages/modin/pandas/series_utils.py:34\u001b[0m\n\u001b[1;32m     29\u001b[0m     \u001b[38;5;28;01mfrom\u001b[39;00m \u001b[38;5;21;01mdatetime\u001b[39;00m \u001b[38;5;28;01mimport\u001b[39;00m tzinfo\n\u001b[1;32m     31\u001b[0m     \u001b[38;5;28;01mfrom\u001b[39;00m \u001b[38;5;21;01mpandas\u001b[39;00m\u001b[38;5;21;01m.\u001b[39;00m\u001b[38;5;21;01m_typing\u001b[39;00m \u001b[38;5;28;01mimport\u001b[39;00m npt\n\u001b[0;32m---> 34\u001b[0m \u001b[38;5;129m@_inherit_docstrings\u001b[39m(\u001b[43mpandas\u001b[49m\u001b[38;5;241;43m.\u001b[39;49m\u001b[43mcore\u001b[49m\u001b[38;5;241;43m.\u001b[39;49m\u001b[43marrays\u001b[49m\u001b[38;5;241;43m.\u001b[39;49m\u001b[43marrow\u001b[49m\u001b[38;5;241;43m.\u001b[39;49m\u001b[43mListAccessor\u001b[49m)\n\u001b[1;32m     35\u001b[0m \u001b[38;5;28;01mclass\u001b[39;00m \u001b[38;5;21;01mListAccessor\u001b[39;00m(ClassLogger):\n\u001b[1;32m     36\u001b[0m     \u001b[38;5;28;01mdef\u001b[39;00m \u001b[38;5;21m__init__\u001b[39m(\u001b[38;5;28mself\u001b[39m, data\u001b[38;5;241m=\u001b[39m\u001b[38;5;28;01mNone\u001b[39;00m):\n\u001b[1;32m     37\u001b[0m         \u001b[38;5;28mself\u001b[39m\u001b[38;5;241m.\u001b[39m_series \u001b[38;5;241m=\u001b[39m data\n",
      "\u001b[0;31mAttributeError\u001b[0m: module 'pandas.core.arrays.arrow' has no attribute 'ListAccessor'"
     ]
    }
   ],
   "source": [
    "mdf = ray.data.read_parquet(\"s3://tmp-grachev/ray_data\", parallelism=200).to_modin()\n"
   ]
  },
  {
   "cell_type": "code",
   "execution_count": 6,
   "metadata": {},
   "outputs": [
    {
     "name": "stderr",
     "output_type": "stream",
     "text": [
      "/home/ubuntu/data_bench/.venv/lib/python3.10/site-packages/ray/data/datasource/parquet_datasource.py:242: FutureWarning: Passing 'use_legacy_dataset' is deprecated as of pyarrow 15.0.0 and will be removed in a future version.\n",
      "  pq_ds = pq.ParquetDataset(\n"
     ]
    },
    {
     "data": {
      "application/vnd.jupyter.widget-view+json": {
       "model_id": "0534d8c324a248cf98226435e7098aef",
       "version_major": 2,
       "version_minor": 0
      },
      "text/plain": [
       "Metadata Fetch Progress 0:   0%|          | 0/8 [00:00<?, ?it/s]"
      ]
     },
     "metadata": {},
     "output_type": "display_data"
    },
    {
     "data": {
      "application/vnd.jupyter.widget-view+json": {
       "model_id": "ce7c44aa095044edaeee8eba70fd2523",
       "version_major": 2,
       "version_minor": 0
      },
      "text/plain": [
       "Parquet Files Sample 0:   0%|          | 0/2 [00:00<?, ?it/s]"
      ]
     },
     "metadata": {},
     "output_type": "display_data"
    },
    {
     "data": {
      "application/vnd.jupyter.widget-view+json": {
       "model_id": "fbeba6e6d75b4b98b8d589eabecaeb4d",
       "version_major": 2,
       "version_minor": 0
      },
      "text/plain": [
       "Read progress 0:   0%|          | 0/50 [00:00<?, ?it/s]"
      ]
     },
     "metadata": {},
     "output_type": "display_data"
    },
    {
     "name": "stderr",
     "output_type": "stream",
     "text": [
      "\u001b[36m(_execute_read_task_split pid=167955)\u001b[0m /home/ubuntu/data_bench/.venv/lib/python3.10/site-packages/ray/data/_internal/arrow_block.py:148: FutureWarning: promote has been superseded by promote_options='default'.\n",
      "\u001b[36m(_execute_read_task_split pid=167955)\u001b[0m   return transform_pyarrow.concat(tables)\n"
     ]
    },
    {
     "name": "stderr",
     "output_type": "stream",
     "text": [
      "/home/ubuntu/data_bench/.venv/lib/python3.10/site-packages/ray/data/_internal/arrow_block.py:148: FutureWarning: promote has been superseded by promote_options='default'.\n",
      "  return transform_pyarrow.concat(tables)\n"
     ]
    }
   ],
   "source": [
    "df = ray.data.read_parquet(\"s3://tmp-grachev/ray_data\", parallelism=200).to_pandas()"
   ]
  },
  {
   "cell_type": "code",
   "execution_count": 7,
   "metadata": {},
   "outputs": [
    {
     "data": {
      "text/html": [
       "<div>\n",
       "<style scoped>\n",
       "    .dataframe tbody tr th:only-of-type {\n",
       "        vertical-align: middle;\n",
       "    }\n",
       "\n",
       "    .dataframe tbody tr th {\n",
       "        vertical-align: top;\n",
       "    }\n",
       "\n",
       "    .dataframe thead th {\n",
       "        text-align: right;\n",
       "    }\n",
       "</style>\n",
       "<table border=\"1\" class=\"dataframe\">\n",
       "  <thead>\n",
       "    <tr style=\"text-align: right;\">\n",
       "      <th></th>\n",
       "      <th>col_0</th>\n",
       "      <th>col_1</th>\n",
       "      <th>col_2</th>\n",
       "      <th>col_3</th>\n",
       "      <th>col_4</th>\n",
       "      <th>col_5</th>\n",
       "      <th>col_6</th>\n",
       "      <th>col_7</th>\n",
       "      <th>col_8</th>\n",
       "      <th>col_9</th>\n",
       "      <th>...</th>\n",
       "      <th>col_90</th>\n",
       "      <th>col_91</th>\n",
       "      <th>col_92</th>\n",
       "      <th>col_93</th>\n",
       "      <th>col_94</th>\n",
       "      <th>col_95</th>\n",
       "      <th>col_96</th>\n",
       "      <th>col_97</th>\n",
       "      <th>col_98</th>\n",
       "      <th>col_99</th>\n",
       "    </tr>\n",
       "  </thead>\n",
       "  <tbody>\n",
       "    <tr>\n",
       "      <th>0</th>\n",
       "      <td>0.386564</td>\n",
       "      <td>0.037189</td>\n",
       "      <td>0.103747</td>\n",
       "      <td>0.649410</td>\n",
       "      <td>0.543194</td>\n",
       "      <td>0.013514</td>\n",
       "      <td>0.119835</td>\n",
       "      <td>0.636049</td>\n",
       "      <td>0.684106</td>\n",
       "      <td>0.997669</td>\n",
       "      <td>...</td>\n",
       "      <td>0.039585</td>\n",
       "      <td>0.502783</td>\n",
       "      <td>0.942483</td>\n",
       "      <td>0.291894</td>\n",
       "      <td>0.277420</td>\n",
       "      <td>0.797425</td>\n",
       "      <td>0.442011</td>\n",
       "      <td>0.232308</td>\n",
       "      <td>0.337392</td>\n",
       "      <td>0.174772</td>\n",
       "    </tr>\n",
       "    <tr>\n",
       "      <th>1</th>\n",
       "      <td>0.721597</td>\n",
       "      <td>0.800121</td>\n",
       "      <td>0.977059</td>\n",
       "      <td>0.116276</td>\n",
       "      <td>0.388639</td>\n",
       "      <td>0.172668</td>\n",
       "      <td>0.444478</td>\n",
       "      <td>0.583666</td>\n",
       "      <td>0.996841</td>\n",
       "      <td>0.095962</td>\n",
       "      <td>...</td>\n",
       "      <td>0.651331</td>\n",
       "      <td>0.800334</td>\n",
       "      <td>0.315452</td>\n",
       "      <td>0.444526</td>\n",
       "      <td>0.709571</td>\n",
       "      <td>0.286040</td>\n",
       "      <td>0.767992</td>\n",
       "      <td>0.515792</td>\n",
       "      <td>0.491598</td>\n",
       "      <td>0.966194</td>\n",
       "    </tr>\n",
       "    <tr>\n",
       "      <th>2</th>\n",
       "      <td>0.909803</td>\n",
       "      <td>0.991480</td>\n",
       "      <td>0.601533</td>\n",
       "      <td>0.328780</td>\n",
       "      <td>0.106138</td>\n",
       "      <td>0.420672</td>\n",
       "      <td>0.672044</td>\n",
       "      <td>0.189016</td>\n",
       "      <td>0.240450</td>\n",
       "      <td>0.313591</td>\n",
       "      <td>...</td>\n",
       "      <td>0.696873</td>\n",
       "      <td>0.970991</td>\n",
       "      <td>0.017699</td>\n",
       "      <td>0.479805</td>\n",
       "      <td>0.711353</td>\n",
       "      <td>0.124919</td>\n",
       "      <td>0.629715</td>\n",
       "      <td>0.305991</td>\n",
       "      <td>0.297494</td>\n",
       "      <td>0.415377</td>\n",
       "    </tr>\n",
       "    <tr>\n",
       "      <th>3</th>\n",
       "      <td>0.868111</td>\n",
       "      <td>0.798296</td>\n",
       "      <td>0.987956</td>\n",
       "      <td>0.586703</td>\n",
       "      <td>0.792841</td>\n",
       "      <td>0.404659</td>\n",
       "      <td>0.372585</td>\n",
       "      <td>0.109812</td>\n",
       "      <td>0.407621</td>\n",
       "      <td>0.774927</td>\n",
       "      <td>...</td>\n",
       "      <td>0.664149</td>\n",
       "      <td>0.675434</td>\n",
       "      <td>0.609255</td>\n",
       "      <td>0.301734</td>\n",
       "      <td>0.810438</td>\n",
       "      <td>0.382494</td>\n",
       "      <td>0.341246</td>\n",
       "      <td>0.425805</td>\n",
       "      <td>0.164089</td>\n",
       "      <td>0.159744</td>\n",
       "    </tr>\n",
       "    <tr>\n",
       "      <th>4</th>\n",
       "      <td>0.013076</td>\n",
       "      <td>0.309112</td>\n",
       "      <td>0.029112</td>\n",
       "      <td>0.490290</td>\n",
       "      <td>0.196473</td>\n",
       "      <td>0.571203</td>\n",
       "      <td>0.191444</td>\n",
       "      <td>0.151468</td>\n",
       "      <td>0.304202</td>\n",
       "      <td>0.262249</td>\n",
       "      <td>...</td>\n",
       "      <td>0.428991</td>\n",
       "      <td>0.198052</td>\n",
       "      <td>0.362539</td>\n",
       "      <td>0.065917</td>\n",
       "      <td>0.368228</td>\n",
       "      <td>0.380391</td>\n",
       "      <td>0.648704</td>\n",
       "      <td>0.980832</td>\n",
       "      <td>0.959723</td>\n",
       "      <td>0.507959</td>\n",
       "    </tr>\n",
       "    <tr>\n",
       "      <th>...</th>\n",
       "      <td>...</td>\n",
       "      <td>...</td>\n",
       "      <td>...</td>\n",
       "      <td>...</td>\n",
       "      <td>...</td>\n",
       "      <td>...</td>\n",
       "      <td>...</td>\n",
       "      <td>...</td>\n",
       "      <td>...</td>\n",
       "      <td>...</td>\n",
       "      <td>...</td>\n",
       "      <td>...</td>\n",
       "      <td>...</td>\n",
       "      <td>...</td>\n",
       "      <td>...</td>\n",
       "      <td>...</td>\n",
       "      <td>...</td>\n",
       "      <td>...</td>\n",
       "      <td>...</td>\n",
       "      <td>...</td>\n",
       "      <td>...</td>\n",
       "    </tr>\n",
       "    <tr>\n",
       "      <th>52428795</th>\n",
       "      <td>0.519296</td>\n",
       "      <td>0.041870</td>\n",
       "      <td>0.868319</td>\n",
       "      <td>0.066900</td>\n",
       "      <td>0.881979</td>\n",
       "      <td>0.514932</td>\n",
       "      <td>0.578387</td>\n",
       "      <td>0.471461</td>\n",
       "      <td>0.789623</td>\n",
       "      <td>0.423119</td>\n",
       "      <td>...</td>\n",
       "      <td>0.944354</td>\n",
       "      <td>0.195729</td>\n",
       "      <td>0.192043</td>\n",
       "      <td>0.372888</td>\n",
       "      <td>0.566506</td>\n",
       "      <td>0.411394</td>\n",
       "      <td>0.410327</td>\n",
       "      <td>0.288946</td>\n",
       "      <td>0.420593</td>\n",
       "      <td>0.382087</td>\n",
       "    </tr>\n",
       "    <tr>\n",
       "      <th>52428796</th>\n",
       "      <td>0.629174</td>\n",
       "      <td>0.499363</td>\n",
       "      <td>0.749663</td>\n",
       "      <td>0.368591</td>\n",
       "      <td>0.666124</td>\n",
       "      <td>0.372253</td>\n",
       "      <td>0.871071</td>\n",
       "      <td>0.055318</td>\n",
       "      <td>0.628309</td>\n",
       "      <td>0.891988</td>\n",
       "      <td>...</td>\n",
       "      <td>0.386701</td>\n",
       "      <td>0.442850</td>\n",
       "      <td>0.434327</td>\n",
       "      <td>0.219369</td>\n",
       "      <td>0.376163</td>\n",
       "      <td>0.499172</td>\n",
       "      <td>0.948938</td>\n",
       "      <td>0.878806</td>\n",
       "      <td>0.133983</td>\n",
       "      <td>0.166538</td>\n",
       "    </tr>\n",
       "    <tr>\n",
       "      <th>52428797</th>\n",
       "      <td>0.145503</td>\n",
       "      <td>0.951907</td>\n",
       "      <td>0.788779</td>\n",
       "      <td>0.123008</td>\n",
       "      <td>0.496646</td>\n",
       "      <td>0.500587</td>\n",
       "      <td>0.781537</td>\n",
       "      <td>0.846153</td>\n",
       "      <td>0.531626</td>\n",
       "      <td>0.061818</td>\n",
       "      <td>...</td>\n",
       "      <td>0.626030</td>\n",
       "      <td>0.674083</td>\n",
       "      <td>0.657351</td>\n",
       "      <td>0.843369</td>\n",
       "      <td>0.859182</td>\n",
       "      <td>0.760846</td>\n",
       "      <td>0.281989</td>\n",
       "      <td>0.411677</td>\n",
       "      <td>0.397082</td>\n",
       "      <td>0.059767</td>\n",
       "    </tr>\n",
       "    <tr>\n",
       "      <th>52428798</th>\n",
       "      <td>0.348956</td>\n",
       "      <td>0.237753</td>\n",
       "      <td>0.673823</td>\n",
       "      <td>0.605706</td>\n",
       "      <td>0.492583</td>\n",
       "      <td>0.348414</td>\n",
       "      <td>0.281947</td>\n",
       "      <td>0.558276</td>\n",
       "      <td>0.731051</td>\n",
       "      <td>0.174177</td>\n",
       "      <td>...</td>\n",
       "      <td>0.063422</td>\n",
       "      <td>0.041465</td>\n",
       "      <td>0.234326</td>\n",
       "      <td>0.892903</td>\n",
       "      <td>0.866208</td>\n",
       "      <td>0.295052</td>\n",
       "      <td>0.149884</td>\n",
       "      <td>0.704210</td>\n",
       "      <td>0.758849</td>\n",
       "      <td>0.984669</td>\n",
       "    </tr>\n",
       "    <tr>\n",
       "      <th>52428799</th>\n",
       "      <td>0.065931</td>\n",
       "      <td>0.489520</td>\n",
       "      <td>0.578921</td>\n",
       "      <td>0.121089</td>\n",
       "      <td>0.700881</td>\n",
       "      <td>0.259969</td>\n",
       "      <td>0.918657</td>\n",
       "      <td>0.784167</td>\n",
       "      <td>0.270118</td>\n",
       "      <td>0.088625</td>\n",
       "      <td>...</td>\n",
       "      <td>0.344090</td>\n",
       "      <td>0.066996</td>\n",
       "      <td>0.428497</td>\n",
       "      <td>0.033183</td>\n",
       "      <td>0.470165</td>\n",
       "      <td>0.925328</td>\n",
       "      <td>0.651604</td>\n",
       "      <td>0.511456</td>\n",
       "      <td>0.608344</td>\n",
       "      <td>0.717700</td>\n",
       "    </tr>\n",
       "  </tbody>\n",
       "</table>\n",
       "<p>52428800 rows × 100 columns</p>\n",
       "</div>"
      ],
      "text/plain": [
       "             col_0     col_1     col_2     col_3     col_4     col_5  \\\n",
       "0         0.386564  0.037189  0.103747  0.649410  0.543194  0.013514   \n",
       "1         0.721597  0.800121  0.977059  0.116276  0.388639  0.172668   \n",
       "2         0.909803  0.991480  0.601533  0.328780  0.106138  0.420672   \n",
       "3         0.868111  0.798296  0.987956  0.586703  0.792841  0.404659   \n",
       "4         0.013076  0.309112  0.029112  0.490290  0.196473  0.571203   \n",
       "...            ...       ...       ...       ...       ...       ...   \n",
       "52428795  0.519296  0.041870  0.868319  0.066900  0.881979  0.514932   \n",
       "52428796  0.629174  0.499363  0.749663  0.368591  0.666124  0.372253   \n",
       "52428797  0.145503  0.951907  0.788779  0.123008  0.496646  0.500587   \n",
       "52428798  0.348956  0.237753  0.673823  0.605706  0.492583  0.348414   \n",
       "52428799  0.065931  0.489520  0.578921  0.121089  0.700881  0.259969   \n",
       "\n",
       "             col_6     col_7     col_8     col_9  ...    col_90    col_91  \\\n",
       "0         0.119835  0.636049  0.684106  0.997669  ...  0.039585  0.502783   \n",
       "1         0.444478  0.583666  0.996841  0.095962  ...  0.651331  0.800334   \n",
       "2         0.672044  0.189016  0.240450  0.313591  ...  0.696873  0.970991   \n",
       "3         0.372585  0.109812  0.407621  0.774927  ...  0.664149  0.675434   \n",
       "4         0.191444  0.151468  0.304202  0.262249  ...  0.428991  0.198052   \n",
       "...            ...       ...       ...       ...  ...       ...       ...   \n",
       "52428795  0.578387  0.471461  0.789623  0.423119  ...  0.944354  0.195729   \n",
       "52428796  0.871071  0.055318  0.628309  0.891988  ...  0.386701  0.442850   \n",
       "52428797  0.781537  0.846153  0.531626  0.061818  ...  0.626030  0.674083   \n",
       "52428798  0.281947  0.558276  0.731051  0.174177  ...  0.063422  0.041465   \n",
       "52428799  0.918657  0.784167  0.270118  0.088625  ...  0.344090  0.066996   \n",
       "\n",
       "            col_92    col_93    col_94    col_95    col_96    col_97  \\\n",
       "0         0.942483  0.291894  0.277420  0.797425  0.442011  0.232308   \n",
       "1         0.315452  0.444526  0.709571  0.286040  0.767992  0.515792   \n",
       "2         0.017699  0.479805  0.711353  0.124919  0.629715  0.305991   \n",
       "3         0.609255  0.301734  0.810438  0.382494  0.341246  0.425805   \n",
       "4         0.362539  0.065917  0.368228  0.380391  0.648704  0.980832   \n",
       "...            ...       ...       ...       ...       ...       ...   \n",
       "52428795  0.192043  0.372888  0.566506  0.411394  0.410327  0.288946   \n",
       "52428796  0.434327  0.219369  0.376163  0.499172  0.948938  0.878806   \n",
       "52428797  0.657351  0.843369  0.859182  0.760846  0.281989  0.411677   \n",
       "52428798  0.234326  0.892903  0.866208  0.295052  0.149884  0.704210   \n",
       "52428799  0.428497  0.033183  0.470165  0.925328  0.651604  0.511456   \n",
       "\n",
       "            col_98    col_99  \n",
       "0         0.337392  0.174772  \n",
       "1         0.491598  0.966194  \n",
       "2         0.297494  0.415377  \n",
       "3         0.164089  0.159744  \n",
       "4         0.959723  0.507959  \n",
       "...            ...       ...  \n",
       "52428795  0.420593  0.382087  \n",
       "52428796  0.133983  0.166538  \n",
       "52428797  0.397082  0.059767  \n",
       "52428798  0.758849  0.984669  \n",
       "52428799  0.608344  0.717700  \n",
       "\n",
       "[52428800 rows x 100 columns]"
      ]
     },
     "execution_count": 7,
     "metadata": {},
     "output_type": "execute_result"
    }
   ],
   "source": [
    "df"
   ]
  },
  {
   "cell_type": "code",
   "execution_count": null,
   "metadata": {},
   "outputs": [],
   "source": [
    "ray.data.from_pandas(df).write_parquet(\"s3://tmp-grachev/ray_data\")"
   ]
  },
  {
   "cell_type": "code",
   "execution_count": 6,
   "metadata": {},
   "outputs": [],
   "source": [
    "ddf = ds.to_dask()."
   ]
  },
  {
   "cell_type": "code",
   "execution_count": 7,
   "metadata": {},
   "outputs": [
    {
     "ename": "ValueError",
     "evalue": "Can only resample dataframes with known divisions\nSee https://docs.dask.org/en/latest/dataframe-design.html#partitions\nfor more information.",
     "output_type": "error",
     "traceback": [
      "\u001b[0;31m---------------------------------------------------------------------------\u001b[0m",
      "\u001b[0;31mValueError\u001b[0m                                Traceback (most recent call last)",
      "Cell \u001b[0;32mIn[7], line 1\u001b[0m\n\u001b[0;32m----> 1\u001b[0m \u001b[43mddf\u001b[49m\u001b[38;5;241;43m.\u001b[39;49m\u001b[43mresample\u001b[49m\u001b[43m(\u001b[49m\u001b[38;5;124;43m\"\u001b[39;49m\u001b[38;5;124;43m8H\u001b[39;49m\u001b[38;5;124;43m\"\u001b[39;49m\u001b[43m)\u001b[49m\n",
      "File \u001b[0;32m~/data_bench/.venv/lib/python3.10/site-packages/dask/dataframe/core.py:3809\u001b[0m, in \u001b[0;36m_Frame.resample\u001b[0;34m(self, rule, closed, label)\u001b[0m\n\u001b[1;32m   3805\u001b[0m \u001b[38;5;129m@derived_from\u001b[39m(pd\u001b[38;5;241m.\u001b[39mDataFrame)\n\u001b[1;32m   3806\u001b[0m \u001b[38;5;28;01mdef\u001b[39;00m \u001b[38;5;21mresample\u001b[39m(\u001b[38;5;28mself\u001b[39m, rule, closed\u001b[38;5;241m=\u001b[39m\u001b[38;5;28;01mNone\u001b[39;00m, label\u001b[38;5;241m=\u001b[39m\u001b[38;5;28;01mNone\u001b[39;00m):\n\u001b[1;32m   3807\u001b[0m     \u001b[38;5;28;01mfrom\u001b[39;00m \u001b[38;5;21;01mdask\u001b[39;00m\u001b[38;5;21;01m.\u001b[39;00m\u001b[38;5;21;01mdataframe\u001b[39;00m\u001b[38;5;21;01m.\u001b[39;00m\u001b[38;5;21;01mtseries\u001b[39;00m\u001b[38;5;21;01m.\u001b[39;00m\u001b[38;5;21;01mresample\u001b[39;00m \u001b[38;5;28;01mimport\u001b[39;00m Resampler\n\u001b[0;32m-> 3809\u001b[0m     \u001b[38;5;28;01mreturn\u001b[39;00m \u001b[43mResampler\u001b[49m\u001b[43m(\u001b[49m\u001b[38;5;28;43mself\u001b[39;49m\u001b[43m,\u001b[49m\u001b[43m \u001b[49m\u001b[43mrule\u001b[49m\u001b[43m,\u001b[49m\u001b[43m \u001b[49m\u001b[43mclosed\u001b[49m\u001b[38;5;241;43m=\u001b[39;49m\u001b[43mclosed\u001b[49m\u001b[43m,\u001b[49m\u001b[43m \u001b[49m\u001b[43mlabel\u001b[49m\u001b[38;5;241;43m=\u001b[39;49m\u001b[43mlabel\u001b[49m\u001b[43m)\u001b[49m\n",
      "File \u001b[0;32m~/data_bench/.venv/lib/python3.10/site-packages/dask/dataframe/tseries/resample.py:125\u001b[0m, in \u001b[0;36mResampler.__init__\u001b[0;34m(self, obj, rule, **kwargs)\u001b[0m\n\u001b[1;32m    119\u001b[0m \u001b[38;5;28;01mif\u001b[39;00m \u001b[38;5;129;01mnot\u001b[39;00m obj\u001b[38;5;241m.\u001b[39mknown_divisions:\n\u001b[1;32m    120\u001b[0m     msg \u001b[38;5;241m=\u001b[39m (\n\u001b[1;32m    121\u001b[0m         \u001b[38;5;124m\"\u001b[39m\u001b[38;5;124mCan only resample dataframes with known divisions\u001b[39m\u001b[38;5;130;01m\\n\u001b[39;00m\u001b[38;5;124m\"\u001b[39m\n\u001b[1;32m    122\u001b[0m         \u001b[38;5;124m\"\u001b[39m\u001b[38;5;124mSee https://docs.dask.org/en/latest/dataframe-design.html#partitions\u001b[39m\u001b[38;5;130;01m\\n\u001b[39;00m\u001b[38;5;124m\"\u001b[39m\n\u001b[1;32m    123\u001b[0m         \u001b[38;5;124m\"\u001b[39m\u001b[38;5;124mfor more information.\u001b[39m\u001b[38;5;124m\"\u001b[39m\n\u001b[1;32m    124\u001b[0m     )\n\u001b[0;32m--> 125\u001b[0m     \u001b[38;5;28;01mraise\u001b[39;00m \u001b[38;5;167;01mValueError\u001b[39;00m(msg)\n\u001b[1;32m    126\u001b[0m \u001b[38;5;28mself\u001b[39m\u001b[38;5;241m.\u001b[39mobj \u001b[38;5;241m=\u001b[39m obj\n\u001b[1;32m    127\u001b[0m \u001b[38;5;28mself\u001b[39m\u001b[38;5;241m.\u001b[39m_rule \u001b[38;5;241m=\u001b[39m pd\u001b[38;5;241m.\u001b[39mtseries\u001b[38;5;241m.\u001b[39mfrequencies\u001b[38;5;241m.\u001b[39mto_offset(rule)\n",
      "\u001b[0;31mValueError\u001b[0m: Can only resample dataframes with known divisions\nSee https://docs.dask.org/en/latest/dataframe-design.html#partitions\nfor more information."
     ]
    }
   ],
   "source": [
    "ddf.resample(\"8H\")"
   ]
  },
  {
   "cell_type": "code",
   "execution_count": 16,
   "metadata": {},
   "outputs": [
    {
     "data": {
      "text/plain": [
       "PosixPath('s3:/tmp-grachev/bench')"
      ]
     },
     "execution_count": 16,
     "metadata": {},
     "output_type": "execute_result"
    }
   ],
   "source": [
    "\n",
    "Path(f\"s3://tmp-grachev/bench/\")"
   ]
  },
  {
   "cell_type": "code",
   "execution_count": 1,
   "metadata": {},
   "outputs": [],
   "source": [
    "import ray\n",
    "import random\n",
    "\n",
    "\n"
   ]
  },
  {
   "cell_type": "code",
   "execution_count": 13,
   "metadata": {},
   "outputs": [
    {
     "data": {
      "text/html": [
       "<div>\n",
       "<style scoped>\n",
       "    .dataframe tbody tr th:only-of-type {\n",
       "        vertical-align: middle;\n",
       "    }\n",
       "\n",
       "    .dataframe tbody tr th {\n",
       "        vertical-align: top;\n",
       "    }\n",
       "\n",
       "    .dataframe thead th {\n",
       "        text-align: right;\n",
       "    }\n",
       "</style>\n",
       "<table border=\"1\" class=\"dataframe\">\n",
       "  <thead>\n",
       "    <tr style=\"text-align: right;\">\n",
       "      <th></th>\n",
       "      <th>data</th>\n",
       "    </tr>\n",
       "  </thead>\n",
       "  <tbody>\n",
       "    <tr>\n",
       "      <th>0</th>\n",
       "      <td>[0]</td>\n",
       "    </tr>\n",
       "    <tr>\n",
       "      <th>1</th>\n",
       "      <td>[1]</td>\n",
       "    </tr>\n",
       "    <tr>\n",
       "      <th>2</th>\n",
       "      <td>[2]</td>\n",
       "    </tr>\n",
       "    <tr>\n",
       "      <th>3</th>\n",
       "      <td>[3]</td>\n",
       "    </tr>\n",
       "    <tr>\n",
       "      <th>4</th>\n",
       "      <td>[4]</td>\n",
       "    </tr>\n",
       "    <tr>\n",
       "      <th>...</th>\n",
       "      <td>...</td>\n",
       "    </tr>\n",
       "    <tr>\n",
       "      <th>995</th>\n",
       "      <td>[995]</td>\n",
       "    </tr>\n",
       "    <tr>\n",
       "      <th>996</th>\n",
       "      <td>[996]</td>\n",
       "    </tr>\n",
       "    <tr>\n",
       "      <th>997</th>\n",
       "      <td>[997]</td>\n",
       "    </tr>\n",
       "    <tr>\n",
       "      <th>998</th>\n",
       "      <td>[998]</td>\n",
       "    </tr>\n",
       "    <tr>\n",
       "      <th>999</th>\n",
       "      <td>[999]</td>\n",
       "    </tr>\n",
       "  </tbody>\n",
       "</table>\n",
       "<p>1000 rows × 1 columns</p>\n",
       "</div>"
      ],
      "text/plain": [
       "      data\n",
       "0      [0]\n",
       "1      [1]\n",
       "2      [2]\n",
       "3      [3]\n",
       "4      [4]\n",
       "..     ...\n",
       "995  [995]\n",
       "996  [996]\n",
       "997  [997]\n",
       "998  [998]\n",
       "999  [999]\n",
       "\n",
       "[1000 rows x 1 columns]"
      ]
     },
     "execution_count": 13,
     "metadata": {},
     "output_type": "execute_result"
    }
   ],
   "source": [
    "ray.data.range_tensor(1000, shape=(1,)).to_pandas()"
   ]
  },
  {
   "cell_type": "code",
   "execution_count": null,
   "metadata": {},
   "outputs": [],
   "source": []
  },
  {
   "cell_type": "code",
   "execution_count": 14,
   "metadata": {},
   "outputs": [],
   "source": [
    "ds1 = ray.data.range(2000)\n",
    "\n",
    "ds2 = ray.data.range(3000)\n",
    "\n",
    "ds = ds1.union(ds2)"
   ]
  },
  {
   "cell_type": "code",
   "execution_count": 17,
   "metadata": {},
   "outputs": [
    {
     "name": "stderr",
     "output_type": "stream",
     "text": [
      "2024-03-08 22:23:13,566\tINFO set_read_parallelism.py:115 -- Using autodetected parallelism=200 for stage ReadRange to satisfy DataContext.get_current().min_parallelism=200.\n",
      "2024-03-08 22:23:13,567\tINFO streaming_executor.py:112 -- Executing DAG InputDataBuffer[Input] -> TaskPoolMapOperator[ReadRange] -> AllToAllOperator[Repartition] -> TaskPoolMapOperator[Map(create_row)]\n",
      "2024-03-08 22:23:13,567\tINFO streaming_executor.py:113 -- Execution config: ExecutionOptions(resource_limits=ExecutionResources(cpu=None, gpu=None, object_store_memory=None), exclude_resources=ExecutionResources(cpu=0, gpu=0, object_store_memory=0), locality_with_output=False, preserve_order=False, actor_locality_enabled=True, verbose_progress=True)\n"
     ]
    }
   ],
   "source": [
    "data = {f\"col_{i}\": random.random() for i in range(100)}\n",
    "def create_row(row):\n",
    "    row.update(data)\n",
    "    return row\n",
    "ds = ray.data.range(50*1024**2).repartition(200).map(create_row).materialize()\n",
    "ds\n"
   ]
  },
  {
   "cell_type": "code",
   "execution_count": null,
   "metadata": {},
   "outputs": [
    {
     "name": "stderr",
     "output_type": "stream",
     "text": [
      "2024-03-08 21:51:11,046\tINFO worker.py:1715 -- Started a local Ray instance. View the dashboard at \u001b[1m\u001b[32m127.0.0.1:8265 \u001b[39m\u001b[22m\n"
     ]
    },
    {
     "ename": "ImportError",
     "evalue": "cannot import name 'ExtensionArrayFormatter' from 'pandas.io.formats.format' (/home/ubuntu/data_bench/.venv/lib/python3.10/site-packages/pandas/io/formats/format.py)",
     "output_type": "error",
     "traceback": [
      "\u001b[0;31m---------------------------------------------------------------------------\u001b[0m",
      "\u001b[0;31mImportError\u001b[0m                               Traceback (most recent call last)",
      "Cell \u001b[0;32mIn[3], line 2\u001b[0m\n\u001b[1;32m      1\u001b[0m data \u001b[38;5;241m=\u001b[39m [{\u001b[38;5;124mf\u001b[39m\u001b[38;5;124m\"\u001b[39m\u001b[38;5;124mcol_\u001b[39m\u001b[38;5;132;01m{\u001b[39;00mj\u001b[38;5;132;01m}\u001b[39;00m\u001b[38;5;124m\"\u001b[39m: random\u001b[38;5;241m.\u001b[39mrandom() \u001b[38;5;28;01mfor\u001b[39;00m j \u001b[38;5;129;01min\u001b[39;00m \u001b[38;5;28mrange\u001b[39m(\u001b[38;5;241m100\u001b[39m)} \u001b[38;5;28;01mfor\u001b[39;00m i \u001b[38;5;129;01min\u001b[39;00m \u001b[38;5;28mrange\u001b[39m(\u001b[38;5;241m100\u001b[39m)]\n\u001b[0;32m----> 2\u001b[0m ds \u001b[38;5;241m=\u001b[39m \u001b[43mray\u001b[49m\u001b[38;5;241;43m.\u001b[39;49m\u001b[43mdata\u001b[49m\u001b[38;5;241;43m.\u001b[39;49m\u001b[43mfrom_items\u001b[49m\u001b[43m(\u001b[49m\u001b[43mdata\u001b[49m\u001b[43m)\u001b[49m\n",
      "File \u001b[0;32m~/data_bench/.venv/lib/python3.10/site-packages/ray/data/read_api.py:169\u001b[0m, in \u001b[0;36mfrom_items\u001b[0;34m(items, parallelism)\u001b[0m\n\u001b[1;32m    167\u001b[0m     \u001b[38;5;28;01mif\u001b[39;00m \u001b[38;5;129;01mnot\u001b[39;00m \u001b[38;5;28misinstance\u001b[39m(item, collections\u001b[38;5;241m.\u001b[39mabc\u001b[38;5;241m.\u001b[39mMapping):\n\u001b[1;32m    168\u001b[0m         item \u001b[38;5;241m=\u001b[39m {\u001b[38;5;124m\"\u001b[39m\u001b[38;5;124mitem\u001b[39m\u001b[38;5;124m\"\u001b[39m: item}\n\u001b[0;32m--> 169\u001b[0m     \u001b[43mbuilder\u001b[49m\u001b[38;5;241;43m.\u001b[39;49m\u001b[43madd\u001b[49m\u001b[43m(\u001b[49m\u001b[43mitem\u001b[49m\u001b[43m)\u001b[49m\n\u001b[1;32m    170\u001b[0m block \u001b[38;5;241m=\u001b[39m builder\u001b[38;5;241m.\u001b[39mbuild()\n\u001b[1;32m    171\u001b[0m blocks\u001b[38;5;241m.\u001b[39mappend(ray\u001b[38;5;241m.\u001b[39mput(block))\n",
      "File \u001b[0;32m~/data_bench/.venv/lib/python3.10/site-packages/ray/data/_internal/delegating_block_builder.py:24\u001b[0m, in \u001b[0;36mDelegatingBlockBuilder.add\u001b[0;34m(self, item)\u001b[0m\n\u001b[1;32m     22\u001b[0m     check \u001b[38;5;241m=\u001b[39m ArrowBlockBuilder()\n\u001b[1;32m     23\u001b[0m     check\u001b[38;5;241m.\u001b[39madd(item)\n\u001b[0;32m---> 24\u001b[0m     \u001b[43mcheck\u001b[49m\u001b[38;5;241;43m.\u001b[39;49m\u001b[43mbuild\u001b[49m\u001b[43m(\u001b[49m\u001b[43m)\u001b[49m\n\u001b[1;32m     25\u001b[0m     \u001b[38;5;28mself\u001b[39m\u001b[38;5;241m.\u001b[39m_builder \u001b[38;5;241m=\u001b[39m ArrowBlockBuilder()\n\u001b[1;32m     26\u001b[0m \u001b[38;5;28;01mexcept\u001b[39;00m (\u001b[38;5;167;01mTypeError\u001b[39;00m, pyarrow\u001b[38;5;241m.\u001b[39mlib\u001b[38;5;241m.\u001b[39mArrowInvalid):\n\u001b[1;32m     27\u001b[0m     \u001b[38;5;66;03m# Can also handle nested Python objects, which Arrow cannot.\u001b[39;00m\n",
      "File \u001b[0;32m~/data_bench/.venv/lib/python3.10/site-packages/ray/data/_internal/table_block.py:123\u001b[0m, in \u001b[0;36mTableBlockBuilder.build\u001b[0;34m(self)\u001b[0m\n\u001b[1;32m    121\u001b[0m tables\u001b[38;5;241m.\u001b[39mextend(\u001b[38;5;28mself\u001b[39m\u001b[38;5;241m.\u001b[39m_tables)\n\u001b[1;32m    122\u001b[0m \u001b[38;5;28;01mif\u001b[39;00m \u001b[38;5;28mlen\u001b[39m(tables) \u001b[38;5;241m>\u001b[39m \u001b[38;5;241m0\u001b[39m:\n\u001b[0;32m--> 123\u001b[0m     \u001b[38;5;28;01mreturn\u001b[39;00m \u001b[38;5;28;43mself\u001b[39;49m\u001b[38;5;241;43m.\u001b[39;49m\u001b[43m_concat_tables\u001b[49m\u001b[43m(\u001b[49m\u001b[43mtables\u001b[49m\u001b[43m)\u001b[49m\n\u001b[1;32m    124\u001b[0m \u001b[38;5;28;01melse\u001b[39;00m:\n\u001b[1;32m    125\u001b[0m     \u001b[38;5;28;01mreturn\u001b[39;00m \u001b[38;5;28mself\u001b[39m\u001b[38;5;241m.\u001b[39m_empty_table()\n",
      "File \u001b[0;32m~/data_bench/.venv/lib/python3.10/site-packages/ray/data/_internal/arrow_block.py:148\u001b[0m, in \u001b[0;36mArrowBlockBuilder._concat_tables\u001b[0;34m(tables)\u001b[0m\n\u001b[1;32m    146\u001b[0m \u001b[38;5;129m@staticmethod\u001b[39m\n\u001b[1;32m    147\u001b[0m \u001b[38;5;28;01mdef\u001b[39;00m \u001b[38;5;21m_concat_tables\u001b[39m(tables: List[Block]) \u001b[38;5;241m-\u001b[39m\u001b[38;5;241m>\u001b[39m Block:\n\u001b[0;32m--> 148\u001b[0m     \u001b[38;5;28;01mreturn\u001b[39;00m \u001b[43mtransform_pyarrow\u001b[49m\u001b[38;5;241;43m.\u001b[39;49m\u001b[43mconcat\u001b[49m\u001b[43m(\u001b[49m\u001b[43mtables\u001b[49m\u001b[43m)\u001b[49m\n",
      "File \u001b[0;32m~/data_bench/.venv/lib/python3.10/site-packages/ray/data/_internal/arrow_ops/transform_pyarrow.py:155\u001b[0m, in \u001b[0;36mconcat\u001b[0;34m(blocks)\u001b[0m\n\u001b[1;32m    150\u001b[0m \u001b[38;5;250m\u001b[39m\u001b[38;5;124;03m\"\"\"Concatenate provided Arrow Tables into a single Arrow Table. This has special\u001b[39;00m\n\u001b[1;32m    151\u001b[0m \u001b[38;5;124;03mhandling for extension types that pyarrow.concat_tables does not yet support.\u001b[39;00m\n\u001b[1;32m    152\u001b[0m \u001b[38;5;124;03m\"\"\"\u001b[39;00m\n\u001b[1;32m    153\u001b[0m \u001b[38;5;28;01mimport\u001b[39;00m \u001b[38;5;21;01mpyarrow\u001b[39;00m \u001b[38;5;28;01mas\u001b[39;00m \u001b[38;5;21;01mpa\u001b[39;00m\n\u001b[0;32m--> 155\u001b[0m \u001b[38;5;28;01mfrom\u001b[39;00m \u001b[38;5;21;01mray\u001b[39;00m\u001b[38;5;21;01m.\u001b[39;00m\u001b[38;5;21;01mdata\u001b[39;00m\u001b[38;5;21;01m.\u001b[39;00m\u001b[38;5;21;01mextensions\u001b[39;00m \u001b[38;5;28;01mimport\u001b[39;00m (\n\u001b[1;32m    156\u001b[0m     ArrowTensorArray,\n\u001b[1;32m    157\u001b[0m     ArrowTensorType,\n\u001b[1;32m    158\u001b[0m     ArrowVariableShapedTensorType,\n\u001b[1;32m    159\u001b[0m )\n\u001b[1;32m    161\u001b[0m \u001b[38;5;28;01mif\u001b[39;00m \u001b[38;5;129;01mnot\u001b[39;00m blocks:\n\u001b[1;32m    162\u001b[0m     \u001b[38;5;66;03m# Short-circuit on empty list of blocks.\u001b[39;00m\n\u001b[1;32m    163\u001b[0m     \u001b[38;5;28;01mreturn\u001b[39;00m blocks\n",
      "File \u001b[0;32m~/data_bench/.venv/lib/python3.10/site-packages/ray/data/extensions/__init__.py:1\u001b[0m\n\u001b[0;32m----> 1\u001b[0m \u001b[38;5;28;01mfrom\u001b[39;00m \u001b[38;5;21;01mray\u001b[39;00m\u001b[38;5;21;01m.\u001b[39;00m\u001b[38;5;21;01mdata\u001b[39;00m\u001b[38;5;21;01m.\u001b[39;00m\u001b[38;5;21;01mextensions\u001b[39;00m\u001b[38;5;21;01m.\u001b[39;00m\u001b[38;5;21;01mtensor_extension\u001b[39;00m \u001b[38;5;28;01mimport\u001b[39;00m (\n\u001b[1;32m      2\u001b[0m     ArrowTensorArray,\n\u001b[1;32m      3\u001b[0m     ArrowTensorType,\n\u001b[1;32m      4\u001b[0m     ArrowVariableShapedTensorArray,\n\u001b[1;32m      5\u001b[0m     ArrowVariableShapedTensorType,\n\u001b[1;32m      6\u001b[0m     TensorArray,\n\u001b[1;32m      7\u001b[0m     TensorArrayElement,\n\u001b[1;32m      8\u001b[0m     TensorDtype,\n\u001b[1;32m      9\u001b[0m     column_needs_tensor_extension,\n\u001b[1;32m     10\u001b[0m )\n\u001b[1;32m     12\u001b[0m __all__ \u001b[38;5;241m=\u001b[39m [\n\u001b[1;32m     13\u001b[0m     \u001b[38;5;66;03m# Tensor array extension.\u001b[39;00m\n\u001b[1;32m     14\u001b[0m     \u001b[38;5;124m\"\u001b[39m\u001b[38;5;124mTensorDtype\u001b[39m\u001b[38;5;124m\"\u001b[39m,\n\u001b[0;32m   (...)\u001b[0m\n\u001b[1;32m     21\u001b[0m     \u001b[38;5;124m\"\u001b[39m\u001b[38;5;124mcolumn_needs_tensor_extension\u001b[39m\u001b[38;5;124m\"\u001b[39m,\n\u001b[1;32m     22\u001b[0m ]\n",
      "File \u001b[0;32m~/data_bench/.venv/lib/python3.10/site-packages/ray/data/extensions/tensor_extension.py:7\u001b[0m\n\u001b[1;32m      1\u001b[0m \u001b[38;5;28;01mfrom\u001b[39;00m \u001b[38;5;21;01mray\u001b[39;00m\u001b[38;5;21;01m.\u001b[39;00m\u001b[38;5;21;01mair\u001b[39;00m\u001b[38;5;21;01m.\u001b[39;00m\u001b[38;5;21;01mutil\u001b[39;00m\u001b[38;5;21;01m.\u001b[39;00m\u001b[38;5;21;01mtensor_extensions\u001b[39;00m\u001b[38;5;21;01m.\u001b[39;00m\u001b[38;5;21;01marrow\u001b[39;00m \u001b[38;5;28;01mimport\u001b[39;00m (  \u001b[38;5;66;03m# noqa: F401\u001b[39;00m\n\u001b[1;32m      2\u001b[0m     ArrowTensorArray,\n\u001b[1;32m      3\u001b[0m     ArrowTensorType,\n\u001b[1;32m      4\u001b[0m     ArrowVariableShapedTensorArray,\n\u001b[1;32m      5\u001b[0m     ArrowVariableShapedTensorType,\n\u001b[1;32m      6\u001b[0m )\n\u001b[0;32m----> 7\u001b[0m \u001b[38;5;28;01mfrom\u001b[39;00m \u001b[38;5;21;01mray\u001b[39;00m\u001b[38;5;21;01m.\u001b[39;00m\u001b[38;5;21;01mair\u001b[39;00m\u001b[38;5;21;01m.\u001b[39;00m\u001b[38;5;21;01mutil\u001b[39;00m\u001b[38;5;21;01m.\u001b[39;00m\u001b[38;5;21;01mtensor_extensions\u001b[39;00m\u001b[38;5;21;01m.\u001b[39;00m\u001b[38;5;21;01mpandas\u001b[39;00m \u001b[38;5;28;01mimport\u001b[39;00m (  \u001b[38;5;66;03m# noqa: F401\u001b[39;00m\n\u001b[1;32m      8\u001b[0m     TensorArray,\n\u001b[1;32m      9\u001b[0m     TensorArrayElement,\n\u001b[1;32m     10\u001b[0m     TensorDtype,\n\u001b[1;32m     11\u001b[0m     column_needs_tensor_extension,\n\u001b[1;32m     12\u001b[0m )\n\u001b[1;32m     13\u001b[0m \u001b[38;5;28;01mfrom\u001b[39;00m \u001b[38;5;21;01mray\u001b[39;00m\u001b[38;5;21;01m.\u001b[39;00m\u001b[38;5;21;01mair\u001b[39;00m\u001b[38;5;21;01m.\u001b[39;00m\u001b[38;5;21;01mutil\u001b[39;00m\u001b[38;5;21;01m.\u001b[39;00m\u001b[38;5;21;01mtensor_extensions\u001b[39;00m\u001b[38;5;21;01m.\u001b[39;00m\u001b[38;5;21;01mutils\u001b[39;00m \u001b[38;5;28;01mimport\u001b[39;00m create_ragged_ndarray  \u001b[38;5;66;03m# noqa: F401\u001b[39;00m\n",
      "File \u001b[0;32m~/data_bench/.venv/lib/python3.10/site-packages/ray/air/util/tensor_extensions/pandas.py:45\u001b[0m\n\u001b[1;32m     43\u001b[0m \u001b[38;5;28;01mfrom\u001b[39;00m \u001b[38;5;21;01mpandas\u001b[39;00m\u001b[38;5;21;01m.\u001b[39;00m\u001b[38;5;21;01mcore\u001b[39;00m\u001b[38;5;21;01m.\u001b[39;00m\u001b[38;5;21;01mdtypes\u001b[39;00m\u001b[38;5;21;01m.\u001b[39;00m\u001b[38;5;21;01mgeneric\u001b[39;00m \u001b[38;5;28;01mimport\u001b[39;00m ABCDataFrame, ABCSeries\n\u001b[1;32m     44\u001b[0m \u001b[38;5;28;01mfrom\u001b[39;00m \u001b[38;5;21;01mpandas\u001b[39;00m\u001b[38;5;21;01m.\u001b[39;00m\u001b[38;5;21;01mcore\u001b[39;00m\u001b[38;5;21;01m.\u001b[39;00m\u001b[38;5;21;01mindexers\u001b[39;00m \u001b[38;5;28;01mimport\u001b[39;00m check_array_indexer, validate_indices\n\u001b[0;32m---> 45\u001b[0m \u001b[38;5;28;01mfrom\u001b[39;00m \u001b[38;5;21;01mpandas\u001b[39;00m\u001b[38;5;21;01m.\u001b[39;00m\u001b[38;5;21;01mio\u001b[39;00m\u001b[38;5;21;01m.\u001b[39;00m\u001b[38;5;21;01mformats\u001b[39;00m\u001b[38;5;21;01m.\u001b[39;00m\u001b[38;5;21;01mformat\u001b[39;00m \u001b[38;5;28;01mimport\u001b[39;00m ExtensionArrayFormatter\n\u001b[1;32m     47\u001b[0m \u001b[38;5;28;01mfrom\u001b[39;00m \u001b[38;5;21;01mray\u001b[39;00m\u001b[38;5;21;01m.\u001b[39;00m\u001b[38;5;21;01mair\u001b[39;00m\u001b[38;5;21;01m.\u001b[39;00m\u001b[38;5;21;01mutil\u001b[39;00m\u001b[38;5;21;01m.\u001b[39;00m\u001b[38;5;21;01mtensor_extensions\u001b[39;00m\u001b[38;5;21;01m.\u001b[39;00m\u001b[38;5;21;01mutils\u001b[39;00m \u001b[38;5;28;01mimport\u001b[39;00m (\n\u001b[1;32m     48\u001b[0m     _create_possibly_ragged_ndarray,\n\u001b[1;32m     49\u001b[0m     _is_ndarray_variable_shaped_tensor,\n\u001b[1;32m     50\u001b[0m )\n\u001b[1;32m     51\u001b[0m \u001b[38;5;28;01mfrom\u001b[39;00m \u001b[38;5;21;01mray\u001b[39;00m\u001b[38;5;21;01m.\u001b[39;00m\u001b[38;5;21;01mutil\u001b[39;00m\u001b[38;5;21;01m.\u001b[39;00m\u001b[38;5;21;01mannotations\u001b[39;00m \u001b[38;5;28;01mimport\u001b[39;00m PublicAPI\n",
      "\u001b[0;31mImportError\u001b[0m: cannot import name 'ExtensionArrayFormatter' from 'pandas.io.formats.format' (/home/ubuntu/data_bench/.venv/lib/python3.10/site-packages/pandas/io/formats/format.py)"
     ]
    }
   ],
   "source": [
    "ds.to_parquet(\"s3://tmp-grachev/ray_data\")"
   ]
  },
  {
   "cell_type": "code",
   "execution_count": 16,
   "metadata": {},
   "outputs": [
    {
     "name": "stderr",
     "output_type": "stream",
     "text": [
      "2024-07-12 16:24:18,944 - botocore.credentials - INFO - Found credentials in shared credentials file: ~/.aws/credentials\n"
     ]
    },
    {
     "name": "stdout",
     "output_type": "stream",
     "text": [
      "Launched instance with ID: i-0ecc3cdb93d1207a4\n"
     ]
    }
   ],
   "source": [
    "from concurrent.futures import ThreadPoolExecutor\n",
    "from contextlib import suppress\n",
    "import socket\n",
    "import time\n",
    "import boto3\n",
    "import logging\n",
    "\n",
    "logger = logging.getLogger(__name__)\n",
    "logging.basicConfig(level=logging.INFO, format='%(asctime)s - %(name)s - %(levelname)s - %(message)s')\n",
    "session = boto3.Session(profile_name=\"abml\")\n",
    "\n",
    "# Create an EC2 client\n",
    "client = session.client('ec2')\n",
    "\n",
    "# Define the EC2 instance parameters\n",
    "instance_params = {\n",
    "  \"MaxCount\": 1,\n",
    "  \"MinCount\": 1,\n",
    "  \"ImageId\": \"ami-0162fe8bfebb6ea16\",\n",
    "  \"InstanceType\": \"r5.4xlarge\",\n",
    "  \"KeyName\": \"grachev_ab_aws_key\",\n",
    "  \"EbsOptimized\": True,\n",
    "  \"BlockDeviceMappings\": [\n",
    "    {\n",
    "      \"DeviceName\": \"/dev/sda1\",\n",
    "      \"Ebs\": {\n",
    "        \"Encrypted\": False,\n",
    "        \"DeleteOnTermination\": True,\n",
    "        \"SnapshotId\": \"snap-0775ec319a68a6fcb\",\n",
    "        \"VolumeSize\": 100,\n",
    "        \"VolumeType\": \"gp3\"\n",
    "      }\n",
    "    }\n",
    "  ],\n",
    "  \"NetworkInterfaces\": [\n",
    "    {\n",
    "      \"SubnetId\": \"subnet-0e8b8c23ddb1ada49\",\n",
    "      \"AssociatePublicIpAddress\": True,\n",
    "      \"DeviceIndex\": 0,\n",
    "      \"Groups\": [\n",
    "        \"sg-0004eeb822745ac47\"\n",
    "      ]\n",
    "    }\n",
    "  ],\n",
    "  \"PrivateDnsNameOptions\": {\n",
    "    \"HostnameType\": \"ip-name\",\n",
    "    \"EnableResourceNameDnsARecord\": False,\n",
    "    \"EnableResourceNameDnsAAAARecord\": False\n",
    "  }\n",
    "}\n",
    "start = time.time()\n",
    "# Launch the EC2 instance\n",
    "response = client.run_instances(**instance_params)\n",
    "instance_id = response['Instances'][0]['InstanceId']\n",
    "print(f'Launched instance with ID: {instance_id}')\n",
    "\n"
   ]
  },
  {
   "cell_type": "code",
   "execution_count": 11,
   "metadata": {},
   "outputs": [
    {
     "data": {
      "text/plain": [
       "{'AmiLaunchIndex': 0,\n",
       " 'ImageId': 'ami-0162fe8bfebb6ea16',\n",
       " 'InstanceId': 'i-07631f2bd336f6537',\n",
       " 'InstanceType': 'r5.4xlarge',\n",
       " 'KeyName': 'grachev_ab_aws_key',\n",
       " 'LaunchTime': datetime.datetime(2024, 7, 12, 15, 16, 8, tzinfo=tzlocal()),\n",
       " 'Monitoring': {'State': 'disabled'},\n",
       " 'Placement': {'AvailabilityZone': 'ap-northeast-1b',\n",
       "  'GroupName': '',\n",
       "  'Tenancy': 'default'},\n",
       " 'PrivateDnsName': 'ip-10-17-79-226.ap-northeast-1.compute.internal',\n",
       " 'PrivateIpAddress': '10.17.79.226',\n",
       " 'ProductCodes': [],\n",
       " 'PublicDnsName': '',\n",
       " 'State': {'Code': 0, 'Name': 'pending'},\n",
       " 'StateTransitionReason': '',\n",
       " 'SubnetId': 'subnet-0e8b8c23ddb1ada49',\n",
       " 'VpcId': 'vpc-042628b8054e095ef',\n",
       " 'Architecture': 'x86_64',\n",
       " 'BlockDeviceMappings': [],\n",
       " 'ClientToken': '7e443145-f628-41b2-a9b0-a1177c049d37',\n",
       " 'EbsOptimized': False,\n",
       " 'EnaSupport': True,\n",
       " 'Hypervisor': 'xen',\n",
       " 'InstanceLifecycle': 'spot',\n",
       " 'NetworkInterfaces': [{'Attachment': {'AttachTime': datetime.datetime(2024, 7, 12, 15, 16, 8, tzinfo=tzlocal()),\n",
       "    'AttachmentId': 'eni-attach-024b486a5c57023b8',\n",
       "    'DeleteOnTermination': True,\n",
       "    'DeviceIndex': 0,\n",
       "    'Status': 'attaching',\n",
       "    'NetworkCardIndex': 0},\n",
       "   'Description': '',\n",
       "   'Groups': [{'GroupName': 'default', 'GroupId': 'sg-0004eeb822745ac47'}],\n",
       "   'Ipv6Addresses': [],\n",
       "   'MacAddress': '06:cb:37:6a:af:eb',\n",
       "   'NetworkInterfaceId': 'eni-0ee29c6c83a22ba3d',\n",
       "   'OwnerId': '185298664982',\n",
       "   'PrivateDnsName': 'ip-10-17-79-226.ap-northeast-1.compute.internal',\n",
       "   'PrivateIpAddress': '10.17.79.226',\n",
       "   'PrivateIpAddresses': [{'Primary': True,\n",
       "     'PrivateDnsName': 'ip-10-17-79-226.ap-northeast-1.compute.internal',\n",
       "     'PrivateIpAddress': '10.17.79.226'}],\n",
       "   'SourceDestCheck': True,\n",
       "   'Status': 'in-use',\n",
       "   'SubnetId': 'subnet-0e8b8c23ddb1ada49',\n",
       "   'VpcId': 'vpc-042628b8054e095ef',\n",
       "   'InterfaceType': 'interface'}],\n",
       " 'RootDeviceName': '/dev/sda1',\n",
       " 'RootDeviceType': 'ebs',\n",
       " 'SecurityGroups': [{'GroupName': 'default',\n",
       "   'GroupId': 'sg-0004eeb822745ac47'}],\n",
       " 'SourceDestCheck': True,\n",
       " 'SpotInstanceRequestId': 'sir-g59prewm',\n",
       " 'VirtualizationType': 'hvm',\n",
       " 'CpuOptions': {'CoreCount': 8, 'ThreadsPerCore': 2},\n",
       " 'CapacityReservationSpecification': {'CapacityReservationPreference': 'open'},\n",
       " 'HibernationOptions': {'Configured': False},\n",
       " 'MetadataOptions': {'State': 'pending',\n",
       "  'HttpTokens': 'required',\n",
       "  'HttpPutResponseHopLimit': 2,\n",
       "  'HttpEndpoint': 'enabled',\n",
       "  'HttpProtocolIpv6': 'disabled',\n",
       "  'InstanceMetadataTags': 'disabled'},\n",
       " 'EnclaveOptions': {'Enabled': False},\n",
       " 'BootMode': 'uefi-preferred',\n",
       " 'PlatformDetails': 'Linux/UNIX',\n",
       " 'UsageOperation': 'RunInstances',\n",
       " 'UsageOperationUpdateTime': datetime.datetime(2024, 7, 12, 15, 16, 8, tzinfo=tzlocal()),\n",
       " 'PrivateDnsNameOptions': {'HostnameType': 'ip-name',\n",
       "  'EnableResourceNameDnsARecord': False,\n",
       "  'EnableResourceNameDnsAAAARecord': False},\n",
       " 'MaintenanceOptions': {'AutoRecovery': 'default'},\n",
       " 'CurrentInstanceBootMode': 'uefi'}"
      ]
     },
     "execution_count": 11,
     "metadata": {},
     "output_type": "execute_result"
    }
   ],
   "source": [
    "instance_description = client.describe_instances(InstanceIds=[instance_id])\n",
    "instance_details = instance_description['Reservations'][0]['Instances'][0]\n",
    "instance_details"
   ]
  },
  {
   "cell_type": "code",
   "execution_count": 12,
   "metadata": {},
   "outputs": [
    {
     "data": {
      "text/plain": [
       "{'AmiLaunchIndex': 0,\n",
       " 'ImageId': 'ami-0162fe8bfebb6ea16',\n",
       " 'InstanceId': 'i-07631f2bd336f6537',\n",
       " 'InstanceType': 'r5.4xlarge',\n",
       " 'KeyName': 'grachev_ab_aws_key',\n",
       " 'LaunchTime': datetime.datetime(2024, 7, 12, 15, 16, 8, tzinfo=tzlocal()),\n",
       " 'Monitoring': {'State': 'disabled'},\n",
       " 'Placement': {'AvailabilityZone': 'ap-northeast-1b',\n",
       "  'GroupName': '',\n",
       "  'Tenancy': 'default'},\n",
       " 'PrivateDnsName': 'ip-10-17-79-226.ap-northeast-1.compute.internal',\n",
       " 'PrivateIpAddress': '10.17.79.226',\n",
       " 'ProductCodes': [],\n",
       " 'PublicDnsName': 'ec2-54-168-255-49.ap-northeast-1.compute.amazonaws.com',\n",
       " 'PublicIpAddress': '54.168.255.49',\n",
       " 'State': {'Code': 16, 'Name': 'running'},\n",
       " 'StateTransitionReason': '',\n",
       " 'SubnetId': 'subnet-0e8b8c23ddb1ada49',\n",
       " 'VpcId': 'vpc-042628b8054e095ef',\n",
       " 'Architecture': 'x86_64',\n",
       " 'BlockDeviceMappings': [{'DeviceName': '/dev/sda1',\n",
       "   'Ebs': {'AttachTime': datetime.datetime(2024, 7, 12, 15, 16, 9, tzinfo=tzlocal()),\n",
       "    'DeleteOnTermination': True,\n",
       "    'Status': 'attached',\n",
       "    'VolumeId': 'vol-0ba32d8599bb18884'}}],\n",
       " 'ClientToken': '7e443145-f628-41b2-a9b0-a1177c049d37',\n",
       " 'EbsOptimized': False,\n",
       " 'EnaSupport': True,\n",
       " 'Hypervisor': 'xen',\n",
       " 'InstanceLifecycle': 'spot',\n",
       " 'NetworkInterfaces': [{'Association': {'IpOwnerId': 'amazon',\n",
       "    'PublicDnsName': 'ec2-54-168-255-49.ap-northeast-1.compute.amazonaws.com',\n",
       "    'PublicIp': '54.168.255.49'},\n",
       "   'Attachment': {'AttachTime': datetime.datetime(2024, 7, 12, 15, 16, 8, tzinfo=tzlocal()),\n",
       "    'AttachmentId': 'eni-attach-024b486a5c57023b8',\n",
       "    'DeleteOnTermination': True,\n",
       "    'DeviceIndex': 0,\n",
       "    'Status': 'attached',\n",
       "    'NetworkCardIndex': 0},\n",
       "   'Description': '',\n",
       "   'Groups': [{'GroupName': 'default', 'GroupId': 'sg-0004eeb822745ac47'}],\n",
       "   'Ipv6Addresses': [],\n",
       "   'MacAddress': '06:cb:37:6a:af:eb',\n",
       "   'NetworkInterfaceId': 'eni-0ee29c6c83a22ba3d',\n",
       "   'OwnerId': '185298664982',\n",
       "   'PrivateDnsName': 'ip-10-17-79-226.ap-northeast-1.compute.internal',\n",
       "   'PrivateIpAddress': '10.17.79.226',\n",
       "   'PrivateIpAddresses': [{'Association': {'IpOwnerId': 'amazon',\n",
       "      'PublicDnsName': 'ec2-54-168-255-49.ap-northeast-1.compute.amazonaws.com',\n",
       "      'PublicIp': '54.168.255.49'},\n",
       "     'Primary': True,\n",
       "     'PrivateDnsName': 'ip-10-17-79-226.ap-northeast-1.compute.internal',\n",
       "     'PrivateIpAddress': '10.17.79.226'}],\n",
       "   'SourceDestCheck': True,\n",
       "   'Status': 'in-use',\n",
       "   'SubnetId': 'subnet-0e8b8c23ddb1ada49',\n",
       "   'VpcId': 'vpc-042628b8054e095ef',\n",
       "   'InterfaceType': 'interface'}],\n",
       " 'RootDeviceName': '/dev/sda1',\n",
       " 'RootDeviceType': 'ebs',\n",
       " 'SecurityGroups': [{'GroupName': 'default',\n",
       "   'GroupId': 'sg-0004eeb822745ac47'}],\n",
       " 'SourceDestCheck': True,\n",
       " 'SpotInstanceRequestId': 'sir-g59prewm',\n",
       " 'VirtualizationType': 'hvm',\n",
       " 'CpuOptions': {'CoreCount': 8, 'ThreadsPerCore': 2},\n",
       " 'CapacityReservationSpecification': {'CapacityReservationPreference': 'open'},\n",
       " 'HibernationOptions': {'Configured': False},\n",
       " 'MetadataOptions': {'State': 'applied',\n",
       "  'HttpTokens': 'required',\n",
       "  'HttpPutResponseHopLimit': 2,\n",
       "  'HttpEndpoint': 'enabled',\n",
       "  'HttpProtocolIpv6': 'disabled',\n",
       "  'InstanceMetadataTags': 'disabled'},\n",
       " 'EnclaveOptions': {'Enabled': False},\n",
       " 'BootMode': 'uefi-preferred',\n",
       " 'PlatformDetails': 'Linux/UNIX',\n",
       " 'UsageOperation': 'RunInstances',\n",
       " 'UsageOperationUpdateTime': datetime.datetime(2024, 7, 12, 15, 16, 8, tzinfo=tzlocal()),\n",
       " 'PrivateDnsNameOptions': {'HostnameType': 'ip-name',\n",
       "  'EnableResourceNameDnsARecord': False,\n",
       "  'EnableResourceNameDnsAAAARecord': False},\n",
       " 'MaintenanceOptions': {'AutoRecovery': 'default'},\n",
       " 'CurrentInstanceBootMode': 'uefi'}"
      ]
     },
     "execution_count": 12,
     "metadata": {},
     "output_type": "execute_result"
    }
   ],
   "source": [
    "instance_description = client.describe_instances(InstanceIds=[instance_id])\n",
    "instance_details = instance_description['Reservations'][0]['Instances'][0]\n",
    "instance_details"
   ]
  },
  {
   "cell_type": "code",
   "execution_count": 9,
   "metadata": {},
   "outputs": [
    {
     "data": {
      "text/plain": [
       "{'Code': 16, 'Name': 'running'}"
      ]
     },
     "execution_count": 9,
     "metadata": {},
     "output_type": "execute_result"
    }
   ],
   "source": [
    "ec2 = session.resource('ec2')\n",
    "\n",
    "# Retrieve the instance\n",
    "instance = ec2.Instance(instance_id)\n",
    "\n",
    "# Get the current state of the instance\n",
    "instance.state"
   ]
  },
  {
   "cell_type": "code",
   "execution_count": null,
   "metadata": {},
   "outputs": [],
   "source": []
  }
 ],
 "metadata": {
  "kernelspec": {
   "display_name": ".venv",
   "language": "python",
   "name": "python3"
  },
  "language_info": {
   "codemirror_mode": {
    "name": "ipython",
    "version": 3
   },
   "file_extension": ".py",
   "mimetype": "text/x-python",
   "name": "python",
   "nbconvert_exporter": "python",
   "pygments_lexer": "ipython3",
   "version": "3.10.12"
  }
 },
 "nbformat": 4,
 "nbformat_minor": 2
}
